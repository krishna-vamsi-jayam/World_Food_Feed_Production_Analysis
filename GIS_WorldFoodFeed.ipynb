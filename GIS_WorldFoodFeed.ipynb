{
 "cells": [
  {
   "cell_type": "markdown",
   "metadata": {},
   "source": [
    "#  J. KRISHNA VAMSI"
   ]
  },
  {
   "cell_type": "markdown",
   "metadata": {},
   "source": [
    "# WORLD FOOD FEED PRODUCTION ANALYSIS - USING GRAPHS IN PANDAS"
   ]
  },
  {
   "cell_type": "code",
   "execution_count": 1,
   "metadata": {},
   "outputs": [],
   "source": [
    "import pandas as pd\n",
    "import numpy as np\n",
    "import matplotlib.pyplot as plt\n",
    "import seaborn as sns"
   ]
  },
  {
   "cell_type": "code",
   "execution_count": 2,
   "metadata": {},
   "outputs": [
    {
     "data": {
      "text/html": [
       "        <script type=\"text/javascript\">\n",
       "        window.PlotlyConfig = {MathJaxConfig: 'local'};\n",
       "        if (window.MathJax) {MathJax.Hub.Config({SVG: {font: \"STIX-Web\"}});}\n",
       "        if (typeof require !== 'undefined') {\n",
       "        require.undef(\"plotly\");\n",
       "        requirejs.config({\n",
       "            paths: {\n",
       "                'plotly': ['https://cdn.plot.ly/plotly-latest.min']\n",
       "            }\n",
       "        });\n",
       "        require(['plotly'], function(Plotly) {\n",
       "            window._Plotly = Plotly;\n",
       "        });\n",
       "        }\n",
       "        </script>\n",
       "        "
      ]
     },
     "metadata": {},
     "output_type": "display_data"
    }
   ],
   "source": [
    "import folium\n",
    "from plotly.offline import init_notebook_mode, iplot\n",
    "init_notebook_mode(connected=True)\n",
    "import plotly.graph_objs as gr"
   ]
  },
  {
   "cell_type": "code",
   "execution_count": 3,
   "metadata": {},
   "outputs": [
    {
     "data": {
      "text/html": [
       "<div>\n",
       "<style scoped>\n",
       "    .dataframe tbody tr th:only-of-type {\n",
       "        vertical-align: middle;\n",
       "    }\n",
       "\n",
       "    .dataframe tbody tr th {\n",
       "        vertical-align: top;\n",
       "    }\n",
       "\n",
       "    .dataframe thead th {\n",
       "        text-align: right;\n",
       "    }\n",
       "</style>\n",
       "<table border=\"1\" class=\"dataframe\">\n",
       "  <thead>\n",
       "    <tr style=\"text-align: right;\">\n",
       "      <th></th>\n",
       "      <th>Area Abbreviation</th>\n",
       "      <th>Area Code</th>\n",
       "      <th>Area</th>\n",
       "      <th>Item Code</th>\n",
       "      <th>Item</th>\n",
       "      <th>Element Code</th>\n",
       "      <th>Element</th>\n",
       "      <th>Unit</th>\n",
       "      <th>latitude</th>\n",
       "      <th>longitude</th>\n",
       "      <th>...</th>\n",
       "      <th>Y2004</th>\n",
       "      <th>Y2005</th>\n",
       "      <th>Y2006</th>\n",
       "      <th>Y2007</th>\n",
       "      <th>Y2008</th>\n",
       "      <th>Y2009</th>\n",
       "      <th>Y2010</th>\n",
       "      <th>Y2011</th>\n",
       "      <th>Y2012</th>\n",
       "      <th>Y2013</th>\n",
       "    </tr>\n",
       "  </thead>\n",
       "  <tbody>\n",
       "    <tr>\n",
       "      <th>0</th>\n",
       "      <td>AFG</td>\n",
       "      <td>2</td>\n",
       "      <td>Afghanistan</td>\n",
       "      <td>2511</td>\n",
       "      <td>Wheat and products</td>\n",
       "      <td>5142</td>\n",
       "      <td>Food</td>\n",
       "      <td>1000 tonnes</td>\n",
       "      <td>33.94</td>\n",
       "      <td>67.71</td>\n",
       "      <td>...</td>\n",
       "      <td>3249.0</td>\n",
       "      <td>3486.0</td>\n",
       "      <td>3704.0</td>\n",
       "      <td>4164.0</td>\n",
       "      <td>4252.0</td>\n",
       "      <td>4538.0</td>\n",
       "      <td>4605.0</td>\n",
       "      <td>4711.0</td>\n",
       "      <td>4810</td>\n",
       "      <td>4895</td>\n",
       "    </tr>\n",
       "    <tr>\n",
       "      <th>1</th>\n",
       "      <td>AFG</td>\n",
       "      <td>2</td>\n",
       "      <td>Afghanistan</td>\n",
       "      <td>2805</td>\n",
       "      <td>Rice (Milled Equivalent)</td>\n",
       "      <td>5142</td>\n",
       "      <td>Food</td>\n",
       "      <td>1000 tonnes</td>\n",
       "      <td>33.94</td>\n",
       "      <td>67.71</td>\n",
       "      <td>...</td>\n",
       "      <td>419.0</td>\n",
       "      <td>445.0</td>\n",
       "      <td>546.0</td>\n",
       "      <td>455.0</td>\n",
       "      <td>490.0</td>\n",
       "      <td>415.0</td>\n",
       "      <td>442.0</td>\n",
       "      <td>476.0</td>\n",
       "      <td>425</td>\n",
       "      <td>422</td>\n",
       "    </tr>\n",
       "    <tr>\n",
       "      <th>2</th>\n",
       "      <td>AFG</td>\n",
       "      <td>2</td>\n",
       "      <td>Afghanistan</td>\n",
       "      <td>2513</td>\n",
       "      <td>Barley and products</td>\n",
       "      <td>5521</td>\n",
       "      <td>Feed</td>\n",
       "      <td>1000 tonnes</td>\n",
       "      <td>33.94</td>\n",
       "      <td>67.71</td>\n",
       "      <td>...</td>\n",
       "      <td>58.0</td>\n",
       "      <td>236.0</td>\n",
       "      <td>262.0</td>\n",
       "      <td>263.0</td>\n",
       "      <td>230.0</td>\n",
       "      <td>379.0</td>\n",
       "      <td>315.0</td>\n",
       "      <td>203.0</td>\n",
       "      <td>367</td>\n",
       "      <td>360</td>\n",
       "    </tr>\n",
       "    <tr>\n",
       "      <th>3</th>\n",
       "      <td>AFG</td>\n",
       "      <td>2</td>\n",
       "      <td>Afghanistan</td>\n",
       "      <td>2513</td>\n",
       "      <td>Barley and products</td>\n",
       "      <td>5142</td>\n",
       "      <td>Food</td>\n",
       "      <td>1000 tonnes</td>\n",
       "      <td>33.94</td>\n",
       "      <td>67.71</td>\n",
       "      <td>...</td>\n",
       "      <td>185.0</td>\n",
       "      <td>43.0</td>\n",
       "      <td>44.0</td>\n",
       "      <td>48.0</td>\n",
       "      <td>62.0</td>\n",
       "      <td>55.0</td>\n",
       "      <td>60.0</td>\n",
       "      <td>72.0</td>\n",
       "      <td>78</td>\n",
       "      <td>89</td>\n",
       "    </tr>\n",
       "    <tr>\n",
       "      <th>4</th>\n",
       "      <td>AFG</td>\n",
       "      <td>2</td>\n",
       "      <td>Afghanistan</td>\n",
       "      <td>2514</td>\n",
       "      <td>Maize and products</td>\n",
       "      <td>5521</td>\n",
       "      <td>Feed</td>\n",
       "      <td>1000 tonnes</td>\n",
       "      <td>33.94</td>\n",
       "      <td>67.71</td>\n",
       "      <td>...</td>\n",
       "      <td>120.0</td>\n",
       "      <td>208.0</td>\n",
       "      <td>233.0</td>\n",
       "      <td>249.0</td>\n",
       "      <td>247.0</td>\n",
       "      <td>195.0</td>\n",
       "      <td>178.0</td>\n",
       "      <td>191.0</td>\n",
       "      <td>200</td>\n",
       "      <td>200</td>\n",
       "    </tr>\n",
       "  </tbody>\n",
       "</table>\n",
       "<p>5 rows × 63 columns</p>\n",
       "</div>"
      ],
      "text/plain": [
       "  Area Abbreviation  Area Code         Area  Item Code  \\\n",
       "0               AFG          2  Afghanistan       2511   \n",
       "1               AFG          2  Afghanistan       2805   \n",
       "2               AFG          2  Afghanistan       2513   \n",
       "3               AFG          2  Afghanistan       2513   \n",
       "4               AFG          2  Afghanistan       2514   \n",
       "\n",
       "                       Item  Element Code Element         Unit  latitude  \\\n",
       "0        Wheat and products          5142    Food  1000 tonnes     33.94   \n",
       "1  Rice (Milled Equivalent)          5142    Food  1000 tonnes     33.94   \n",
       "2       Barley and products          5521    Feed  1000 tonnes     33.94   \n",
       "3       Barley and products          5142    Food  1000 tonnes     33.94   \n",
       "4        Maize and products          5521    Feed  1000 tonnes     33.94   \n",
       "\n",
       "   longitude  ...   Y2004   Y2005   Y2006   Y2007   Y2008   Y2009   Y2010  \\\n",
       "0      67.71  ...  3249.0  3486.0  3704.0  4164.0  4252.0  4538.0  4605.0   \n",
       "1      67.71  ...   419.0   445.0   546.0   455.0   490.0   415.0   442.0   \n",
       "2      67.71  ...    58.0   236.0   262.0   263.0   230.0   379.0   315.0   \n",
       "3      67.71  ...   185.0    43.0    44.0    48.0    62.0    55.0    60.0   \n",
       "4      67.71  ...   120.0   208.0   233.0   249.0   247.0   195.0   178.0   \n",
       "\n",
       "    Y2011  Y2012  Y2013  \n",
       "0  4711.0   4810   4895  \n",
       "1   476.0    425    422  \n",
       "2   203.0    367    360  \n",
       "3    72.0     78     89  \n",
       "4   191.0    200    200  \n",
       "\n",
       "[5 rows x 63 columns]"
      ]
     },
     "execution_count": 3,
     "metadata": {},
     "output_type": "execute_result"
    }
   ],
   "source": [
    "df = pd.read_csv(\"FAO.csv\",encoding='latin-1')\n",
    "df.head()"
   ]
  },
  {
   "cell_type": "code",
   "execution_count": 4,
   "metadata": {},
   "outputs": [
    {
     "data": {
      "text/plain": [
       "(21477, 63)"
      ]
     },
     "execution_count": 4,
     "metadata": {},
     "output_type": "execute_result"
    }
   ],
   "source": [
    "df.shape"
   ]
  },
  {
   "cell_type": "code",
   "execution_count": 5,
   "metadata": {},
   "outputs": [
    {
     "data": {
      "text/html": [
       "<div>\n",
       "<style scoped>\n",
       "    .dataframe tbody tr th:only-of-type {\n",
       "        vertical-align: middle;\n",
       "    }\n",
       "\n",
       "    .dataframe tbody tr th {\n",
       "        vertical-align: top;\n",
       "    }\n",
       "\n",
       "    .dataframe thead th {\n",
       "        text-align: right;\n",
       "    }\n",
       "</style>\n",
       "<table border=\"1\" class=\"dataframe\">\n",
       "  <thead>\n",
       "    <tr style=\"text-align: right;\">\n",
       "      <th></th>\n",
       "      <th>Area Code</th>\n",
       "      <th>Item Code</th>\n",
       "      <th>Element Code</th>\n",
       "      <th>latitude</th>\n",
       "      <th>longitude</th>\n",
       "      <th>Y1961</th>\n",
       "      <th>Y1962</th>\n",
       "      <th>Y1963</th>\n",
       "      <th>Y1964</th>\n",
       "      <th>Y1965</th>\n",
       "      <th>...</th>\n",
       "      <th>Y2004</th>\n",
       "      <th>Y2005</th>\n",
       "      <th>Y2006</th>\n",
       "      <th>Y2007</th>\n",
       "      <th>Y2008</th>\n",
       "      <th>Y2009</th>\n",
       "      <th>Y2010</th>\n",
       "      <th>Y2011</th>\n",
       "      <th>Y2012</th>\n",
       "      <th>Y2013</th>\n",
       "    </tr>\n",
       "  </thead>\n",
       "  <tbody>\n",
       "    <tr>\n",
       "      <th>count</th>\n",
       "      <td>21477.000000</td>\n",
       "      <td>21477.000000</td>\n",
       "      <td>21477.000000</td>\n",
       "      <td>21477.000000</td>\n",
       "      <td>21477.000000</td>\n",
       "      <td>17938.000000</td>\n",
       "      <td>17938.000000</td>\n",
       "      <td>17938.000000</td>\n",
       "      <td>17938.000000</td>\n",
       "      <td>17938.000000</td>\n",
       "      <td>...</td>\n",
       "      <td>21128.000000</td>\n",
       "      <td>21128.000000</td>\n",
       "      <td>21373.000000</td>\n",
       "      <td>21373.000000</td>\n",
       "      <td>21373.000000</td>\n",
       "      <td>21373.000000</td>\n",
       "      <td>21373.000000</td>\n",
       "      <td>21373.000000</td>\n",
       "      <td>21477.000000</td>\n",
       "      <td>21477.000000</td>\n",
       "    </tr>\n",
       "    <tr>\n",
       "      <th>mean</th>\n",
       "      <td>125.449411</td>\n",
       "      <td>2694.211529</td>\n",
       "      <td>5211.687154</td>\n",
       "      <td>20.450613</td>\n",
       "      <td>15.794445</td>\n",
       "      <td>195.262069</td>\n",
       "      <td>200.782250</td>\n",
       "      <td>205.464600</td>\n",
       "      <td>209.925577</td>\n",
       "      <td>217.556751</td>\n",
       "      <td>...</td>\n",
       "      <td>486.690742</td>\n",
       "      <td>493.153256</td>\n",
       "      <td>496.319328</td>\n",
       "      <td>508.482104</td>\n",
       "      <td>522.844898</td>\n",
       "      <td>524.581996</td>\n",
       "      <td>535.492069</td>\n",
       "      <td>553.399242</td>\n",
       "      <td>560.569214</td>\n",
       "      <td>575.557480</td>\n",
       "    </tr>\n",
       "    <tr>\n",
       "      <th>std</th>\n",
       "      <td>72.868149</td>\n",
       "      <td>148.973406</td>\n",
       "      <td>146.820079</td>\n",
       "      <td>24.628336</td>\n",
       "      <td>66.012104</td>\n",
       "      <td>1864.124336</td>\n",
       "      <td>1884.265591</td>\n",
       "      <td>1861.174739</td>\n",
       "      <td>1862.000116</td>\n",
       "      <td>2014.934333</td>\n",
       "      <td>...</td>\n",
       "      <td>5001.782008</td>\n",
       "      <td>5100.057036</td>\n",
       "      <td>5134.819373</td>\n",
       "      <td>5298.939807</td>\n",
       "      <td>5496.697513</td>\n",
       "      <td>5545.939303</td>\n",
       "      <td>5721.089425</td>\n",
       "      <td>5883.071604</td>\n",
       "      <td>6047.950804</td>\n",
       "      <td>6218.379479</td>\n",
       "    </tr>\n",
       "    <tr>\n",
       "      <th>min</th>\n",
       "      <td>1.000000</td>\n",
       "      <td>2511.000000</td>\n",
       "      <td>5142.000000</td>\n",
       "      <td>-40.900000</td>\n",
       "      <td>-172.100000</td>\n",
       "      <td>0.000000</td>\n",
       "      <td>0.000000</td>\n",
       "      <td>0.000000</td>\n",
       "      <td>0.000000</td>\n",
       "      <td>0.000000</td>\n",
       "      <td>...</td>\n",
       "      <td>0.000000</td>\n",
       "      <td>0.000000</td>\n",
       "      <td>0.000000</td>\n",
       "      <td>0.000000</td>\n",
       "      <td>0.000000</td>\n",
       "      <td>0.000000</td>\n",
       "      <td>0.000000</td>\n",
       "      <td>0.000000</td>\n",
       "      <td>-169.000000</td>\n",
       "      <td>-246.000000</td>\n",
       "    </tr>\n",
       "    <tr>\n",
       "      <th>25%</th>\n",
       "      <td>63.000000</td>\n",
       "      <td>2561.000000</td>\n",
       "      <td>5142.000000</td>\n",
       "      <td>6.430000</td>\n",
       "      <td>-11.780000</td>\n",
       "      <td>0.000000</td>\n",
       "      <td>0.000000</td>\n",
       "      <td>0.000000</td>\n",
       "      <td>0.000000</td>\n",
       "      <td>0.000000</td>\n",
       "      <td>...</td>\n",
       "      <td>0.000000</td>\n",
       "      <td>0.000000</td>\n",
       "      <td>0.000000</td>\n",
       "      <td>0.000000</td>\n",
       "      <td>0.000000</td>\n",
       "      <td>0.000000</td>\n",
       "      <td>0.000000</td>\n",
       "      <td>0.000000</td>\n",
       "      <td>0.000000</td>\n",
       "      <td>0.000000</td>\n",
       "    </tr>\n",
       "    <tr>\n",
       "      <th>50%</th>\n",
       "      <td>120.000000</td>\n",
       "      <td>2640.000000</td>\n",
       "      <td>5142.000000</td>\n",
       "      <td>20.590000</td>\n",
       "      <td>19.150000</td>\n",
       "      <td>1.000000</td>\n",
       "      <td>1.000000</td>\n",
       "      <td>1.000000</td>\n",
       "      <td>1.000000</td>\n",
       "      <td>1.000000</td>\n",
       "      <td>...</td>\n",
       "      <td>6.000000</td>\n",
       "      <td>6.000000</td>\n",
       "      <td>7.000000</td>\n",
       "      <td>7.000000</td>\n",
       "      <td>7.000000</td>\n",
       "      <td>7.000000</td>\n",
       "      <td>7.000000</td>\n",
       "      <td>8.000000</td>\n",
       "      <td>8.000000</td>\n",
       "      <td>8.000000</td>\n",
       "    </tr>\n",
       "    <tr>\n",
       "      <th>75%</th>\n",
       "      <td>188.000000</td>\n",
       "      <td>2782.000000</td>\n",
       "      <td>5142.000000</td>\n",
       "      <td>41.150000</td>\n",
       "      <td>46.870000</td>\n",
       "      <td>21.000000</td>\n",
       "      <td>22.000000</td>\n",
       "      <td>23.000000</td>\n",
       "      <td>24.000000</td>\n",
       "      <td>25.000000</td>\n",
       "      <td>...</td>\n",
       "      <td>75.000000</td>\n",
       "      <td>77.000000</td>\n",
       "      <td>78.000000</td>\n",
       "      <td>80.000000</td>\n",
       "      <td>82.000000</td>\n",
       "      <td>83.000000</td>\n",
       "      <td>83.000000</td>\n",
       "      <td>86.000000</td>\n",
       "      <td>88.000000</td>\n",
       "      <td>90.000000</td>\n",
       "    </tr>\n",
       "    <tr>\n",
       "      <th>max</th>\n",
       "      <td>276.000000</td>\n",
       "      <td>2961.000000</td>\n",
       "      <td>5521.000000</td>\n",
       "      <td>64.960000</td>\n",
       "      <td>179.410000</td>\n",
       "      <td>112227.000000</td>\n",
       "      <td>109130.000000</td>\n",
       "      <td>106356.000000</td>\n",
       "      <td>104234.000000</td>\n",
       "      <td>119378.000000</td>\n",
       "      <td>...</td>\n",
       "      <td>360767.000000</td>\n",
       "      <td>373694.000000</td>\n",
       "      <td>388100.000000</td>\n",
       "      <td>402975.000000</td>\n",
       "      <td>425537.000000</td>\n",
       "      <td>434724.000000</td>\n",
       "      <td>451838.000000</td>\n",
       "      <td>462696.000000</td>\n",
       "      <td>479028.000000</td>\n",
       "      <td>489299.000000</td>\n",
       "    </tr>\n",
       "  </tbody>\n",
       "</table>\n",
       "<p>8 rows × 58 columns</p>\n",
       "</div>"
      ],
      "text/plain": [
       "          Area Code     Item Code  Element Code      latitude     longitude  \\\n",
       "count  21477.000000  21477.000000  21477.000000  21477.000000  21477.000000   \n",
       "mean     125.449411   2694.211529   5211.687154     20.450613     15.794445   \n",
       "std       72.868149    148.973406    146.820079     24.628336     66.012104   \n",
       "min        1.000000   2511.000000   5142.000000    -40.900000   -172.100000   \n",
       "25%       63.000000   2561.000000   5142.000000      6.430000    -11.780000   \n",
       "50%      120.000000   2640.000000   5142.000000     20.590000     19.150000   \n",
       "75%      188.000000   2782.000000   5142.000000     41.150000     46.870000   \n",
       "max      276.000000   2961.000000   5521.000000     64.960000    179.410000   \n",
       "\n",
       "               Y1961          Y1962          Y1963          Y1964  \\\n",
       "count   17938.000000   17938.000000   17938.000000   17938.000000   \n",
       "mean      195.262069     200.782250     205.464600     209.925577   \n",
       "std      1864.124336    1884.265591    1861.174739    1862.000116   \n",
       "min         0.000000       0.000000       0.000000       0.000000   \n",
       "25%         0.000000       0.000000       0.000000       0.000000   \n",
       "50%         1.000000       1.000000       1.000000       1.000000   \n",
       "75%        21.000000      22.000000      23.000000      24.000000   \n",
       "max    112227.000000  109130.000000  106356.000000  104234.000000   \n",
       "\n",
       "               Y1965  ...          Y2004          Y2005          Y2006  \\\n",
       "count   17938.000000  ...   21128.000000   21128.000000   21373.000000   \n",
       "mean      217.556751  ...     486.690742     493.153256     496.319328   \n",
       "std      2014.934333  ...    5001.782008    5100.057036    5134.819373   \n",
       "min         0.000000  ...       0.000000       0.000000       0.000000   \n",
       "25%         0.000000  ...       0.000000       0.000000       0.000000   \n",
       "50%         1.000000  ...       6.000000       6.000000       7.000000   \n",
       "75%        25.000000  ...      75.000000      77.000000      78.000000   \n",
       "max    119378.000000  ...  360767.000000  373694.000000  388100.000000   \n",
       "\n",
       "               Y2007          Y2008          Y2009          Y2010  \\\n",
       "count   21373.000000   21373.000000   21373.000000   21373.000000   \n",
       "mean      508.482104     522.844898     524.581996     535.492069   \n",
       "std      5298.939807    5496.697513    5545.939303    5721.089425   \n",
       "min         0.000000       0.000000       0.000000       0.000000   \n",
       "25%         0.000000       0.000000       0.000000       0.000000   \n",
       "50%         7.000000       7.000000       7.000000       7.000000   \n",
       "75%        80.000000      82.000000      83.000000      83.000000   \n",
       "max    402975.000000  425537.000000  434724.000000  451838.000000   \n",
       "\n",
       "               Y2011          Y2012          Y2013  \n",
       "count   21373.000000   21477.000000   21477.000000  \n",
       "mean      553.399242     560.569214     575.557480  \n",
       "std      5883.071604    6047.950804    6218.379479  \n",
       "min         0.000000    -169.000000    -246.000000  \n",
       "25%         0.000000       0.000000       0.000000  \n",
       "50%         8.000000       8.000000       8.000000  \n",
       "75%        86.000000      88.000000      90.000000  \n",
       "max    462696.000000  479028.000000  489299.000000  \n",
       "\n",
       "[8 rows x 58 columns]"
      ]
     },
     "execution_count": 5,
     "metadata": {},
     "output_type": "execute_result"
    }
   ],
   "source": [
    "df.describe()"
   ]
  },
  {
   "cell_type": "markdown",
   "metadata": {},
   "source": [
    "# CHECKING FOR NULL VALUES"
   ]
  },
  {
   "cell_type": "code",
   "execution_count": 6,
   "metadata": {},
   "outputs": [
    {
     "data": {
      "text/plain": [
       "Area Abbreviation       0\n",
       "Area Code               0\n",
       "Area                    0\n",
       "Item Code               0\n",
       "Item                    0\n",
       "Element Code            0\n",
       "Element                 0\n",
       "Unit                    0\n",
       "latitude                0\n",
       "longitude               0\n",
       "Y1961                3539\n",
       "Y1962                3539\n",
       "Y1963                3539\n",
       "Y1964                3539\n",
       "Y1965                3539\n",
       "Y1966                3539\n",
       "Y1967                3539\n",
       "Y1968                3539\n",
       "Y1969                3539\n",
       "Y1970                3539\n",
       "Y1971                3539\n",
       "Y1972                3539\n",
       "Y1973                3539\n",
       "Y1974                3539\n",
       "Y1975                3539\n",
       "Y1976                3539\n",
       "Y1977                3539\n",
       "Y1978                3539\n",
       "Y1979                3539\n",
       "Y1980                3539\n",
       "                     ... \n",
       "Y1984                3539\n",
       "Y1985                3539\n",
       "Y1986                3539\n",
       "Y1987                3539\n",
       "Y1988                3539\n",
       "Y1989                3539\n",
       "Y1990                3415\n",
       "Y1991                3415\n",
       "Y1992                 987\n",
       "Y1993                 612\n",
       "Y1994                 612\n",
       "Y1995                 612\n",
       "Y1996                 612\n",
       "Y1997                 612\n",
       "Y1998                 612\n",
       "Y1999                 612\n",
       "Y2000                 349\n",
       "Y2001                 349\n",
       "Y2002                 349\n",
       "Y2003                 349\n",
       "Y2004                 349\n",
       "Y2005                 349\n",
       "Y2006                 104\n",
       "Y2007                 104\n",
       "Y2008                 104\n",
       "Y2009                 104\n",
       "Y2010                 104\n",
       "Y2011                 104\n",
       "Y2012                   0\n",
       "Y2013                   0\n",
       "Length: 63, dtype: int64"
      ]
     },
     "execution_count": 6,
     "metadata": {},
     "output_type": "execute_result"
    }
   ],
   "source": [
    "df.isnull().sum()"
   ]
  },
  {
   "cell_type": "markdown",
   "metadata": {},
   "source": [
    "# DROPPING ALL THE NULL VALUES. Removed Countries Like Corotia, Sundan since no values for records have been found"
   ]
  },
  {
   "cell_type": "code",
   "execution_count": 7,
   "metadata": {},
   "outputs": [],
   "source": [
    "data=df.dropna()"
   ]
  },
  {
   "cell_type": "code",
   "execution_count": 8,
   "metadata": {},
   "outputs": [
    {
     "name": "stdout",
     "output_type": "stream",
     "text": [
      "Area Abbreviation    0\n",
      "Area Code            0\n",
      "Area                 0\n",
      "Item Code            0\n",
      "Item                 0\n",
      "Element Code         0\n",
      "Element              0\n",
      "Unit                 0\n",
      "latitude             0\n",
      "longitude            0\n",
      "Y1961                0\n",
      "Y1962                0\n",
      "Y1963                0\n",
      "Y1964                0\n",
      "Y1965                0\n",
      "Y1966                0\n",
      "Y1967                0\n",
      "Y1968                0\n",
      "Y1969                0\n",
      "Y1970                0\n",
      "Y1971                0\n",
      "Y1972                0\n",
      "Y1973                0\n",
      "Y1974                0\n",
      "Y1975                0\n",
      "Y1976                0\n",
      "Y1977                0\n",
      "Y1978                0\n",
      "Y1979                0\n",
      "Y1980                0\n",
      "                    ..\n",
      "Y1984                0\n",
      "Y1985                0\n",
      "Y1986                0\n",
      "Y1987                0\n",
      "Y1988                0\n",
      "Y1989                0\n",
      "Y1990                0\n",
      "Y1991                0\n",
      "Y1992                0\n",
      "Y1993                0\n",
      "Y1994                0\n",
      "Y1995                0\n",
      "Y1996                0\n",
      "Y1997                0\n",
      "Y1998                0\n",
      "Y1999                0\n",
      "Y2000                0\n",
      "Y2001                0\n",
      "Y2002                0\n",
      "Y2003                0\n",
      "Y2004                0\n",
      "Y2005                0\n",
      "Y2006                0\n",
      "Y2007                0\n",
      "Y2008                0\n",
      "Y2009                0\n",
      "Y2010                0\n",
      "Y2011                0\n",
      "Y2012                0\n",
      "Y2013                0\n",
      "Length: 63, dtype: int64\n",
      "(17938, 63)\n"
     ]
    }
   ],
   "source": [
    "print(data.isnull().sum())\n",
    "print(data.shape)"
   ]
  },
  {
   "cell_type": "code",
   "execution_count": 9,
   "metadata": {},
   "outputs": [
    {
     "name": "stdout",
     "output_type": "stream",
     "text": [
      "The Food Feed analysis is being done for 146 countries.\n",
      "\n"
     ]
    }
   ],
   "source": [
    "print(\"The Food Feed analysis is being done for {} countries.\\n\".format(len(data.Area.unique())))\n"
   ]
  },
  {
   "cell_type": "markdown",
   "metadata": {},
   "source": [
    "### UNIVARIATE ANALYSIS"
   ]
  },
  {
   "cell_type": "code",
   "execution_count": 11,
   "metadata": {},
   "outputs": [
    {
     "data": {
      "image/png": "[encoded data removed]",
      "text/plain": [
       "<Figure size 360x360 with 1 Axes>"
      ]
     },
     "metadata": {
      "needs_background": "light"
     },
     "output_type": "display_data"
    }
   ],
   "source": [
    "sns.catplot('Element', data = data, kind = 'count');"
   ]
  },
  {
   "cell_type": "markdown",
   "metadata": {},
   "source": [
    "#### Adding a new Attribute \"total\" which is the sum of all years production"
   ]
  },
  {
   "cell_type": "code",
   "execution_count": 12,
   "metadata": {},
   "outputs": [
    {
     "name": "stdout",
     "output_type": "stream",
     "text": [
      "(17938, 64)\n"
     ]
    },
    {
     "name": "stderr",
     "output_type": "stream",
     "text": [
      "c:\\users\\lenovo\\lib\\site-packages\\ipykernel_launcher.py:8: SettingWithCopyWarning:\n",
      "\n",
      "\n",
      "A value is trying to be set on a copy of a slice from a DataFrame.\n",
      "Try using .loc[row_indexer,col_indexer] = value instead\n",
      "\n",
      "See the caveats in the documentation: http://pandas.pydata.org/pandas-docs/stable/indexing.html#indexing-view-versus-copy\n",
      "\n"
     ]
    }
   ],
   "source": [
    "data['total'] = (data['Y1961'] + data['Y1962'] + data['Y1963'] + data['Y1964'] + data['Y1965'] + data['Y1966'] + \n",
    "    data['Y1967'] + data['Y1968'] + data['Y1969'] + data['Y1970'] + data['Y1971'] + data['Y1972'] + data['Y1973'] +\n",
    "    data['Y1974'] + data['Y1975'] + data['Y1976'] + data['Y1977'] + data['Y1978'] + data['Y1979'] + data['Y1980'] + \n",
    "    data['Y1981'] + data['Y1982'] + data['Y1983'] + data['Y1984'] + data['Y1985'] + data['Y1986'] + data['Y1987'] + \n",
    "    data['Y1988'] + data['Y1989'] + data['Y1990'] + data['Y1991'] + data['Y1992'] + data['Y1993'] + data['Y1994'] + \n",
    "    data['Y1995'] + data['Y1996'] + data['Y1997'] + data['Y1998'] + data['Y1999'] + data['Y2000'] + data['Y2001'] + \n",
    "    data['Y2001'] + data['Y2002'] + data['Y2003'] + data['Y2004'] + data['Y2005'] + data['Y2006'] + data['Y2007'] + \n",
    "    data['Y2008'] + data['Y2009'] + data['Y2010'] + data['Y2011'] + data['Y2012'] + data['Y2013'] )\n",
    "print(data.shape)"
   ]
  },
  {
   "cell_type": "markdown",
   "metadata": {},
   "source": [
    "## Plotting of Mean, 1961, 2013 production values to analyse the variations"
   ]
  },
  {
   "cell_type": "code",
   "execution_count": 13,
   "metadata": {},
   "outputs": [
    {
     "data": {
      "application/vnd.plotly.v1+json": {
       "config": {
        "linkText": "Export to plot.ly",
        "plotlyServerURL": "https://plot.ly",
        "showLink": false
       },
       "data": [
        {
         "colorscale": [
          [
           0,
           "rgb(255,255,204)"
          ],
          [
           0.125,
           "rgb(255,237,160)"
          ],
          [
           0.25,
           "rgb(254,217,118)"
          ],
          [
           0.375,
           "rgb(254,178,76)"
          ],
          [
           0.5,
           "rgb(253,141,60)"
          ],
          [
           0.625,
           "rgb(252,78,42)"
          ],
          [
           0.75,
           "rgb(227,26,28)"
          ],
          [
           0.875,
           "rgb(189,0,38)"
          ],
          [
           1,
           "rgb(128,0,38)"
          ]
         ],
         "locationmode": "country names",
         "locations": [
          "Afghanistan",
          "Albania",
          "Algeria",
          "Angola",
          "Antigua and Barbuda",
          "Argentina",
          "Australia",
          "Austria",
          "Bahamas",
          "Bangladesh",
          "Barbados",
          "Belize",
          "Benin",
          "Bermuda",
          "Bolivia (Plurinational State of)",
          "Botswana",
          "Brazil",
          "Brunei Darussalam",
          "Bulgaria",
          "Burkina Faso",
          "Cabo Verde",
          "Cambodia",
          "Cameroon",
          "Canada",
          "Central African Republic",
          "Chad",
          "Chile",
          "China, Hong Kong SAR",
          "China, Macao SAR",
          "China, Taiwan Province of",
          "China, mainland",
          "Colombia",
          "Congo",
          "Costa Rica",
          "Cuba",
          "Cyprus",
          "Côte d'Ivoire",
          "Democratic People's Republic of Korea",
          "Denmark",
          "Djibouti",
          "Dominica",
          "Dominican Republic",
          "Ecuador",
          "Egypt",
          "El Salvador",
          "Fiji",
          "Finland",
          "France",
          "French Polynesia",
          "Gabon",
          "Gambia",
          "Germany",
          "Ghana",
          "Greece",
          "Grenada",
          "Guatemala",
          "Guinea",
          "Guinea-Bissau",
          "Guyana",
          "Haiti",
          "Honduras",
          "Hungary",
          "Iceland",
          "India",
          "Indonesia",
          "Iran (Islamic Republic of)",
          "Iraq",
          "Ireland",
          "Israel",
          "Italy",
          "Jamaica",
          "Japan",
          "Jordan",
          "Kenya",
          "Kiribati",
          "Kuwait",
          "Lao People's Democratic Republic",
          "Lebanon",
          "Lesotho",
          "Liberia",
          "Madagascar",
          "Malawi",
          "Malaysia",
          "Maldives",
          "Mali",
          "Malta",
          "Mauritania",
          "Mauritius",
          "Mexico",
          "Mongolia",
          "Morocco",
          "Mozambique",
          "Myanmar",
          "Namibia",
          "Nepal",
          "Netherlands",
          "New Caledonia",
          "New Zealand",
          "Nicaragua",
          "Niger",
          "Nigeria",
          "Norway",
          "Pakistan",
          "Panama",
          "Paraguay",
          "Peru",
          "Philippines",
          "Poland",
          "Portugal",
          "Republic of Korea",
          "Romania",
          "Rwanda",
          "Saint Kitts and Nevis",
          "Saint Lucia",
          "Saint Vincent and the Grenadines",
          "Samoa",
          "Sao Tome and Principe",
          "Saudi Arabia",
          "Senegal",
          "Sierra Leone",
          "Solomon Islands",
          "South Africa",
          "Spain",
          "Sri Lanka",
          "Suriname",
          "Swaziland",
          "Sweden",
          "Switzerland",
          "Thailand",
          "Timor-Leste",
          "Togo",
          "Trinidad and Tobago",
          "Tunisia",
          "Turkey",
          "Uganda",
          "United Arab Emirates",
          "United Kingdom",
          "United Republic of Tanzania",
          "United States of America",
          "Uruguay",
          "Vanuatu",
          "Venezuela (Bolivarian Republic of)",
          "Viet Nam",
          "Yemen",
          "Zambia",
          "Zimbabwe"
         ],
         "text": [
          "Afghanistan",
          "Albania",
          "Algeria",
          "Angola",
          "Antigua and Barbuda",
          "Argentina",
          "Australia",
          "Austria",
          "Bahamas",
          "Bangladesh",
          "Barbados",
          "Belize",
          "Benin",
          "Bermuda",
          "Bolivia (Plurinational State of)",
          "Botswana",
          "Brazil",
          "Brunei Darussalam",
          "Bulgaria",
          "Burkina Faso",
          "Cabo Verde",
          "Cambodia",
          "Cameroon",
          "Canada",
          "Central African Republic",
          "Chad",
          "Chile",
          "China, Hong Kong SAR",
          "China, Macao SAR",
          "China, Taiwan Province of",
          "China, mainland",
          "Colombia",
          "Congo",
          "Costa Rica",
          "Cuba",
          "Cyprus",
          "Côte d'Ivoire",
          "Democratic People's Republic of Korea",
          "Denmark",
          "Djibouti",
          "Dominica",
          "Dominican Republic",
          "Ecuador",
          "Egypt",
          "El Salvador",
          "Fiji",
          "Finland",
          "France",
          "French Polynesia",
          "Gabon",
          "Gambia",
          "Germany",
          "Ghana",
          "Greece",
          "Grenada",
          "Guatemala",
          "Guinea",
          "Guinea-Bissau",
          "Guyana",
          "Haiti",
          "Honduras",
          "Hungary",
          "Iceland",
          "India",
          "Indonesia",
          "Iran (Islamic Republic of)",
          "Iraq",
          "Ireland",
          "Israel",
          "Italy",
          "Jamaica",
          "Japan",
          "Jordan",
          "Kenya",
          "Kiribati",
          "Kuwait",
          "Lao People's Democratic Republic",
          "Lebanon",
          "Lesotho",
          "Liberia",
          "Madagascar",
          "Malawi",
          "Malaysia",
          "Maldives",
          "Mali",
          "Malta",
          "Mauritania",
          "Mauritius",
          "Mexico",
          "Mongolia",
          "Morocco",
          "Mozambique",
          "Myanmar",
          "Namibia",
          "Nepal",
          "Netherlands",
          "New Caledonia",
          "New Zealand",
          "Nicaragua",
          "Niger",
          "Nigeria",
          "Norway",
          "Pakistan",
          "Panama",
          "Paraguay",
          "Peru",
          "Philippines",
          "Poland",
          "Portugal",
          "Republic of Korea",
          "Romania",
          "Rwanda",
          "Saint Kitts and Nevis",
          "Saint Lucia",
          "Saint Vincent and the Grenadines",
          "Samoa",
          "Sao Tome and Principe",
          "Saudi Arabia",
          "Senegal",
          "Sierra Leone",
          "Solomon Islands",
          "South Africa",
          "Spain",
          "Sri Lanka",
          "Suriname",
          "Swaziland",
          "Sweden",
          "Switzerland",
          "Thailand",
          "Timor-Leste",
          "Togo",
          "Trinidad and Tobago",
          "Tunisia",
          "Turkey",
          "Uganda",
          "United Arab Emirates",
          "United Kingdom",
          "United Republic of Tanzania",
          "United States of America",
          "Uruguay",
          "Vanuatu",
          "Venezuela (Bolivarian Republic of)",
          "Viet Nam",
          "Yemen",
          "Zambia",
          "Zimbabwe"
         ],
         "type": "choropleth",
         "z": [
          8461.096385542169,
          1979.9349593495936,
          12666.032258064517,
          6635.477064220184,
          38.76068376068376,
          27270.50406504065,
          18192.8203125,
          9349.812949640287,
          170.5,
          27143.268292682926,
          172.5785123966942,
          141.23214285714286,
          2950.264957264957,
          48.81553398058252,
          3385.1311475409834,
          548.328,
          103213.54744525548,
          130.80833333333334,
          8344.425373134329,
          4205.547826086957,
          191.83018867924528,
          2971.189655172414,
          6582.896,
          35240.62142857143,
          1546.7247706422017,
          2169.5048543689322,
          8888.953125,
          2947.1729323308273,
          159.099173553719,
          13096.120567375887,
          537457.5479452055,
          17830.409090909092,
          1214.875,
          1760.9767441860465,
          8066.350364963504,
          770.8074074074074,
          7123.689075630252,
          11340.350515463917,
          10011.870503597122,
          156,
          67.95495495495496,
          4108.848214285715,
          6147.082089552238,
          33668.611940298506,
          2133.4846153846156,
          366.248,
          6018.609022556391,
          64079.56428571429,
          118.62809917355372,
          698.0416666666666,
          325.6111111111111,
          85130.51700680272,
          9966.266666666666,
          10423.895104895106,
          54.275,
          3291.746153846154,
          3226.714285714286,
          432.8901098901099,
          564.5042016806723,
          2872.4,
          2123.568181818182,
          12579.521126760563,
          251.336,
          279858.9029850746,
          59368.48412698413,
          34523.59166666667,
          8788.725,
          5132.529411764706,
          4934.385185185185,
          53314.67567567567,
          1459.873949579832,
          70240.6993006993,
          2047.9448818897638,
          9571.314960629921,
          48.0531914893617,
          1233.049180327869,
          1949.0882352941176,
          2218.6356589147285,
          850.7466666666667,
          1108.080808080808,
          5314.808,
          4036.325,
          8347.597014925374,
          122.0576923076923,
          3438.9827586206898,
          329.9769230769231,
          865.6379310344828,
          494.97478991596637,
          51065.661654135336,
          1025.517543859649,
          11754.581395348838,
          6569.649122807017,
          15291.714285714286,
          653.1404958677685,
          7090.1322314049585,
          20174.22695035461,
          109.14728682170542,
          3634.2014925373132,
          1326.0697674418604,
          3367.7033898305085,
          57682.0534351145,
          4741.628571428571,
          41076.082706766916,
          1239.1307692307691,
          4599.516393442623,
          10098.060606060606,
          25452.359154929578,
          54573.63970588235,
          9445.029850746268,
          25751.20895522388,
          23032.64748201439,
          4821.925925925926,
          21.747474747474747,
          90.04347826086956,
          62.88990825688074,
          126.02777777777777,
          83.35164835164835,
          9826.530769230769,
          2465.9083333333333,
          1561.8648648648648,
          219.04,
          17850.135714285716,
          39237.18,
          5987.299212598426,
          248.75862068965517,
          386.7435897435897,
          9016.295774647888,
          7196.368794326241,
          24286.41221374046,
          384.1511627906977,
          1607.8,
          656.2136752136752,
          5027.706349206349,
          48464.09375,
          12878.551181102363,
          1870.5537190082644,
          51209.0979020979,
          12641.558139534884,
          302626.8014184397,
          2392.3629032258063,
          121.20833333333333,
          10582.546153846153,
          28903.70642201835,
          3967.72268907563,
          2691.983333333333,
          2972.5537190082646
         ]
        }
       ],
       "layout": {
        "template": {
         "data": {
          "bar": [
           {
            "error_x": {
             "color": "#2a3f5f"
            },
            "error_y": {
             "color": "#2a3f5f"
            },
            "marker": {
             "line": {
              "color": "#E5ECF6",
              "width": 0.5
             }
            },
            "type": "bar"
           }
          ],
          "barpolar": [
           {
            "marker": {
             "line": {
              "color": "#E5ECF6",
              "width": 0.5
             }
            },
            "type": "barpolar"
           }
          ],
          "carpet": [
           {
            "aaxis": {
             "endlinecolor": "#2a3f5f",
             "gridcolor": "white",
             "linecolor": "white",
             "minorgridcolor": "white",
             "startlinecolor": "#2a3f5f"
            },
            "baxis": {
             "endlinecolor": "#2a3f5f",
             "gridcolor": "white",
             "linecolor": "white",
             "minorgridcolor": "white",
             "startlinecolor": "#2a3f5f"
            },
            "type": "carpet"
           }
          ],
          "choropleth": [
           {
            "colorbar": {
             "outlinewidth": 0,
             "ticks": ""
            },
            "type": "choropleth"
           }
          ],
          "contour": [
           {
            "colorbar": {
             "outlinewidth": 0,
             "ticks": ""
            },
            "colorscale": [
             [
              0,
              "#0d0887"
             ],
             [
              0.1111111111111111,
              "#46039f"
             ],
             [
              0.2222222222222222,
              "#7201a8"
             ],
             [
              0.3333333333333333,
              "#9c179e"
             ],
             [
              0.4444444444444444,
              "#bd3786"
             ],
             [
              0.5555555555555556,
              "#d8576b"
             ],
             [
              0.6666666666666666,
              "#ed7953"
             ],
             [
              0.7777777777777778,
              "#fb9f3a"
             ],
             [
              0.8888888888888888,
              "#fdca26"
             ],
             [
              1,
              "#f0f921"
             ]
            ],
            "type": "contour"
           }
          ],
          "contourcarpet": [
           {
            "colorbar": {
             "outlinewidth": 0,
             "ticks": ""
            },
            "type": "contourcarpet"
           }
          ],
          "heatmap": [
           {
            "colorbar": {
             "outlinewidth": 0,
             "ticks": ""
            },
            "colorscale": [
             [
              0,
              "#0d0887"
             ],
             [
              0.1111111111111111,
              "#46039f"
             ],
             [
              0.2222222222222222,
              "#7201a8"
             ],
             [
              0.3333333333333333,
              "#9c179e"
             ],
             [
              0.4444444444444444,
              "#bd3786"
             ],
             [
              0.5555555555555556,
              "#d8576b"
             ],
             [
              0.6666666666666666,
              "#ed7953"
             ],
             [
              0.7777777777777778,
              "#fb9f3a"
             ],
             [
              0.8888888888888888,
              "#fdca26"
             ],
             [
              1,
              "#f0f921"
             ]
            ],
            "type": "heatmap"
           }
          ],
          "heatmapgl": [
           {
            "colorbar": {
             "outlinewidth": 0,
             "ticks": ""
            },
            "colorscale": [
             [
              0,
              "#0d0887"
             ],
             [
              0.1111111111111111,
              "#46039f"
             ],
             [
              0.2222222222222222,
              "#7201a8"
             ],
             [
              0.3333333333333333,
              "#9c179e"
             ],
             [
              0.4444444444444444,
              "#bd3786"
             ],
             [
              0.5555555555555556,
              "#d8576b"
             ],
             [
              0.6666666666666666,
              "#ed7953"
             ],
             [
              0.7777777777777778,
              "#fb9f3a"
             ],
             [
              0.8888888888888888,
              "#fdca26"
             ],
             [
              1,
              "#f0f921"
             ]
            ],
            "type": "heatmapgl"
           }
          ],
          "histogram": [
           {
            "marker": {
             "colorbar": {
              "outlinewidth": 0,
              "ticks": ""
             }
            },
            "type": "histogram"
           }
          ],
          "histogram2d": [
           {
            "colorbar": {
             "outlinewidth": 0,
             "ticks": ""
            },
            "colorscale": [
             [
              0,
              "#0d0887"
             ],
             [
              0.1111111111111111,
              "#46039f"
             ],
             [
              0.2222222222222222,
              "#7201a8"
             ],
             [
              0.3333333333333333,
              "#9c179e"
             ],
             [
              0.4444444444444444,
              "#bd3786"
             ],
             [
              0.5555555555555556,
              "#d8576b"
             ],
             [
              0.6666666666666666,
              "#ed7953"
             ],
             [
              0.7777777777777778,
              "#fb9f3a"
             ],
             [
              0.8888888888888888,
              "#fdca26"
             ],
             [
              1,
              "#f0f921"
             ]
            ],
            "type": "histogram2d"
           }
          ],
          "histogram2dcontour": [
           {
            "colorbar": {
             "outlinewidth": 0,
             "ticks": ""
            },
            "colorscale": [
             [
              0,
              "#0d0887"
             ],
             [
              0.1111111111111111,
              "#46039f"
             ],
             [
              0.2222222222222222,
              "#7201a8"
             ],
             [
              0.3333333333333333,
              "#9c179e"
             ],
             [
              0.4444444444444444,
              "#bd3786"
             ],
             [
              0.5555555555555556,
              "#d8576b"
             ],
             [
              0.6666666666666666,
              "#ed7953"
             ],
             [
              0.7777777777777778,
              "#fb9f3a"
             ],
             [
              0.8888888888888888,
              "#fdca26"
             ],
             [
              1,
              "#f0f921"
             ]
            ],
            "type": "histogram2dcontour"
           }
          ],
          "mesh3d": [
           {
            "colorbar": {
             "outlinewidth": 0,
             "ticks": ""
            },
            "type": "mesh3d"
           }
          ],
          "parcoords": [
           {
            "line": {
             "colorbar": {
              "outlinewidth": 0,
              "ticks": ""
             }
            },
            "type": "parcoords"
           }
          ],
          "pie": [
           {
            "automargin": true,
            "type": "pie"
           }
          ],
          "scatter": [
           {
            "marker": {
             "colorbar": {
              "outlinewidth": 0,
              "ticks": ""
             }
            },
            "type": "scatter"
           }
          ],
          "scatter3d": [
           {
            "line": {
             "colorbar": {
              "outlinewidth": 0,
              "ticks": ""
             }
            },
            "marker": {
             "colorbar": {
              "outlinewidth": 0,
              "ticks": ""
             }
            },
            "type": "scatter3d"
           }
          ],
          "scattercarpet": [
           {
            "marker": {
             "colorbar": {
              "outlinewidth": 0,
              "ticks": ""
             }
            },
            "type": "scattercarpet"
           }
          ],
          "scattergeo": [
           {
            "marker": {
             "colorbar": {
              "outlinewidth": 0,
              "ticks": ""
             }
            },
            "type": "scattergeo"
           }
          ],
          "scattergl": [
           {
            "marker": {
             "colorbar": {
              "outlinewidth": 0,
              "ticks": ""
             }
            },
            "type": "scattergl"
           }
          ],
          "scattermapbox": [
           {
            "marker": {
             "colorbar": {
              "outlinewidth": 0,
              "ticks": ""
             }
            },
            "type": "scattermapbox"
           }
          ],
          "scatterpolar": [
           {
            "marker": {
             "colorbar": {
              "outlinewidth": 0,
              "ticks": ""
             }
            },
            "type": "scatterpolar"
           }
          ],
          "scatterpolargl": [
           {
            "marker": {
             "colorbar": {
              "outlinewidth": 0,
              "ticks": ""
             }
            },
            "type": "scatterpolargl"
           }
          ],
          "scatterternary": [
           {
            "marker": {
             "colorbar": {
              "outlinewidth": 0,
              "ticks": ""
             }
            },
            "type": "scatterternary"
           }
          ],
          "surface": [
           {
            "colorbar": {
             "outlinewidth": 0,
             "ticks": ""
            },
            "colorscale": [
             [
              0,
              "#0d0887"
             ],
             [
              0.1111111111111111,
              "#46039f"
             ],
             [
              0.2222222222222222,
              "#7201a8"
             ],
             [
              0.3333333333333333,
              "#9c179e"
             ],
             [
              0.4444444444444444,
              "#bd3786"
             ],
             [
              0.5555555555555556,
              "#d8576b"
             ],
             [
              0.6666666666666666,
              "#ed7953"
             ],
             [
              0.7777777777777778,
              "#fb9f3a"
             ],
             [
              0.8888888888888888,
              "#fdca26"
             ],
             [
              1,
              "#f0f921"
             ]
            ],
            "type": "surface"
           }
          ],
          "table": [
           {
            "cells": {
             "fill": {
              "color": "#EBF0F8"
             },
             "line": {
              "color": "white"
             }
            },
            "header": {
             "fill": {
              "color": "#C8D4E3"
             },
             "line": {
              "color": "white"
             }
            },
            "type": "table"
           }
          ]
         },
         "layout": {
          "annotationdefaults": {
           "arrowcolor": "#2a3f5f",
           "arrowhead": 0,
           "arrowwidth": 1
          },
          "coloraxis": {
           "colorbar": {
            "outlinewidth": 0,
            "ticks": ""
           }
          },
          "colorscale": {
           "diverging": [
            [
             0,
             "#8e0152"
            ],
            [
             0.1,
             "#c51b7d"
            ],
            [
             0.2,
             "#de77ae"
            ],
            [
             0.3,
             "#f1b6da"
            ],
            [
             0.4,
             "#fde0ef"
            ],
            [
             0.5,
             "#f7f7f7"
            ],
            [
             0.6,
             "#e6f5d0"
            ],
            [
             0.7,
             "#b8e186"
            ],
            [
             0.8,
             "#7fbc41"
            ],
            [
             0.9,
             "#4d9221"
            ],
            [
             1,
             "#276419"
            ]
           ],
           "sequential": [
            [
             0,
             "#0d0887"
            ],
            [
             0.1111111111111111,
             "#46039f"
            ],
            [
             0.2222222222222222,
             "#7201a8"
            ],
            [
             0.3333333333333333,
             "#9c179e"
            ],
            [
             0.4444444444444444,
             "#bd3786"
            ],
            [
             0.5555555555555556,
             "#d8576b"
            ],
            [
             0.6666666666666666,
             "#ed7953"
            ],
            [
             0.7777777777777778,
             "#fb9f3a"
            ],
            [
             0.8888888888888888,
             "#fdca26"
            ],
            [
             1,
             "#f0f921"
            ]
           ],
           "sequentialminus": [
            [
             0,
             "#0d0887"
            ],
            [
             0.1111111111111111,
             "#46039f"
            ],
            [
             0.2222222222222222,
             "#7201a8"
            ],
            [
             0.3333333333333333,
             "#9c179e"
            ],
            [
             0.4444444444444444,
             "#bd3786"
            ],
            [
             0.5555555555555556,
             "#d8576b"
            ],
            [
             0.6666666666666666,
             "#ed7953"
            ],
            [
             0.7777777777777778,
             "#fb9f3a"
            ],
            [
             0.8888888888888888,
             "#fdca26"
            ],
            [
             1,
             "#f0f921"
            ]
           ]
          },
          "colorway": [
           "#636efa",
           "#EF553B",
           "#00cc96",
           "#ab63fa",
           "#FFA15A",
           "#19d3f3",
           "#FF6692",
           "#B6E880",
           "#FF97FF",
           "#FECB52"
          ],
          "font": {
           "color": "#2a3f5f"
          },
          "geo": {
           "bgcolor": "white",
           "lakecolor": "white",
           "landcolor": "#E5ECF6",
           "showlakes": true,
           "showland": true,
           "subunitcolor": "white"
          },
          "hoverlabel": {
           "align": "left"
          },
          "hovermode": "closest",
          "mapbox": {
           "style": "light"
          },
          "paper_bgcolor": "white",
          "plot_bgcolor": "#E5ECF6",
          "polar": {
           "angularaxis": {
            "gridcolor": "white",
            "linecolor": "white",
            "ticks": ""
           },
           "bgcolor": "#E5ECF6",
           "radialaxis": {
            "gridcolor": "white",
            "linecolor": "white",
            "ticks": ""
           }
          },
          "scene": {
           "xaxis": {
            "backgroundcolor": "#E5ECF6",
            "gridcolor": "white",
            "gridwidth": 2,
            "linecolor": "white",
            "showbackground": true,
            "ticks": "",
            "zerolinecolor": "white"
           },
           "yaxis": {
            "backgroundcolor": "#E5ECF6",
            "gridcolor": "white",
            "gridwidth": 2,
            "linecolor": "white",
            "showbackground": true,
            "ticks": "",
            "zerolinecolor": "white"
           },
           "zaxis": {
            "backgroundcolor": "#E5ECF6",
            "gridcolor": "white",
            "gridwidth": 2,
            "linecolor": "white",
            "showbackground": true,
            "ticks": "",
            "zerolinecolor": "white"
           }
          },
          "shapedefaults": {
           "line": {
            "color": "#2a3f5f"
           }
          },
          "ternary": {
           "aaxis": {
            "gridcolor": "white",
            "linecolor": "white",
            "ticks": ""
           },
           "baxis": {
            "gridcolor": "white",
            "linecolor": "white",
            "ticks": ""
           },
           "bgcolor": "#E5ECF6",
           "caxis": {
            "gridcolor": "white",
            "linecolor": "white",
            "ticks": ""
           }
          },
          "title": {
           "x": 0.05
          },
          "xaxis": {
           "automargin": true,
           "gridcolor": "white",
           "linecolor": "white",
           "ticks": "",
           "title": {
            "standoff": 15
           },
           "zerolinecolor": "white",
           "zerolinewidth": 2
          },
          "yaxis": {
           "automargin": true,
           "gridcolor": "white",
           "linecolor": "white",
           "ticks": "",
           "title": {
            "standoff": 15
           },
           "zerolinecolor": "white",
           "zerolinewidth": 2
          }
         }
        },
        "title": {
         "text": "Mean Production in Differet Parts of World"
        }
       }
      },
      "text/html": [
       "<div>\n",
       "        \n",
       "        \n",
       "            <div id=\"d285b603-b53b-417f-8591-592d7e749fec\" class=\"plotly-graph-div\" style=\"height:525px; width:100%;\"></div>\n",
       "            <script type=\"text/javascript\">\n",
       "                require([\"plotly\"], function(Plotly) {\n",
       "                    window.PLOTLYENV=window.PLOTLYENV || {};\n",
       "                    \n",
       "                if (document.getElementById(\"d285b603-b53b-417f-8591-592d7e749fec\")) {\n",
       "                    Plotly.newPlot(\n",
       "                        'd285b603-b53b-417f-8591-592d7e749fec',\n",
       "                        [{\"colorscale\": [[0.0, \"rgb(255,255,204)\"], [0.125, \"rgb(255,237,160)\"], [0.25, \"rgb(254,217,118)\"], [0.375, \"rgb(254,178,76)\"], [0.5, \"rgb(253,141,60)\"], [0.625, \"rgb(252,78,42)\"], [0.75, \"rgb(227,26,28)\"], [0.875, \"rgb(189,0,38)\"], [1.0, \"rgb(128,0,38)\"]], \"locationmode\": \"country names\", \"locations\": [\"Afghanistan\", \"Albania\", \"Algeria\", \"Angola\", \"Antigua and Barbuda\", \"Argentina\", \"Australia\", \"Austria\", \"Bahamas\", \"Bangladesh\", \"Barbados\", \"Belize\", \"Benin\", \"Bermuda\", \"Bolivia (Plurinational State of)\", \"Botswana\", \"Brazil\", \"Brunei Darussalam\", \"Bulgaria\", \"Burkina Faso\", \"Cabo Verde\", \"Cambodia\", \"Cameroon\", \"Canada\", \"Central African Republic\", \"Chad\", \"Chile\", \"China, Hong Kong SAR\", \"China, Macao SAR\", \"China, Taiwan Province of\", \"China, mainland\", \"Colombia\", \"Congo\", \"Costa Rica\", \"Cuba\", \"Cyprus\", \"C\\u00f4te d'Ivoire\", \"Democratic People's Republic of Korea\", \"Denmark\", \"Djibouti\", \"Dominica\", \"Dominican Republic\", \"Ecuador\", \"Egypt\", \"El Salvador\", \"Fiji\", \"Finland\", \"France\", \"French Polynesia\", \"Gabon\", \"Gambia\", \"Germany\", \"Ghana\", \"Greece\", \"Grenada\", \"Guatemala\", \"Guinea\", \"Guinea-Bissau\", \"Guyana\", \"Haiti\", \"Honduras\", \"Hungary\", \"Iceland\", \"India\", \"Indonesia\", \"Iran (Islamic Republic of)\", \"Iraq\", \"Ireland\", \"Israel\", \"Italy\", \"Jamaica\", \"Japan\", \"Jordan\", \"Kenya\", \"Kiribati\", \"Kuwait\", \"Lao People's Democratic Republic\", \"Lebanon\", \"Lesotho\", \"Liberia\", \"Madagascar\", \"Malawi\", \"Malaysia\", \"Maldives\", \"Mali\", \"Malta\", \"Mauritania\", \"Mauritius\", \"Mexico\", \"Mongolia\", \"Morocco\", \"Mozambique\", \"Myanmar\", \"Namibia\", \"Nepal\", \"Netherlands\", \"New Caledonia\", \"New Zealand\", \"Nicaragua\", \"Niger\", \"Nigeria\", \"Norway\", \"Pakistan\", \"Panama\", \"Paraguay\", \"Peru\", \"Philippines\", \"Poland\", \"Portugal\", \"Republic of Korea\", \"Romania\", \"Rwanda\", \"Saint Kitts and Nevis\", \"Saint Lucia\", \"Saint Vincent and the Grenadines\", \"Samoa\", \"Sao Tome and Principe\", \"Saudi Arabia\", \"Senegal\", \"Sierra Leone\", \"Solomon Islands\", \"South Africa\", \"Spain\", \"Sri Lanka\", \"Suriname\", \"Swaziland\", \"Sweden\", \"Switzerland\", \"Thailand\", \"Timor-Leste\", \"Togo\", \"Trinidad and Tobago\", \"Tunisia\", \"Turkey\", \"Uganda\", \"United Arab Emirates\", \"United Kingdom\", \"United Republic of Tanzania\", \"United States of America\", \"Uruguay\", \"Vanuatu\", \"Venezuela (Bolivarian Republic of)\", \"Viet Nam\", \"Yemen\", \"Zambia\", \"Zimbabwe\"], \"text\": [\"Afghanistan\", \"Albania\", \"Algeria\", \"Angola\", \"Antigua and Barbuda\", \"Argentina\", \"Australia\", \"Austria\", \"Bahamas\", \"Bangladesh\", \"Barbados\", \"Belize\", \"Benin\", \"Bermuda\", \"Bolivia (Plurinational State of)\", \"Botswana\", \"Brazil\", \"Brunei Darussalam\", \"Bulgaria\", \"Burkina Faso\", \"Cabo Verde\", \"Cambodia\", \"Cameroon\", \"Canada\", \"Central African Republic\", \"Chad\", \"Chile\", \"China, Hong Kong SAR\", \"China, Macao SAR\", \"China, Taiwan Province of\", \"China, mainland\", \"Colombia\", \"Congo\", \"Costa Rica\", \"Cuba\", \"Cyprus\", \"C\\u00f4te d'Ivoire\", \"Democratic People's Republic of Korea\", \"Denmark\", \"Djibouti\", \"Dominica\", \"Dominican Republic\", \"Ecuador\", \"Egypt\", \"El Salvador\", \"Fiji\", \"Finland\", \"France\", \"French Polynesia\", \"Gabon\", \"Gambia\", \"Germany\", \"Ghana\", \"Greece\", \"Grenada\", \"Guatemala\", \"Guinea\", \"Guinea-Bissau\", \"Guyana\", \"Haiti\", \"Honduras\", \"Hungary\", \"Iceland\", \"India\", \"Indonesia\", \"Iran (Islamic Republic of)\", \"Iraq\", \"Ireland\", \"Israel\", \"Italy\", \"Jamaica\", \"Japan\", \"Jordan\", \"Kenya\", \"Kiribati\", \"Kuwait\", \"Lao People's Democratic Republic\", \"Lebanon\", \"Lesotho\", \"Liberia\", \"Madagascar\", \"Malawi\", \"Malaysia\", \"Maldives\", \"Mali\", \"Malta\", \"Mauritania\", \"Mauritius\", \"Mexico\", \"Mongolia\", \"Morocco\", \"Mozambique\", \"Myanmar\", \"Namibia\", \"Nepal\", \"Netherlands\", \"New Caledonia\", \"New Zealand\", \"Nicaragua\", \"Niger\", \"Nigeria\", \"Norway\", \"Pakistan\", \"Panama\", \"Paraguay\", \"Peru\", \"Philippines\", \"Poland\", \"Portugal\", \"Republic of Korea\", \"Romania\", \"Rwanda\", \"Saint Kitts and Nevis\", \"Saint Lucia\", \"Saint Vincent and the Grenadines\", \"Samoa\", \"Sao Tome and Principe\", \"Saudi Arabia\", \"Senegal\", \"Sierra Leone\", \"Solomon Islands\", \"South Africa\", \"Spain\", \"Sri Lanka\", \"Suriname\", \"Swaziland\", \"Sweden\", \"Switzerland\", \"Thailand\", \"Timor-Leste\", \"Togo\", \"Trinidad and Tobago\", \"Tunisia\", \"Turkey\", \"Uganda\", \"United Arab Emirates\", \"United Kingdom\", \"United Republic of Tanzania\", \"United States of America\", \"Uruguay\", \"Vanuatu\", \"Venezuela (Bolivarian Republic of)\", \"Viet Nam\", \"Yemen\", \"Zambia\", \"Zimbabwe\"], \"type\": \"choropleth\", \"z\": [8461.096385542169, 1979.9349593495936, 12666.032258064517, 6635.477064220184, 38.76068376068376, 27270.50406504065, 18192.8203125, 9349.812949640287, 170.5, 27143.268292682926, 172.5785123966942, 141.23214285714286, 2950.264957264957, 48.81553398058252, 3385.1311475409834, 548.328, 103213.54744525548, 130.80833333333334, 8344.425373134329, 4205.547826086957, 191.83018867924528, 2971.189655172414, 6582.896, 35240.62142857143, 1546.7247706422017, 2169.5048543689322, 8888.953125, 2947.1729323308273, 159.099173553719, 13096.120567375887, 537457.5479452055, 17830.409090909092, 1214.875, 1760.9767441860465, 8066.350364963504, 770.8074074074074, 7123.689075630252, 11340.350515463917, 10011.870503597122, 156.0, 67.95495495495496, 4108.848214285715, 6147.082089552238, 33668.611940298506, 2133.4846153846156, 366.248, 6018.609022556391, 64079.56428571429, 118.62809917355372, 698.0416666666666, 325.6111111111111, 85130.51700680272, 9966.266666666666, 10423.895104895106, 54.275, 3291.746153846154, 3226.714285714286, 432.8901098901099, 564.5042016806723, 2872.4, 2123.568181818182, 12579.521126760563, 251.336, 279858.9029850746, 59368.48412698413, 34523.59166666667, 8788.725, 5132.529411764706, 4934.385185185185, 53314.67567567567, 1459.873949579832, 70240.6993006993, 2047.9448818897638, 9571.314960629921, 48.0531914893617, 1233.049180327869, 1949.0882352941176, 2218.6356589147285, 850.7466666666667, 1108.080808080808, 5314.808, 4036.325, 8347.597014925374, 122.0576923076923, 3438.9827586206898, 329.9769230769231, 865.6379310344828, 494.97478991596637, 51065.661654135336, 1025.517543859649, 11754.581395348838, 6569.649122807017, 15291.714285714286, 653.1404958677685, 7090.1322314049585, 20174.22695035461, 109.14728682170542, 3634.2014925373132, 1326.0697674418604, 3367.7033898305085, 57682.0534351145, 4741.628571428571, 41076.082706766916, 1239.1307692307691, 4599.516393442623, 10098.060606060606, 25452.359154929578, 54573.63970588235, 9445.029850746268, 25751.20895522388, 23032.64748201439, 4821.925925925926, 21.747474747474747, 90.04347826086956, 62.88990825688074, 126.02777777777777, 83.35164835164835, 9826.530769230769, 2465.9083333333333, 1561.8648648648648, 219.04, 17850.135714285716, 39237.18, 5987.299212598426, 248.75862068965517, 386.7435897435897, 9016.295774647888, 7196.368794326241, 24286.41221374046, 384.1511627906977, 1607.8, 656.2136752136752, 5027.706349206349, 48464.09375, 12878.551181102363, 1870.5537190082644, 51209.0979020979, 12641.558139534884, 302626.8014184397, 2392.3629032258063, 121.20833333333333, 10582.546153846153, 28903.70642201835, 3967.72268907563, 2691.983333333333, 2972.5537190082646]}],\n",
       "                        {\"template\": {\"data\": {\"bar\": [{\"error_x\": {\"color\": \"#2a3f5f\"}, \"error_y\": {\"color\": \"#2a3f5f\"}, \"marker\": {\"line\": {\"color\": \"#E5ECF6\", \"width\": 0.5}}, \"type\": \"bar\"}], \"barpolar\": [{\"marker\": {\"line\": {\"color\": \"#E5ECF6\", \"width\": 0.5}}, \"type\": \"barpolar\"}], \"carpet\": [{\"aaxis\": {\"endlinecolor\": \"#2a3f5f\", \"gridcolor\": \"white\", \"linecolor\": \"white\", \"minorgridcolor\": \"white\", \"startlinecolor\": \"#2a3f5f\"}, \"baxis\": {\"endlinecolor\": \"#2a3f5f\", \"gridcolor\": \"white\", \"linecolor\": \"white\", \"minorgridcolor\": \"white\", \"startlinecolor\": \"#2a3f5f\"}, \"type\": \"carpet\"}], \"choropleth\": [{\"colorbar\": {\"outlinewidth\": 0, \"ticks\": \"\"}, \"type\": \"choropleth\"}], \"contour\": [{\"colorbar\": {\"outlinewidth\": 0, \"ticks\": \"\"}, \"colorscale\": [[0.0, \"#0d0887\"], [0.1111111111111111, \"#46039f\"], [0.2222222222222222, \"#7201a8\"], [0.3333333333333333, \"#9c179e\"], [0.4444444444444444, \"#bd3786\"], [0.5555555555555556, \"#d8576b\"], [0.6666666666666666, \"#ed7953\"], [0.7777777777777778, \"#fb9f3a\"], [0.8888888888888888, \"#fdca26\"], [1.0, \"#f0f921\"]], \"type\": \"contour\"}], \"contourcarpet\": [{\"colorbar\": {\"outlinewidth\": 0, \"ticks\": \"\"}, \"type\": \"contourcarpet\"}], \"heatmap\": [{\"colorbar\": {\"outlinewidth\": 0, \"ticks\": \"\"}, \"colorscale\": [[0.0, \"#0d0887\"], [0.1111111111111111, \"#46039f\"], [0.2222222222222222, \"#7201a8\"], [0.3333333333333333, \"#9c179e\"], [0.4444444444444444, \"#bd3786\"], [0.5555555555555556, \"#d8576b\"], [0.6666666666666666, \"#ed7953\"], [0.7777777777777778, \"#fb9f3a\"], [0.8888888888888888, \"#fdca26\"], [1.0, \"#f0f921\"]], \"type\": \"heatmap\"}], \"heatmapgl\": [{\"colorbar\": {\"outlinewidth\": 0, \"ticks\": \"\"}, \"colorscale\": [[0.0, \"#0d0887\"], [0.1111111111111111, \"#46039f\"], [0.2222222222222222, \"#7201a8\"], [0.3333333333333333, \"#9c179e\"], [0.4444444444444444, \"#bd3786\"], [0.5555555555555556, \"#d8576b\"], [0.6666666666666666, \"#ed7953\"], [0.7777777777777778, \"#fb9f3a\"], [0.8888888888888888, \"#fdca26\"], [1.0, \"#f0f921\"]], \"type\": \"heatmapgl\"}], \"histogram\": [{\"marker\": {\"colorbar\": {\"outlinewidth\": 0, \"ticks\": \"\"}}, \"type\": \"histogram\"}], \"histogram2d\": [{\"colorbar\": {\"outlinewidth\": 0, \"ticks\": \"\"}, \"colorscale\": [[0.0, \"#0d0887\"], [0.1111111111111111, \"#46039f\"], [0.2222222222222222, \"#7201a8\"], [0.3333333333333333, \"#9c179e\"], [0.4444444444444444, \"#bd3786\"], [0.5555555555555556, \"#d8576b\"], [0.6666666666666666, \"#ed7953\"], [0.7777777777777778, \"#fb9f3a\"], [0.8888888888888888, \"#fdca26\"], [1.0, \"#f0f921\"]], \"type\": \"histogram2d\"}], \"histogram2dcontour\": [{\"colorbar\": {\"outlinewidth\": 0, \"ticks\": \"\"}, \"colorscale\": [[0.0, \"#0d0887\"], [0.1111111111111111, \"#46039f\"], [0.2222222222222222, \"#7201a8\"], [0.3333333333333333, \"#9c179e\"], [0.4444444444444444, \"#bd3786\"], [0.5555555555555556, \"#d8576b\"], [0.6666666666666666, \"#ed7953\"], [0.7777777777777778, \"#fb9f3a\"], [0.8888888888888888, \"#fdca26\"], [1.0, \"#f0f921\"]], \"type\": \"histogram2dcontour\"}], \"mesh3d\": [{\"colorbar\": {\"outlinewidth\": 0, \"ticks\": \"\"}, \"type\": \"mesh3d\"}], \"parcoords\": [{\"line\": {\"colorbar\": {\"outlinewidth\": 0, \"ticks\": \"\"}}, \"type\": \"parcoords\"}], \"pie\": [{\"automargin\": true, \"type\": \"pie\"}], \"scatter\": [{\"marker\": {\"colorbar\": {\"outlinewidth\": 0, \"ticks\": \"\"}}, \"type\": \"scatter\"}], \"scatter3d\": [{\"line\": {\"colorbar\": {\"outlinewidth\": 0, \"ticks\": \"\"}}, \"marker\": {\"colorbar\": {\"outlinewidth\": 0, \"ticks\": \"\"}}, \"type\": \"scatter3d\"}], \"scattercarpet\": [{\"marker\": {\"colorbar\": {\"outlinewidth\": 0, \"ticks\": \"\"}}, \"type\": \"scattercarpet\"}], \"scattergeo\": [{\"marker\": {\"colorbar\": {\"outlinewidth\": 0, \"ticks\": \"\"}}, \"type\": \"scattergeo\"}], \"scattergl\": [{\"marker\": {\"colorbar\": {\"outlinewidth\": 0, \"ticks\": \"\"}}, \"type\": \"scattergl\"}], \"scattermapbox\": [{\"marker\": {\"colorbar\": {\"outlinewidth\": 0, \"ticks\": \"\"}}, \"type\": \"scattermapbox\"}], \"scatterpolar\": [{\"marker\": {\"colorbar\": {\"outlinewidth\": 0, \"ticks\": \"\"}}, \"type\": \"scatterpolar\"}], \"scatterpolargl\": [{\"marker\": {\"colorbar\": {\"outlinewidth\": 0, \"ticks\": \"\"}}, \"type\": \"scatterpolargl\"}], \"scatterternary\": [{\"marker\": {\"colorbar\": {\"outlinewidth\": 0, \"ticks\": \"\"}}, \"type\": \"scatterternary\"}], \"surface\": [{\"colorbar\": {\"outlinewidth\": 0, \"ticks\": \"\"}, \"colorscale\": [[0.0, \"#0d0887\"], [0.1111111111111111, \"#46039f\"], [0.2222222222222222, \"#7201a8\"], [0.3333333333333333, \"#9c179e\"], [0.4444444444444444, \"#bd3786\"], [0.5555555555555556, \"#d8576b\"], [0.6666666666666666, \"#ed7953\"], [0.7777777777777778, \"#fb9f3a\"], [0.8888888888888888, \"#fdca26\"], [1.0, \"#f0f921\"]], \"type\": \"surface\"}], \"table\": [{\"cells\": {\"fill\": {\"color\": \"#EBF0F8\"}, \"line\": {\"color\": \"white\"}}, \"header\": {\"fill\": {\"color\": \"#C8D4E3\"}, \"line\": {\"color\": \"white\"}}, \"type\": \"table\"}]}, \"layout\": {\"annotationdefaults\": {\"arrowcolor\": \"#2a3f5f\", \"arrowhead\": 0, \"arrowwidth\": 1}, \"coloraxis\": {\"colorbar\": {\"outlinewidth\": 0, \"ticks\": \"\"}}, \"colorscale\": {\"diverging\": [[0, \"#8e0152\"], [0.1, \"#c51b7d\"], [0.2, \"#de77ae\"], [0.3, \"#f1b6da\"], [0.4, \"#fde0ef\"], [0.5, \"#f7f7f7\"], [0.6, \"#e6f5d0\"], [0.7, \"#b8e186\"], [0.8, \"#7fbc41\"], [0.9, \"#4d9221\"], [1, \"#276419\"]], \"sequential\": [[0.0, \"#0d0887\"], [0.1111111111111111, \"#46039f\"], [0.2222222222222222, \"#7201a8\"], [0.3333333333333333, \"#9c179e\"], [0.4444444444444444, \"#bd3786\"], [0.5555555555555556, \"#d8576b\"], [0.6666666666666666, \"#ed7953\"], [0.7777777777777778, \"#fb9f3a\"], [0.8888888888888888, \"#fdca26\"], [1.0, \"#f0f921\"]], \"sequentialminus\": [[0.0, \"#0d0887\"], [0.1111111111111111, \"#46039f\"], [0.2222222222222222, \"#7201a8\"], [0.3333333333333333, \"#9c179e\"], [0.4444444444444444, \"#bd3786\"], [0.5555555555555556, \"#d8576b\"], [0.6666666666666666, \"#ed7953\"], [0.7777777777777778, \"#fb9f3a\"], [0.8888888888888888, \"#fdca26\"], [1.0, \"#f0f921\"]]}, \"colorway\": [\"#636efa\", \"#EF553B\", \"#00cc96\", \"#ab63fa\", \"#FFA15A\", \"#19d3f3\", \"#FF6692\", \"#B6E880\", \"#FF97FF\", \"#FECB52\"], \"font\": {\"color\": \"#2a3f5f\"}, \"geo\": {\"bgcolor\": \"white\", \"lakecolor\": \"white\", \"landcolor\": \"#E5ECF6\", \"showlakes\": true, \"showland\": true, \"subunitcolor\": \"white\"}, \"hoverlabel\": {\"align\": \"left\"}, \"hovermode\": \"closest\", \"mapbox\": {\"style\": \"light\"}, \"paper_bgcolor\": \"white\", \"plot_bgcolor\": \"#E5ECF6\", \"polar\": {\"angularaxis\": {\"gridcolor\": \"white\", \"linecolor\": \"white\", \"ticks\": \"\"}, \"bgcolor\": \"#E5ECF6\", \"radialaxis\": {\"gridcolor\": \"white\", \"linecolor\": \"white\", \"ticks\": \"\"}}, \"scene\": {\"xaxis\": {\"backgroundcolor\": \"#E5ECF6\", \"gridcolor\": \"white\", \"gridwidth\": 2, \"linecolor\": \"white\", \"showbackground\": true, \"ticks\": \"\", \"zerolinecolor\": \"white\"}, \"yaxis\": {\"backgroundcolor\": \"#E5ECF6\", \"gridcolor\": \"white\", \"gridwidth\": 2, \"linecolor\": \"white\", \"showbackground\": true, \"ticks\": \"\", \"zerolinecolor\": \"white\"}, \"zaxis\": {\"backgroundcolor\": \"#E5ECF6\", \"gridcolor\": \"white\", \"gridwidth\": 2, \"linecolor\": \"white\", \"showbackground\": true, \"ticks\": \"\", \"zerolinecolor\": \"white\"}}, \"shapedefaults\": {\"line\": {\"color\": \"#2a3f5f\"}}, \"ternary\": {\"aaxis\": {\"gridcolor\": \"white\", \"linecolor\": \"white\", \"ticks\": \"\"}, \"baxis\": {\"gridcolor\": \"white\", \"linecolor\": \"white\", \"ticks\": \"\"}, \"bgcolor\": \"#E5ECF6\", \"caxis\": {\"gridcolor\": \"white\", \"linecolor\": \"white\", \"ticks\": \"\"}}, \"title\": {\"x\": 0.05}, \"xaxis\": {\"automargin\": true, \"gridcolor\": \"white\", \"linecolor\": \"white\", \"ticks\": \"\", \"title\": {\"standoff\": 15}, \"zerolinecolor\": \"white\", \"zerolinewidth\": 2}, \"yaxis\": {\"automargin\": true, \"gridcolor\": \"white\", \"linecolor\": \"white\", \"ticks\": \"\", \"title\": {\"standoff\": 15}, \"zerolinecolor\": \"white\", \"zerolinewidth\": 2}}}, \"title\": {\"text\": \"Mean Production in Differet Parts of World\"}},\n",
       "                        {\"responsive\": true}\n",
       "                    ).then(function(){\n",
       "                            \n",
       "var gd = document.getElementById('d285b603-b53b-417f-8591-592d7e749fec');\n",
       "var x = new MutationObserver(function (mutations, observer) {{\n",
       "        var display = window.getComputedStyle(gd).display;\n",
       "        if (!display || display === 'none') {{\n",
       "            console.log([gd, 'removed!']);\n",
       "            Plotly.purge(gd);\n",
       "            observer.disconnect();\n",
       "        }}\n",
       "}});\n",
       "\n",
       "// Listen for the removal of the full notebook cells\n",
       "var notebookContainer = gd.closest('#notebook-container');\n",
       "if (notebookContainer) {{\n",
       "    x.observe(notebookContainer, {childList: true});\n",
       "}}\n",
       "\n",
       "// Listen for the clearing of the current output cell\n",
       "var outputEl = gd.closest('.output');\n",
       "if (outputEl) {{\n",
       "    x.observe(outputEl, {childList: true});\n",
       "}}\n",
       "\n",
       "                        })\n",
       "                };\n",
       "                });\n",
       "            </script>\n",
       "        </div>"
      ]
     },
     "metadata": {},
     "output_type": "display_data"
    }
   ],
   "source": [
    "# PLACING THE CURSOR ON A COUNTRY WILL SHOW THE VALUE.\n",
    "\n",
    "df = data['Area'].value_counts().sort_index().index\n",
    "df2 = data.groupby('Area')['total'].agg('mean')\n",
    "\n",
    "trace = gr.Choropleth(\n",
    "    locationmode = 'country names',\n",
    "    locations = df,\n",
    "    text = df,\n",
    "    colorscale = 'YlOrRd',\n",
    "    z = df2.values\n",
    ")\n",
    "df3 = [trace]\n",
    "layout = gr.Layout(\n",
    "   title = 'Mean Production in Differet Parts of World')\n",
    "\n",
    "fig = gr.Figure(data = df3, layout = layout)\n",
    "iplot(fig)"
   ]
  },
  {
   "cell_type": "code",
   "execution_count": 14,
   "metadata": {
    "scrolled": true
   },
   "outputs": [
    {
     "data": {
      "application/vnd.plotly.v1+json": {
       "config": {
        "linkText": "Export to plot.ly",
        "plotlyServerURL": "https://plot.ly",
        "showLink": false
       },
       "data": [
        {
         "colorscale": [
          [
           0,
           "rgb(12,51,131)"
          ],
          [
           0.25,
           "rgb(10,136,186)"
          ],
          [
           0.5,
           "rgb(242,211,56)"
          ],
          [
           0.75,
           "rgb(242,143,56)"
          ],
          [
           1,
           "rgb(217,30,30)"
          ]
         ],
         "locationmode": "country names",
         "locations": [
          "Afghanistan",
          "Albania",
          "Algeria",
          "Angola",
          "Antigua and Barbuda",
          "Argentina",
          "Australia",
          "Austria",
          "Bahamas",
          "Bangladesh",
          "Barbados",
          "Belize",
          "Benin",
          "Bermuda",
          "Bolivia (Plurinational State of)",
          "Botswana",
          "Brazil",
          "Brunei Darussalam",
          "Bulgaria",
          "Burkina Faso",
          "Cabo Verde",
          "Cambodia",
          "Cameroon",
          "Canada",
          "Central African Republic",
          "Chad",
          "Chile",
          "China, Hong Kong SAR",
          "China, Macao SAR",
          "China, Taiwan Province of",
          "China, mainland",
          "Colombia",
          "Congo",
          "Costa Rica",
          "Cuba",
          "Cyprus",
          "Côte d'Ivoire",
          "Democratic People's Republic of Korea",
          "Denmark",
          "Djibouti",
          "Dominica",
          "Dominican Republic",
          "Ecuador",
          "Egypt",
          "El Salvador",
          "Fiji",
          "Finland",
          "France",
          "French Polynesia",
          "Gabon",
          "Gambia",
          "Germany",
          "Ghana",
          "Greece",
          "Grenada",
          "Guatemala",
          "Guinea",
          "Guinea-Bissau",
          "Guyana",
          "Haiti",
          "Honduras",
          "Hungary",
          "Iceland",
          "India",
          "Indonesia",
          "Iran (Islamic Republic of)",
          "Iraq",
          "Ireland",
          "Israel",
          "Italy",
          "Jamaica",
          "Japan",
          "Jordan",
          "Kenya",
          "Kiribati",
          "Kuwait",
          "Lao People's Democratic Republic",
          "Lebanon",
          "Lesotho",
          "Liberia",
          "Madagascar",
          "Malawi",
          "Malaysia",
          "Maldives",
          "Mali",
          "Malta",
          "Mauritania",
          "Mauritius",
          "Mexico",
          "Mongolia",
          "Morocco",
          "Mozambique",
          "Myanmar",
          "Namibia",
          "Nepal",
          "Netherlands",
          "New Caledonia",
          "New Zealand",
          "Nicaragua",
          "Niger",
          "Nigeria",
          "Norway",
          "Pakistan",
          "Panama",
          "Paraguay",
          "Peru",
          "Philippines",
          "Poland",
          "Portugal",
          "Republic of Korea",
          "Romania",
          "Rwanda",
          "Saint Kitts and Nevis",
          "Saint Lucia",
          "Saint Vincent and the Grenadines",
          "Samoa",
          "Sao Tome and Principe",
          "Saudi Arabia",
          "Senegal",
          "Sierra Leone",
          "Solomon Islands",
          "South Africa",
          "Spain",
          "Sri Lanka",
          "Suriname",
          "Swaziland",
          "Sweden",
          "Switzerland",
          "Thailand",
          "Timor-Leste",
          "Togo",
          "Trinidad and Tobago",
          "Tunisia",
          "Turkey",
          "Uganda",
          "United Arab Emirates",
          "United Kingdom",
          "United Republic of Tanzania",
          "United States of America",
          "Uruguay",
          "Vanuatu",
          "Venezuela (Bolivarian Republic of)",
          "Viet Nam",
          "Yemen",
          "Zambia",
          "Zimbabwe"
         ],
         "text": [
          "Afghanistan",
          "Albania",
          "Algeria",
          "Angola",
          "Antigua and Barbuda",
          "Argentina",
          "Australia",
          "Austria",
          "Bahamas",
          "Bangladesh",
          "Barbados",
          "Belize",
          "Benin",
          "Bermuda",
          "Bolivia (Plurinational State of)",
          "Botswana",
          "Brazil",
          "Brunei Darussalam",
          "Bulgaria",
          "Burkina Faso",
          "Cabo Verde",
          "Cambodia",
          "Cameroon",
          "Canada",
          "Central African Republic",
          "Chad",
          "Chile",
          "China, Hong Kong SAR",
          "China, Macao SAR",
          "China, Taiwan Province of",
          "China, mainland",
          "Colombia",
          "Congo",
          "Costa Rica",
          "Cuba",
          "Cyprus",
          "Côte d'Ivoire",
          "Democratic People's Republic of Korea",
          "Denmark",
          "Djibouti",
          "Dominica",
          "Dominican Republic",
          "Ecuador",
          "Egypt",
          "El Salvador",
          "Fiji",
          "Finland",
          "France",
          "French Polynesia",
          "Gabon",
          "Gambia",
          "Germany",
          "Ghana",
          "Greece",
          "Grenada",
          "Guatemala",
          "Guinea",
          "Guinea-Bissau",
          "Guyana",
          "Haiti",
          "Honduras",
          "Hungary",
          "Iceland",
          "India",
          "Indonesia",
          "Iran (Islamic Republic of)",
          "Iraq",
          "Ireland",
          "Israel",
          "Italy",
          "Jamaica",
          "Japan",
          "Jordan",
          "Kenya",
          "Kiribati",
          "Kuwait",
          "Lao People's Democratic Republic",
          "Lebanon",
          "Lesotho",
          "Liberia",
          "Madagascar",
          "Malawi",
          "Malaysia",
          "Maldives",
          "Mali",
          "Malta",
          "Mauritania",
          "Mauritius",
          "Mexico",
          "Mongolia",
          "Morocco",
          "Mozambique",
          "Myanmar",
          "Namibia",
          "Nepal",
          "Netherlands",
          "New Caledonia",
          "New Zealand",
          "Nicaragua",
          "Niger",
          "Nigeria",
          "Norway",
          "Pakistan",
          "Panama",
          "Paraguay",
          "Peru",
          "Philippines",
          "Poland",
          "Portugal",
          "Republic of Korea",
          "Romania",
          "Rwanda",
          "Saint Kitts and Nevis",
          "Saint Lucia",
          "Saint Vincent and the Grenadines",
          "Samoa",
          "Sao Tome and Principe",
          "Saudi Arabia",
          "Senegal",
          "Sierra Leone",
          "Solomon Islands",
          "South Africa",
          "Spain",
          "Sri Lanka",
          "Suriname",
          "Swaziland",
          "Sweden",
          "Switzerland",
          "Thailand",
          "Timor-Leste",
          "Togo",
          "Trinidad and Tobago",
          "Tunisia",
          "Turkey",
          "Uganda",
          "United Arab Emirates",
          "United Kingdom",
          "United Republic of Tanzania",
          "United States of America",
          "Uruguay",
          "Vanuatu",
          "Venezuela (Bolivarian Republic of)",
          "Viet Nam",
          "Yemen",
          "Zambia",
          "Zimbabwe"
         ],
         "type": "choropleth",
         "z": [
          114.2289156626506,
          13.869918699186991,
          60.38709677419355,
          44.34862385321101,
          0.7863247863247863,
          352.8617886178862,
          201.5234375,
          162.1726618705036,
          1.1896551724137931,
          239.4390243902439,
          2.0165289256198347,
          0.8125,
          19.4017094017094,
          0.6504854368932039,
          28.639344262295083,
          3.8,
          923.3649635036496,
          0.5166666666666667,
          119.24626865671642,
          29.286956521739132,
          1.330188679245283,
          32.206896551724135,
          47.8,
          389.07142857142856,
          19.743119266055047,
          21.796116504854368,
          85.5390625,
          21.76691729323308,
          1.0743801652892562,
          100.95744680851064,
          3269.0342465753424,
          134.6969696969697,
          11.441666666666666,
          9.666666666666666,
          71.16788321167883,
          6.037037037037037,
          41.10084033613445,
          106.45360824742268,
          179.85611510791367,
          0.4205607476635514,
          0.7387387387387387,
          31.169642857142858,
          78.67164179104478,
          201.23880597014926,
          15.476923076923077,
          4.264,
          107.19548872180451,
          988.4642857142857,
          0.8016528925619835,
          5.725,
          2.175925925925926,
          1447.8843537414966,
          70.275,
          95.15384615384616,
          0.6333333333333333,
          20.776923076923076,
          31.044642857142858,
          3.879120879120879,
          4.563025210084033,
          39.43333333333333,
          13.636363636363637,
          181.61267605633802,
          3.176,
          2310.186567164179,
          492.23809523809524,
          144.025,
          55.108333333333334,
          85.31617647058823,
          34.31111111111111,
          713.0675675675676,
          12.663865546218487,
          784.2027972027972,
          16.055118110236222,
          68.66929133858268,
          0.43617021276595747,
          3.0655737704918034,
          12.617647058823529,
          18.45736434108527,
          8,
          11.393939393939394,
          48.208,
          22.075,
          50.59701492537314,
          0.5769230769230769,
          28.086206896551722,
          3.646153846153846,
          7.344827586206897,
          4.067226890756302,
          267.05263157894734,
          9.026315789473685,
          68.03875968992249,
          68.06140350877193,
          91.13392857142857,
          6.371900826446281,
          46.86776859504132,
          239.54609929078015,
          1.0930232558139534,
          56.90298507462686,
          11.651162790697674,
          19.66949152542373,
          380.5496183206107,
          64.25714285714285,
          261.21804511278197,
          10.592307692307692,
          36.040983606557376,
          86.0530303030303,
          188.43661971830986,
          959.1323529411765,
          96.48507462686567,
          135.93283582089552,
          259.6546762589928,
          36.25,
          0.2727272727272727,
          1.017391304347826,
          0.6880733944954128,
          1.4537037037037037,
          0.9010989010989011,
          19.9,
          20.233333333333334,
          14.315315315315315,
          1.81,
          156.5857142857143,
          386.55333333333334,
          59.110236220472444,
          2.0344827586206895,
          3.1452991452991452,
          150.20422535211267,
          113.27659574468085,
          157.05343511450383,
          4.5813953488372094,
          14.547826086956523,
          6.384615384615385,
          28.849206349206348,
          443.984375,
          100.77952755905511,
          0.7933884297520661,
          818.8111888111888,
          95.86821705426357,
          3967,
          37.346774193548384,
          1.0104166666666667,
          73.25384615384615,
          218.86238532110093,
          25.058823529411764,
          24.8,
          26.94214876033058
         ]
        }
       ],
       "layout": {
        "template": {
         "data": {
          "bar": [
           {
            "error_x": {
             "color": "#2a3f5f"
            },
            "error_y": {
             "color": "#2a3f5f"
            },
            "marker": {
             "line": {
              "color": "#E5ECF6",
              "width": 0.5
             }
            },
            "type": "bar"
           }
          ],
          "barpolar": [
           {
            "marker": {
             "line": {
              "color": "#E5ECF6",
              "width": 0.5
             }
            },
            "type": "barpolar"
           }
          ],
          "carpet": [
           {
            "aaxis": {
             "endlinecolor": "#2a3f5f",
             "gridcolor": "white",
             "linecolor": "white",
             "minorgridcolor": "white",
             "startlinecolor": "#2a3f5f"
            },
            "baxis": {
             "endlinecolor": "#2a3f5f",
             "gridcolor": "white",
             "linecolor": "white",
             "minorgridcolor": "white",
             "startlinecolor": "#2a3f5f"
            },
            "type": "carpet"
           }
          ],
          "choropleth": [
           {
            "colorbar": {
             "outlinewidth": 0,
             "ticks": ""
            },
            "type": "choropleth"
           }
          ],
          "contour": [
           {
            "colorbar": {
             "outlinewidth": 0,
             "ticks": ""
            },
            "colorscale": [
             [
              0,
              "#0d0887"
             ],
             [
              0.1111111111111111,
              "#46039f"
             ],
             [
              0.2222222222222222,
              "#7201a8"
             ],
             [
              0.3333333333333333,
              "#9c179e"
             ],
             [
              0.4444444444444444,
              "#bd3786"
             ],
             [
              0.5555555555555556,
              "#d8576b"
             ],
             [
              0.6666666666666666,
              "#ed7953"
             ],
             [
              0.7777777777777778,
              "#fb9f3a"
             ],
             [
              0.8888888888888888,
              "#fdca26"
             ],
             [
              1,
              "#f0f921"
             ]
            ],
            "type": "contour"
           }
          ],
          "contourcarpet": [
           {
            "colorbar": {
             "outlinewidth": 0,
             "ticks": ""
            },
            "type": "contourcarpet"
           }
          ],
          "heatmap": [
           {
            "colorbar": {
             "outlinewidth": 0,
             "ticks": ""
            },
            "colorscale": [
             [
              0,
              "#0d0887"
             ],
             [
              0.1111111111111111,
              "#46039f"
             ],
             [
              0.2222222222222222,
              "#7201a8"
             ],
             [
              0.3333333333333333,
              "#9c179e"
             ],
             [
              0.4444444444444444,
              "#bd3786"
             ],
             [
              0.5555555555555556,
              "#d8576b"
             ],
             [
              0.6666666666666666,
              "#ed7953"
             ],
             [
              0.7777777777777778,
              "#fb9f3a"
             ],
             [
              0.8888888888888888,
              "#fdca26"
             ],
             [
              1,
              "#f0f921"
             ]
            ],
            "type": "heatmap"
           }
          ],
          "heatmapgl": [
           {
            "colorbar": {
             "outlinewidth": 0,
             "ticks": ""
            },
            "colorscale": [
             [
              0,
              "#0d0887"
             ],
             [
              0.1111111111111111,
              "#46039f"
             ],
             [
              0.2222222222222222,
              "#7201a8"
             ],
             [
              0.3333333333333333,
              "#9c179e"
             ],
             [
              0.4444444444444444,
              "#bd3786"
             ],
             [
              0.5555555555555556,
              "#d8576b"
             ],
             [
              0.6666666666666666,
              "#ed7953"
             ],
             [
              0.7777777777777778,
              "#fb9f3a"
             ],
             [
              0.8888888888888888,
              "#fdca26"
             ],
             [
              1,
              "#f0f921"
             ]
            ],
            "type": "heatmapgl"
           }
          ],
          "histogram": [
           {
            "marker": {
             "colorbar": {
              "outlinewidth": 0,
              "ticks": ""
             }
            },
            "type": "histogram"
           }
          ],
          "histogram2d": [
           {
            "colorbar": {
             "outlinewidth": 0,
             "ticks": ""
            },
            "colorscale": [
             [
              0,
              "#0d0887"
             ],
             [
              0.1111111111111111,
              "#46039f"
             ],
             [
              0.2222222222222222,
              "#7201a8"
             ],
             [
              0.3333333333333333,
              "#9c179e"
             ],
             [
              0.4444444444444444,
              "#bd3786"
             ],
             [
              0.5555555555555556,
              "#d8576b"
             ],
             [
              0.6666666666666666,
              "#ed7953"
             ],
             [
              0.7777777777777778,
              "#fb9f3a"
             ],
             [
              0.8888888888888888,
              "#fdca26"
             ],
             [
              1,
              "#f0f921"
             ]
            ],
            "type": "histogram2d"
           }
          ],
          "histogram2dcontour": [
           {
            "colorbar": {
             "outlinewidth": 0,
             "ticks": ""
            },
            "colorscale": [
             [
              0,
              "#0d0887"
             ],
             [
              0.1111111111111111,
              "#46039f"
             ],
             [
              0.2222222222222222,
              "#7201a8"
             ],
             [
              0.3333333333333333,
              "#9c179e"
             ],
             [
              0.4444444444444444,
              "#bd3786"
             ],
             [
              0.5555555555555556,
              "#d8576b"
             ],
             [
              0.6666666666666666,
              "#ed7953"
             ],
             [
              0.7777777777777778,
              "#fb9f3a"
             ],
             [
              0.8888888888888888,
              "#fdca26"
             ],
             [
              1,
              "#f0f921"
             ]
            ],
            "type": "histogram2dcontour"
           }
          ],
          "mesh3d": [
           {
            "colorbar": {
             "outlinewidth": 0,
             "ticks": ""
            },
            "type": "mesh3d"
           }
          ],
          "parcoords": [
           {
            "line": {
             "colorbar": {
              "outlinewidth": 0,
              "ticks": ""
             }
            },
            "type": "parcoords"
           }
          ],
          "pie": [
           {
            "automargin": true,
            "type": "pie"
           }
          ],
          "scatter": [
           {
            "marker": {
             "colorbar": {
              "outlinewidth": 0,
              "ticks": ""
             }
            },
            "type": "scatter"
           }
          ],
          "scatter3d": [
           {
            "line": {
             "colorbar": {
              "outlinewidth": 0,
              "ticks": ""
             }
            },
            "marker": {
             "colorbar": {
              "outlinewidth": 0,
              "ticks": ""
             }
            },
            "type": "scatter3d"
           }
          ],
          "scattercarpet": [
           {
            "marker": {
             "colorbar": {
              "outlinewidth": 0,
              "ticks": ""
             }
            },
            "type": "scattercarpet"
           }
          ],
          "scattergeo": [
           {
            "marker": {
             "colorbar": {
              "outlinewidth": 0,
              "ticks": ""
             }
            },
            "type": "scattergeo"
           }
          ],
          "scattergl": [
           {
            "marker": {
             "colorbar": {
              "outlinewidth": 0,
              "ticks": ""
             }
            },
            "type": "scattergl"
           }
          ],
          "scattermapbox": [
           {
            "marker": {
             "colorbar": {
              "outlinewidth": 0,
              "ticks": ""
             }
            },
            "type": "scattermapbox"
           }
          ],
          "scatterpolar": [
           {
            "marker": {
             "colorbar": {
              "outlinewidth": 0,
              "ticks": ""
             }
            },
            "type": "scatterpolar"
           }
          ],
          "scatterpolargl": [
           {
            "marker": {
             "colorbar": {
              "outlinewidth": 0,
              "ticks": ""
             }
            },
            "type": "scatterpolargl"
           }
          ],
          "scatterternary": [
           {
            "marker": {
             "colorbar": {
              "outlinewidth": 0,
              "ticks": ""
             }
            },
            "type": "scatterternary"
           }
          ],
          "surface": [
           {
            "colorbar": {
             "outlinewidth": 0,
             "ticks": ""
            },
            "colorscale": [
             [
              0,
              "#0d0887"
             ],
             [
              0.1111111111111111,
              "#46039f"
             ],
             [
              0.2222222222222222,
              "#7201a8"
             ],
             [
              0.3333333333333333,
              "#9c179e"
             ],
             [
              0.4444444444444444,
              "#bd3786"
             ],
             [
              0.5555555555555556,
              "#d8576b"
             ],
             [
              0.6666666666666666,
              "#ed7953"
             ],
             [
              0.7777777777777778,
              "#fb9f3a"
             ],
             [
              0.8888888888888888,
              "#fdca26"
             ],
             [
              1,
              "#f0f921"
             ]
            ],
            "type": "surface"
           }
          ],
          "table": [
           {
            "cells": {
             "fill": {
              "color": "#EBF0F8"
             },
             "line": {
              "color": "white"
             }
            },
            "header": {
             "fill": {
              "color": "#C8D4E3"
             },
             "line": {
              "color": "white"
             }
            },
            "type": "table"
           }
          ]
         },
         "layout": {
          "annotationdefaults": {
           "arrowcolor": "#2a3f5f",
           "arrowhead": 0,
           "arrowwidth": 1
          },
          "coloraxis": {
           "colorbar": {
            "outlinewidth": 0,
            "ticks": ""
           }
          },
          "colorscale": {
           "diverging": [
            [
             0,
             "#8e0152"
            ],
            [
             0.1,
             "#c51b7d"
            ],
            [
             0.2,
             "#de77ae"
            ],
            [
             0.3,
             "#f1b6da"
            ],
            [
             0.4,
             "#fde0ef"
            ],
            [
             0.5,
             "#f7f7f7"
            ],
            [
             0.6,
             "#e6f5d0"
            ],
            [
             0.7,
             "#b8e186"
            ],
            [
             0.8,
             "#7fbc41"
            ],
            [
             0.9,
             "#4d9221"
            ],
            [
             1,
             "#276419"
            ]
           ],
           "sequential": [
            [
             0,
             "#0d0887"
            ],
            [
             0.1111111111111111,
             "#46039f"
            ],
            [
             0.2222222222222222,
             "#7201a8"
            ],
            [
             0.3333333333333333,
             "#9c179e"
            ],
            [
             0.4444444444444444,
             "#bd3786"
            ],
            [
             0.5555555555555556,
             "#d8576b"
            ],
            [
             0.6666666666666666,
             "#ed7953"
            ],
            [
             0.7777777777777778,
             "#fb9f3a"
            ],
            [
             0.8888888888888888,
             "#fdca26"
            ],
            [
             1,
             "#f0f921"
            ]
           ],
           "sequentialminus": [
            [
             0,
             "#0d0887"
            ],
            [
             0.1111111111111111,
             "#46039f"
            ],
            [
             0.2222222222222222,
             "#7201a8"
            ],
            [
             0.3333333333333333,
             "#9c179e"
            ],
            [
             0.4444444444444444,
             "#bd3786"
            ],
            [
             0.5555555555555556,
             "#d8576b"
            ],
            [
             0.6666666666666666,
             "#ed7953"
            ],
            [
             0.7777777777777778,
             "#fb9f3a"
            ],
            [
             0.8888888888888888,
             "#fdca26"
            ],
            [
             1,
             "#f0f921"
            ]
           ]
          },
          "colorway": [
           "#636efa",
           "#EF553B",
           "#00cc96",
           "#ab63fa",
           "#FFA15A",
           "#19d3f3",
           "#FF6692",
           "#B6E880",
           "#FF97FF",
           "#FECB52"
          ],
          "font": {
           "color": "#2a3f5f"
          },
          "geo": {
           "bgcolor": "white",
           "lakecolor": "white",
           "landcolor": "#E5ECF6",
           "showlakes": true,
           "showland": true,
           "subunitcolor": "white"
          },
          "hoverlabel": {
           "align": "left"
          },
          "hovermode": "closest",
          "mapbox": {
           "style": "light"
          },
          "paper_bgcolor": "white",
          "plot_bgcolor": "#E5ECF6",
          "polar": {
           "angularaxis": {
            "gridcolor": "white",
            "linecolor": "white",
            "ticks": ""
           },
           "bgcolor": "#E5ECF6",
           "radialaxis": {
            "gridcolor": "white",
            "linecolor": "white",
            "ticks": ""
           }
          },
          "scene": {
           "xaxis": {
            "backgroundcolor": "#E5ECF6",
            "gridcolor": "white",
            "gridwidth": 2,
            "linecolor": "white",
            "showbackground": true,
            "ticks": "",
            "zerolinecolor": "white"
           },
           "yaxis": {
            "backgroundcolor": "#E5ECF6",
            "gridcolor": "white",
            "gridwidth": 2,
            "linecolor": "white",
            "showbackground": true,
            "ticks": "",
            "zerolinecolor": "white"
           },
           "zaxis": {
            "backgroundcolor": "#E5ECF6",
            "gridcolor": "white",
            "gridwidth": 2,
            "linecolor": "white",
            "showbackground": true,
            "ticks": "",
            "zerolinecolor": "white"
           }
          },
          "shapedefaults": {
           "line": {
            "color": "#2a3f5f"
           }
          },
          "ternary": {
           "aaxis": {
            "gridcolor": "white",
            "linecolor": "white",
            "ticks": ""
           },
           "baxis": {
            "gridcolor": "white",
            "linecolor": "white",
            "ticks": ""
           },
           "bgcolor": "#E5ECF6",
           "caxis": {
            "gridcolor": "white",
            "linecolor": "white",
            "ticks": ""
           }
          },
          "title": {
           "x": 0.05
          },
          "xaxis": {
           "automargin": true,
           "gridcolor": "white",
           "linecolor": "white",
           "ticks": "",
           "title": {
            "standoff": 15
           },
           "zerolinecolor": "white",
           "zerolinewidth": 2
          },
          "yaxis": {
           "automargin": true,
           "gridcolor": "white",
           "linecolor": "white",
           "ticks": "",
           "title": {
            "standoff": 15
           },
           "zerolinecolor": "white",
           "zerolinewidth": 2
          }
         }
        },
        "title": {
         "text": "Mean Production in 1961 in Differet Parts of World"
        }
       }
      },
      "text/html": [
       "<div>\n",
       "        \n",
       "        \n",
       "            <div id=\"8c4b034b-3493-4189-81a9-e8b4362415f6\" class=\"plotly-graph-div\" style=\"height:525px; width:100%;\"></div>\n",
       "            <script type=\"text/javascript\">\n",
       "                require([\"plotly\"], function(Plotly) {\n",
       "                    window.PLOTLYENV=window.PLOTLYENV || {};\n",
       "                    \n",
       "                if (document.getElementById(\"8c4b034b-3493-4189-81a9-e8b4362415f6\")) {\n",
       "                    Plotly.newPlot(\n",
       "                        '8c4b034b-3493-4189-81a9-e8b4362415f6',\n",
       "                        [{\"colorscale\": [[0.0, \"rgb(12,51,131)\"], [0.25, \"rgb(10,136,186)\"], [0.5, \"rgb(242,211,56)\"], [0.75, \"rgb(242,143,56)\"], [1.0, \"rgb(217,30,30)\"]], \"locationmode\": \"country names\", \"locations\": [\"Afghanistan\", \"Albania\", \"Algeria\", \"Angola\", \"Antigua and Barbuda\", \"Argentina\", \"Australia\", \"Austria\", \"Bahamas\", \"Bangladesh\", \"Barbados\", \"Belize\", \"Benin\", \"Bermuda\", \"Bolivia (Plurinational State of)\", \"Botswana\", \"Brazil\", \"Brunei Darussalam\", \"Bulgaria\", \"Burkina Faso\", \"Cabo Verde\", \"Cambodia\", \"Cameroon\", \"Canada\", \"Central African Republic\", \"Chad\", \"Chile\", \"China, Hong Kong SAR\", \"China, Macao SAR\", \"China, Taiwan Province of\", \"China, mainland\", \"Colombia\", \"Congo\", \"Costa Rica\", \"Cuba\", \"Cyprus\", \"C\\u00f4te d'Ivoire\", \"Democratic People's Republic of Korea\", \"Denmark\", \"Djibouti\", \"Dominica\", \"Dominican Republic\", \"Ecuador\", \"Egypt\", \"El Salvador\", \"Fiji\", \"Finland\", \"France\", \"French Polynesia\", \"Gabon\", \"Gambia\", \"Germany\", \"Ghana\", \"Greece\", \"Grenada\", \"Guatemala\", \"Guinea\", \"Guinea-Bissau\", \"Guyana\", \"Haiti\", \"Honduras\", \"Hungary\", \"Iceland\", \"India\", \"Indonesia\", \"Iran (Islamic Republic of)\", \"Iraq\", \"Ireland\", \"Israel\", \"Italy\", \"Jamaica\", \"Japan\", \"Jordan\", \"Kenya\", \"Kiribati\", \"Kuwait\", \"Lao People's Democratic Republic\", \"Lebanon\", \"Lesotho\", \"Liberia\", \"Madagascar\", \"Malawi\", \"Malaysia\", \"Maldives\", \"Mali\", \"Malta\", \"Mauritania\", \"Mauritius\", \"Mexico\", \"Mongolia\", \"Morocco\", \"Mozambique\", \"Myanmar\", \"Namibia\", \"Nepal\", \"Netherlands\", \"New Caledonia\", \"New Zealand\", \"Nicaragua\", \"Niger\", \"Nigeria\", \"Norway\", \"Pakistan\", \"Panama\", \"Paraguay\", \"Peru\", \"Philippines\", \"Poland\", \"Portugal\", \"Republic of Korea\", \"Romania\", \"Rwanda\", \"Saint Kitts and Nevis\", \"Saint Lucia\", \"Saint Vincent and the Grenadines\", \"Samoa\", \"Sao Tome and Principe\", \"Saudi Arabia\", \"Senegal\", \"Sierra Leone\", \"Solomon Islands\", \"South Africa\", \"Spain\", \"Sri Lanka\", \"Suriname\", \"Swaziland\", \"Sweden\", \"Switzerland\", \"Thailand\", \"Timor-Leste\", \"Togo\", \"Trinidad and Tobago\", \"Tunisia\", \"Turkey\", \"Uganda\", \"United Arab Emirates\", \"United Kingdom\", \"United Republic of Tanzania\", \"United States of America\", \"Uruguay\", \"Vanuatu\", \"Venezuela (Bolivarian Republic of)\", \"Viet Nam\", \"Yemen\", \"Zambia\", \"Zimbabwe\"], \"text\": [\"Afghanistan\", \"Albania\", \"Algeria\", \"Angola\", \"Antigua and Barbuda\", \"Argentina\", \"Australia\", \"Austria\", \"Bahamas\", \"Bangladesh\", \"Barbados\", \"Belize\", \"Benin\", \"Bermuda\", \"Bolivia (Plurinational State of)\", \"Botswana\", \"Brazil\", \"Brunei Darussalam\", \"Bulgaria\", \"Burkina Faso\", \"Cabo Verde\", \"Cambodia\", \"Cameroon\", \"Canada\", \"Central African Republic\", \"Chad\", \"Chile\", \"China, Hong Kong SAR\", \"China, Macao SAR\", \"China, Taiwan Province of\", \"China, mainland\", \"Colombia\", \"Congo\", \"Costa Rica\", \"Cuba\", \"Cyprus\", \"C\\u00f4te d'Ivoire\", \"Democratic People's Republic of Korea\", \"Denmark\", \"Djibouti\", \"Dominica\", \"Dominican Republic\", \"Ecuador\", \"Egypt\", \"El Salvador\", \"Fiji\", \"Finland\", \"France\", \"French Polynesia\", \"Gabon\", \"Gambia\", \"Germany\", \"Ghana\", \"Greece\", \"Grenada\", \"Guatemala\", \"Guinea\", \"Guinea-Bissau\", \"Guyana\", \"Haiti\", \"Honduras\", \"Hungary\", \"Iceland\", \"India\", \"Indonesia\", \"Iran (Islamic Republic of)\", \"Iraq\", \"Ireland\", \"Israel\", \"Italy\", \"Jamaica\", \"Japan\", \"Jordan\", \"Kenya\", \"Kiribati\", \"Kuwait\", \"Lao People's Democratic Republic\", \"Lebanon\", \"Lesotho\", \"Liberia\", \"Madagascar\", \"Malawi\", \"Malaysia\", \"Maldives\", \"Mali\", \"Malta\", \"Mauritania\", \"Mauritius\", \"Mexico\", \"Mongolia\", \"Morocco\", \"Mozambique\", \"Myanmar\", \"Namibia\", \"Nepal\", \"Netherlands\", \"New Caledonia\", \"New Zealand\", \"Nicaragua\", \"Niger\", \"Nigeria\", \"Norway\", \"Pakistan\", \"Panama\", \"Paraguay\", \"Peru\", \"Philippines\", \"Poland\", \"Portugal\", \"Republic of Korea\", \"Romania\", \"Rwanda\", \"Saint Kitts and Nevis\", \"Saint Lucia\", \"Saint Vincent and the Grenadines\", \"Samoa\", \"Sao Tome and Principe\", \"Saudi Arabia\", \"Senegal\", \"Sierra Leone\", \"Solomon Islands\", \"South Africa\", \"Spain\", \"Sri Lanka\", \"Suriname\", \"Swaziland\", \"Sweden\", \"Switzerland\", \"Thailand\", \"Timor-Leste\", \"Togo\", \"Trinidad and Tobago\", \"Tunisia\", \"Turkey\", \"Uganda\", \"United Arab Emirates\", \"United Kingdom\", \"United Republic of Tanzania\", \"United States of America\", \"Uruguay\", \"Vanuatu\", \"Venezuela (Bolivarian Republic of)\", \"Viet Nam\", \"Yemen\", \"Zambia\", \"Zimbabwe\"], \"type\": \"choropleth\", \"z\": [114.2289156626506, 13.869918699186991, 60.38709677419355, 44.34862385321101, 0.7863247863247863, 352.8617886178862, 201.5234375, 162.1726618705036, 1.1896551724137931, 239.4390243902439, 2.0165289256198347, 0.8125, 19.4017094017094, 0.6504854368932039, 28.639344262295083, 3.8, 923.3649635036496, 0.5166666666666667, 119.24626865671642, 29.286956521739132, 1.330188679245283, 32.206896551724135, 47.8, 389.07142857142856, 19.743119266055047, 21.796116504854368, 85.5390625, 21.76691729323308, 1.0743801652892562, 100.95744680851064, 3269.0342465753424, 134.6969696969697, 11.441666666666666, 9.666666666666666, 71.16788321167883, 6.037037037037037, 41.10084033613445, 106.45360824742268, 179.85611510791367, 0.4205607476635514, 0.7387387387387387, 31.169642857142858, 78.67164179104478, 201.23880597014926, 15.476923076923077, 4.264, 107.19548872180451, 988.4642857142857, 0.8016528925619835, 5.725, 2.175925925925926, 1447.8843537414966, 70.275, 95.15384615384616, 0.6333333333333333, 20.776923076923076, 31.044642857142858, 3.879120879120879, 4.563025210084033, 39.43333333333333, 13.636363636363637, 181.61267605633802, 3.176, 2310.186567164179, 492.23809523809524, 144.025, 55.108333333333334, 85.31617647058823, 34.31111111111111, 713.0675675675676, 12.663865546218487, 784.2027972027972, 16.055118110236222, 68.66929133858268, 0.43617021276595747, 3.0655737704918034, 12.617647058823529, 18.45736434108527, 8.0, 11.393939393939394, 48.208, 22.075, 50.59701492537314, 0.5769230769230769, 28.086206896551722, 3.646153846153846, 7.344827586206897, 4.067226890756302, 267.05263157894734, 9.026315789473685, 68.03875968992249, 68.06140350877193, 91.13392857142857, 6.371900826446281, 46.86776859504132, 239.54609929078015, 1.0930232558139534, 56.90298507462686, 11.651162790697674, 19.66949152542373, 380.5496183206107, 64.25714285714285, 261.21804511278197, 10.592307692307692, 36.040983606557376, 86.0530303030303, 188.43661971830986, 959.1323529411765, 96.48507462686567, 135.93283582089552, 259.6546762589928, 36.25, 0.2727272727272727, 1.017391304347826, 0.6880733944954128, 1.4537037037037037, 0.9010989010989011, 19.9, 20.233333333333334, 14.315315315315315, 1.81, 156.5857142857143, 386.55333333333334, 59.110236220472444, 2.0344827586206895, 3.1452991452991452, 150.20422535211267, 113.27659574468085, 157.05343511450383, 4.5813953488372094, 14.547826086956523, 6.384615384615385, 28.849206349206348, 443.984375, 100.77952755905511, 0.7933884297520661, 818.8111888111888, 95.86821705426357, 3967.0, 37.346774193548384, 1.0104166666666667, 73.25384615384615, 218.86238532110093, 25.058823529411764, 24.8, 26.94214876033058]}],\n",
       "                        {\"template\": {\"data\": {\"bar\": [{\"error_x\": {\"color\": \"#2a3f5f\"}, \"error_y\": {\"color\": \"#2a3f5f\"}, \"marker\": {\"line\": {\"color\": \"#E5ECF6\", \"width\": 0.5}}, \"type\": \"bar\"}], \"barpolar\": [{\"marker\": {\"line\": {\"color\": \"#E5ECF6\", \"width\": 0.5}}, \"type\": \"barpolar\"}], \"carpet\": [{\"aaxis\": {\"endlinecolor\": \"#2a3f5f\", \"gridcolor\": \"white\", \"linecolor\": \"white\", \"minorgridcolor\": \"white\", \"startlinecolor\": \"#2a3f5f\"}, \"baxis\": {\"endlinecolor\": \"#2a3f5f\", \"gridcolor\": \"white\", \"linecolor\": \"white\", \"minorgridcolor\": \"white\", \"startlinecolor\": \"#2a3f5f\"}, \"type\": \"carpet\"}], \"choropleth\": [{\"colorbar\": {\"outlinewidth\": 0, \"ticks\": \"\"}, \"type\": \"choropleth\"}], \"contour\": [{\"colorbar\": {\"outlinewidth\": 0, \"ticks\": \"\"}, \"colorscale\": [[0.0, \"#0d0887\"], [0.1111111111111111, \"#46039f\"], [0.2222222222222222, \"#7201a8\"], [0.3333333333333333, \"#9c179e\"], [0.4444444444444444, \"#bd3786\"], [0.5555555555555556, \"#d8576b\"], [0.6666666666666666, \"#ed7953\"], [0.7777777777777778, \"#fb9f3a\"], [0.8888888888888888, \"#fdca26\"], [1.0, \"#f0f921\"]], \"type\": \"contour\"}], \"contourcarpet\": [{\"colorbar\": {\"outlinewidth\": 0, \"ticks\": \"\"}, \"type\": \"contourcarpet\"}], \"heatmap\": [{\"colorbar\": {\"outlinewidth\": 0, \"ticks\": \"\"}, \"colorscale\": [[0.0, \"#0d0887\"], [0.1111111111111111, \"#46039f\"], [0.2222222222222222, \"#7201a8\"], [0.3333333333333333, \"#9c179e\"], [0.4444444444444444, \"#bd3786\"], [0.5555555555555556, \"#d8576b\"], [0.6666666666666666, \"#ed7953\"], [0.7777777777777778, \"#fb9f3a\"], [0.8888888888888888, \"#fdca26\"], [1.0, \"#f0f921\"]], \"type\": \"heatmap\"}], \"heatmapgl\": [{\"colorbar\": {\"outlinewidth\": 0, \"ticks\": \"\"}, \"colorscale\": [[0.0, \"#0d0887\"], [0.1111111111111111, \"#46039f\"], [0.2222222222222222, \"#7201a8\"], [0.3333333333333333, \"#9c179e\"], [0.4444444444444444, \"#bd3786\"], [0.5555555555555556, \"#d8576b\"], [0.6666666666666666, \"#ed7953\"], [0.7777777777777778, \"#fb9f3a\"], [0.8888888888888888, \"#fdca26\"], [1.0, \"#f0f921\"]], \"type\": \"heatmapgl\"}], \"histogram\": [{\"marker\": {\"colorbar\": {\"outlinewidth\": 0, \"ticks\": \"\"}}, \"type\": \"histogram\"}], \"histogram2d\": [{\"colorbar\": {\"outlinewidth\": 0, \"ticks\": \"\"}, \"colorscale\": [[0.0, \"#0d0887\"], [0.1111111111111111, \"#46039f\"], [0.2222222222222222, \"#7201a8\"], [0.3333333333333333, \"#9c179e\"], [0.4444444444444444, \"#bd3786\"], [0.5555555555555556, \"#d8576b\"], [0.6666666666666666, \"#ed7953\"], [0.7777777777777778, \"#fb9f3a\"], [0.8888888888888888, \"#fdca26\"], [1.0, \"#f0f921\"]], \"type\": \"histogram2d\"}], \"histogram2dcontour\": [{\"colorbar\": {\"outlinewidth\": 0, \"ticks\": \"\"}, \"colorscale\": [[0.0, \"#0d0887\"], [0.1111111111111111, \"#46039f\"], [0.2222222222222222, \"#7201a8\"], [0.3333333333333333, \"#9c179e\"], [0.4444444444444444, \"#bd3786\"], [0.5555555555555556, \"#d8576b\"], [0.6666666666666666, \"#ed7953\"], [0.7777777777777778, \"#fb9f3a\"], [0.8888888888888888, \"#fdca26\"], [1.0, \"#f0f921\"]], \"type\": \"histogram2dcontour\"}], \"mesh3d\": [{\"colorbar\": {\"outlinewidth\": 0, \"ticks\": \"\"}, \"type\": \"mesh3d\"}], \"parcoords\": [{\"line\": {\"colorbar\": {\"outlinewidth\": 0, \"ticks\": \"\"}}, \"type\": \"parcoords\"}], \"pie\": [{\"automargin\": true, \"type\": \"pie\"}], \"scatter\": [{\"marker\": {\"colorbar\": {\"outlinewidth\": 0, \"ticks\": \"\"}}, \"type\": \"scatter\"}], \"scatter3d\": [{\"line\": {\"colorbar\": {\"outlinewidth\": 0, \"ticks\": \"\"}}, \"marker\": {\"colorbar\": {\"outlinewidth\": 0, \"ticks\": \"\"}}, \"type\": \"scatter3d\"}], \"scattercarpet\": [{\"marker\": {\"colorbar\": {\"outlinewidth\": 0, \"ticks\": \"\"}}, \"type\": \"scattercarpet\"}], \"scattergeo\": [{\"marker\": {\"colorbar\": {\"outlinewidth\": 0, \"ticks\": \"\"}}, \"type\": \"scattergeo\"}], \"scattergl\": [{\"marker\": {\"colorbar\": {\"outlinewidth\": 0, \"ticks\": \"\"}}, \"type\": \"scattergl\"}], \"scattermapbox\": [{\"marker\": {\"colorbar\": {\"outlinewidth\": 0, \"ticks\": \"\"}}, \"type\": \"scattermapbox\"}], \"scatterpolar\": [{\"marker\": {\"colorbar\": {\"outlinewidth\": 0, \"ticks\": \"\"}}, \"type\": \"scatterpolar\"}], \"scatterpolargl\": [{\"marker\": {\"colorbar\": {\"outlinewidth\": 0, \"ticks\": \"\"}}, \"type\": \"scatterpolargl\"}], \"scatterternary\": [{\"marker\": {\"colorbar\": {\"outlinewidth\": 0, \"ticks\": \"\"}}, \"type\": \"scatterternary\"}], \"surface\": [{\"colorbar\": {\"outlinewidth\": 0, \"ticks\": \"\"}, \"colorscale\": [[0.0, \"#0d0887\"], [0.1111111111111111, \"#46039f\"], [0.2222222222222222, \"#7201a8\"], [0.3333333333333333, \"#9c179e\"], [0.4444444444444444, \"#bd3786\"], [0.5555555555555556, \"#d8576b\"], [0.6666666666666666, \"#ed7953\"], [0.7777777777777778, \"#fb9f3a\"], [0.8888888888888888, \"#fdca26\"], [1.0, \"#f0f921\"]], \"type\": \"surface\"}], \"table\": [{\"cells\": {\"fill\": {\"color\": \"#EBF0F8\"}, \"line\": {\"color\": \"white\"}}, \"header\": {\"fill\": {\"color\": \"#C8D4E3\"}, \"line\": {\"color\": \"white\"}}, \"type\": \"table\"}]}, \"layout\": {\"annotationdefaults\": {\"arrowcolor\": \"#2a3f5f\", \"arrowhead\": 0, \"arrowwidth\": 1}, \"coloraxis\": {\"colorbar\": {\"outlinewidth\": 0, \"ticks\": \"\"}}, \"colorscale\": {\"diverging\": [[0, \"#8e0152\"], [0.1, \"#c51b7d\"], [0.2, \"#de77ae\"], [0.3, \"#f1b6da\"], [0.4, \"#fde0ef\"], [0.5, \"#f7f7f7\"], [0.6, \"#e6f5d0\"], [0.7, \"#b8e186\"], [0.8, \"#7fbc41\"], [0.9, \"#4d9221\"], [1, \"#276419\"]], \"sequential\": [[0.0, \"#0d0887\"], [0.1111111111111111, \"#46039f\"], [0.2222222222222222, \"#7201a8\"], [0.3333333333333333, \"#9c179e\"], [0.4444444444444444, \"#bd3786\"], [0.5555555555555556, \"#d8576b\"], [0.6666666666666666, \"#ed7953\"], [0.7777777777777778, \"#fb9f3a\"], [0.8888888888888888, \"#fdca26\"], [1.0, \"#f0f921\"]], \"sequentialminus\": [[0.0, \"#0d0887\"], [0.1111111111111111, \"#46039f\"], [0.2222222222222222, \"#7201a8\"], [0.3333333333333333, \"#9c179e\"], [0.4444444444444444, \"#bd3786\"], [0.5555555555555556, \"#d8576b\"], [0.6666666666666666, \"#ed7953\"], [0.7777777777777778, \"#fb9f3a\"], [0.8888888888888888, \"#fdca26\"], [1.0, \"#f0f921\"]]}, \"colorway\": [\"#636efa\", \"#EF553B\", \"#00cc96\", \"#ab63fa\", \"#FFA15A\", \"#19d3f3\", \"#FF6692\", \"#B6E880\", \"#FF97FF\", \"#FECB52\"], \"font\": {\"color\": \"#2a3f5f\"}, \"geo\": {\"bgcolor\": \"white\", \"lakecolor\": \"white\", \"landcolor\": \"#E5ECF6\", \"showlakes\": true, \"showland\": true, \"subunitcolor\": \"white\"}, \"hoverlabel\": {\"align\": \"left\"}, \"hovermode\": \"closest\", \"mapbox\": {\"style\": \"light\"}, \"paper_bgcolor\": \"white\", \"plot_bgcolor\": \"#E5ECF6\", \"polar\": {\"angularaxis\": {\"gridcolor\": \"white\", \"linecolor\": \"white\", \"ticks\": \"\"}, \"bgcolor\": \"#E5ECF6\", \"radialaxis\": {\"gridcolor\": \"white\", \"linecolor\": \"white\", \"ticks\": \"\"}}, \"scene\": {\"xaxis\": {\"backgroundcolor\": \"#E5ECF6\", \"gridcolor\": \"white\", \"gridwidth\": 2, \"linecolor\": \"white\", \"showbackground\": true, \"ticks\": \"\", \"zerolinecolor\": \"white\"}, \"yaxis\": {\"backgroundcolor\": \"#E5ECF6\", \"gridcolor\": \"white\", \"gridwidth\": 2, \"linecolor\": \"white\", \"showbackground\": true, \"ticks\": \"\", \"zerolinecolor\": \"white\"}, \"zaxis\": {\"backgroundcolor\": \"#E5ECF6\", \"gridcolor\": \"white\", \"gridwidth\": 2, \"linecolor\": \"white\", \"showbackground\": true, \"ticks\": \"\", \"zerolinecolor\": \"white\"}}, \"shapedefaults\": {\"line\": {\"color\": \"#2a3f5f\"}}, \"ternary\": {\"aaxis\": {\"gridcolor\": \"white\", \"linecolor\": \"white\", \"ticks\": \"\"}, \"baxis\": {\"gridcolor\": \"white\", \"linecolor\": \"white\", \"ticks\": \"\"}, \"bgcolor\": \"#E5ECF6\", \"caxis\": {\"gridcolor\": \"white\", \"linecolor\": \"white\", \"ticks\": \"\"}}, \"title\": {\"x\": 0.05}, \"xaxis\": {\"automargin\": true, \"gridcolor\": \"white\", \"linecolor\": \"white\", \"ticks\": \"\", \"title\": {\"standoff\": 15}, \"zerolinecolor\": \"white\", \"zerolinewidth\": 2}, \"yaxis\": {\"automargin\": true, \"gridcolor\": \"white\", \"linecolor\": \"white\", \"ticks\": \"\", \"title\": {\"standoff\": 15}, \"zerolinecolor\": \"white\", \"zerolinewidth\": 2}}}, \"title\": {\"text\": \"Mean Production in 1961 in Differet Parts of World\"}},\n",
       "                        {\"responsive\": true}\n",
       "                    ).then(function(){\n",
       "                            \n",
       "var gd = document.getElementById('8c4b034b-3493-4189-81a9-e8b4362415f6');\n",
       "var x = new MutationObserver(function (mutations, observer) {{\n",
       "        var display = window.getComputedStyle(gd).display;\n",
       "        if (!display || display === 'none') {{\n",
       "            console.log([gd, 'removed!']);\n",
       "            Plotly.purge(gd);\n",
       "            observer.disconnect();\n",
       "        }}\n",
       "}});\n",
       "\n",
       "// Listen for the removal of the full notebook cells\n",
       "var notebookContainer = gd.closest('#notebook-container');\n",
       "if (notebookContainer) {{\n",
       "    x.observe(notebookContainer, {childList: true});\n",
       "}}\n",
       "\n",
       "// Listen for the clearing of the current output cell\n",
       "var outputEl = gd.closest('.output');\n",
       "if (outputEl) {{\n",
       "    x.observe(outputEl, {childList: true});\n",
       "}}\n",
       "\n",
       "                        })\n",
       "                };\n",
       "                });\n",
       "            </script>\n",
       "        </div>"
      ]
     },
     "metadata": {},
     "output_type": "display_data"
    }
   ],
   "source": [
    "# PLACING THE CURSOR ON A COUNTRY WILL SHOW THE VALUE.\n",
    "\n",
    "df = data['Area'].value_counts().sort_index().index\n",
    "df2 = data.groupby('Area')['Y1961'].agg('mean')\n",
    "\n",
    "trace = gr.Choropleth(\n",
    "    locationmode = 'country names',\n",
    "    locations = df,\n",
    "    text = df,\n",
    "    colorscale = 'Portland',\n",
    "    z = df2.values\n",
    ")\n",
    "df3 = [trace]\n",
    "layout = gr.Layout(\n",
    "    title = 'Mean Production in 1961 in Differet Parts of World')\n",
    "\n",
    "fig = gr.Figure(data = df3, layout = layout)\n",
    "iplot(fig)"
   ]
  },
  {
   "cell_type": "code",
   "execution_count": 15,
   "metadata": {},
   "outputs": [
    {
     "data": {
      "text/html": [
       "<div>\n",
       "<style scoped>\n",
       "    .dataframe tbody tr th:only-of-type {\n",
       "        vertical-align: middle;\n",
       "    }\n",
       "\n",
       "    .dataframe tbody tr th {\n",
       "        vertical-align: top;\n",
       "    }\n",
       "\n",
       "    .dataframe thead th {\n",
       "        text-align: right;\n",
       "    }\n",
       "</style>\n",
       "<table border=\"1\" class=\"dataframe\">\n",
       "  <thead>\n",
       "    <tr style=\"text-align: right;\">\n",
       "      <th></th>\n",
       "      <th>Area Abbreviation</th>\n",
       "      <th>Area Code</th>\n",
       "      <th>Area</th>\n",
       "      <th>Item Code</th>\n",
       "      <th>Item</th>\n",
       "      <th>Element Code</th>\n",
       "      <th>Element</th>\n",
       "      <th>Unit</th>\n",
       "      <th>latitude</th>\n",
       "      <th>longitude</th>\n",
       "      <th>...</th>\n",
       "      <th>Y2005</th>\n",
       "      <th>Y2006</th>\n",
       "      <th>Y2007</th>\n",
       "      <th>Y2008</th>\n",
       "      <th>Y2009</th>\n",
       "      <th>Y2010</th>\n",
       "      <th>Y2011</th>\n",
       "      <th>Y2012</th>\n",
       "      <th>Y2013</th>\n",
       "      <th>total</th>\n",
       "    </tr>\n",
       "  </thead>\n",
       "  <tbody>\n",
       "    <tr>\n",
       "      <th>4249</th>\n",
       "      <td>CHN</td>\n",
       "      <td>41</td>\n",
       "      <td>China, mainland</td>\n",
       "      <td>2918</td>\n",
       "      <td>Vegetables</td>\n",
       "      <td>5142</td>\n",
       "      <td>Food</td>\n",
       "      <td>1000 tonnes</td>\n",
       "      <td>35.86</td>\n",
       "      <td>104.20</td>\n",
       "      <td>...</td>\n",
       "      <td>373694.0</td>\n",
       "      <td>388100.0</td>\n",
       "      <td>402975.0</td>\n",
       "      <td>425537.0</td>\n",
       "      <td>434724.0</td>\n",
       "      <td>451838.0</td>\n",
       "      <td>462696.0</td>\n",
       "      <td>479028</td>\n",
       "      <td>489299</td>\n",
       "      <td>9373964.0</td>\n",
       "    </tr>\n",
       "    <tr>\n",
       "      <th>4186</th>\n",
       "      <td>CHN</td>\n",
       "      <td>41</td>\n",
       "      <td>China, mainland</td>\n",
       "      <td>2605</td>\n",
       "      <td>Vegetables, Other</td>\n",
       "      <td>5142</td>\n",
       "      <td>Food</td>\n",
       "      <td>1000 tonnes</td>\n",
       "      <td>35.86</td>\n",
       "      <td>104.20</td>\n",
       "      <td>...</td>\n",
       "      <td>330278.0</td>\n",
       "      <td>343450.0</td>\n",
       "      <td>355019.0</td>\n",
       "      <td>373622.0</td>\n",
       "      <td>377460.0</td>\n",
       "      <td>393516.0</td>\n",
       "      <td>402338.0</td>\n",
       "      <td>419262</td>\n",
       "      <td>426850</td>\n",
       "      <td>8255503.0</td>\n",
       "    </tr>\n",
       "    <tr>\n",
       "      <th>4237</th>\n",
       "      <td>CHN</td>\n",
       "      <td>41</td>\n",
       "      <td>China, mainland</td>\n",
       "      <td>2905</td>\n",
       "      <td>Cereals - Excluding Beer</td>\n",
       "      <td>5142</td>\n",
       "      <td>Food</td>\n",
       "      <td>1000 tonnes</td>\n",
       "      <td>35.86</td>\n",
       "      <td>104.20</td>\n",
       "      <td>...</td>\n",
       "      <td>202337.0</td>\n",
       "      <td>202349.0</td>\n",
       "      <td>200735.0</td>\n",
       "      <td>203218.0</td>\n",
       "      <td>201290.0</td>\n",
       "      <td>204167.0</td>\n",
       "      <td>208701.0</td>\n",
       "      <td>207802</td>\n",
       "      <td>209038</td>\n",
       "      <td>8885265.0</td>\n",
       "    </tr>\n",
       "    <tr>\n",
       "      <th>4236</th>\n",
       "      <td>CHN</td>\n",
       "      <td>41</td>\n",
       "      <td>China, mainland</td>\n",
       "      <td>2905</td>\n",
       "      <td>Cereals - Excluding Beer</td>\n",
       "      <td>5521</td>\n",
       "      <td>Feed</td>\n",
       "      <td>1000 tonnes</td>\n",
       "      <td>35.86</td>\n",
       "      <td>104.20</td>\n",
       "      <td>...</td>\n",
       "      <td>110316.0</td>\n",
       "      <td>111576.0</td>\n",
       "      <td>115518.0</td>\n",
       "      <td>126518.0</td>\n",
       "      <td>131336.0</td>\n",
       "      <td>143443.0</td>\n",
       "      <td>166554.0</td>\n",
       "      <td>181259</td>\n",
       "      <td>193043</td>\n",
       "      <td>4196823.0</td>\n",
       "    </tr>\n",
       "    <tr>\n",
       "      <th>9139</th>\n",
       "      <td>IND</td>\n",
       "      <td>100</td>\n",
       "      <td>India</td>\n",
       "      <td>2905</td>\n",
       "      <td>Cereals - Excluding Beer</td>\n",
       "      <td>5142</td>\n",
       "      <td>Food</td>\n",
       "      <td>1000 tonnes</td>\n",
       "      <td>20.59</td>\n",
       "      <td>78.96</td>\n",
       "      <td>...</td>\n",
       "      <td>167463.0</td>\n",
       "      <td>172010.0</td>\n",
       "      <td>177260.0</td>\n",
       "      <td>181605.0</td>\n",
       "      <td>179175.0</td>\n",
       "      <td>184552.0</td>\n",
       "      <td>184648.0</td>\n",
       "      <td>181267</td>\n",
       "      <td>185884</td>\n",
       "      <td>6841173.0</td>\n",
       "    </tr>\n",
       "    <tr>\n",
       "      <th>4126</th>\n",
       "      <td>CHN</td>\n",
       "      <td>41</td>\n",
       "      <td>China, mainland</td>\n",
       "      <td>2514</td>\n",
       "      <td>Maize and products</td>\n",
       "      <td>5521</td>\n",
       "      <td>Feed</td>\n",
       "      <td>1000 tonnes</td>\n",
       "      <td>35.86</td>\n",
       "      <td>104.20</td>\n",
       "      <td>...</td>\n",
       "      <td>94500.0</td>\n",
       "      <td>92500.0</td>\n",
       "      <td>95500.0</td>\n",
       "      <td>106000.0</td>\n",
       "      <td>105600.0</td>\n",
       "      <td>114500.0</td>\n",
       "      <td>125000.0</td>\n",
       "      <td>140000</td>\n",
       "      <td>150000</td>\n",
       "      <td>3303608.0</td>\n",
       "    </tr>\n",
       "    <tr>\n",
       "      <th>20506</th>\n",
       "      <td>USA</td>\n",
       "      <td>231</td>\n",
       "      <td>United States of America</td>\n",
       "      <td>2905</td>\n",
       "      <td>Cereals - Excluding Beer</td>\n",
       "      <td>5521</td>\n",
       "      <td>Feed</td>\n",
       "      <td>1000 tonnes</td>\n",
       "      <td>37.09</td>\n",
       "      <td>-95.71</td>\n",
       "      <td>...</td>\n",
       "      <td>166631.0</td>\n",
       "      <td>150006.0</td>\n",
       "      <td>156304.0</td>\n",
       "      <td>146098.0</td>\n",
       "      <td>141625.0</td>\n",
       "      <td>131633.0</td>\n",
       "      <td>124808.0</td>\n",
       "      <td>125012</td>\n",
       "      <td>140096</td>\n",
       "      <td>7572790.0</td>\n",
       "    </tr>\n",
       "    <tr>\n",
       "      <th>4250</th>\n",
       "      <td>CHN</td>\n",
       "      <td>41</td>\n",
       "      <td>China, mainland</td>\n",
       "      <td>2919</td>\n",
       "      <td>Fruits - Excluding Wine</td>\n",
       "      <td>5142</td>\n",
       "      <td>Food</td>\n",
       "      <td>1000 tonnes</td>\n",
       "      <td>35.86</td>\n",
       "      <td>104.20</td>\n",
       "      <td>...</td>\n",
       "      <td>76285.0</td>\n",
       "      <td>81520.0</td>\n",
       "      <td>86208.0</td>\n",
       "      <td>91401.0</td>\n",
       "      <td>98779.0</td>\n",
       "      <td>104835.0</td>\n",
       "      <td>114968.0</td>\n",
       "      <td>126174</td>\n",
       "      <td>130129</td>\n",
       "      <td>1790911.0</td>\n",
       "    </tr>\n",
       "    <tr>\n",
       "      <th>20399</th>\n",
       "      <td>USA</td>\n",
       "      <td>231</td>\n",
       "      <td>United States of America</td>\n",
       "      <td>2514</td>\n",
       "      <td>Maize and products</td>\n",
       "      <td>5521</td>\n",
       "      <td>Feed</td>\n",
       "      <td>1000 tonnes</td>\n",
       "      <td>37.09</td>\n",
       "      <td>-95.71</td>\n",
       "      <td>...</td>\n",
       "      <td>155323.0</td>\n",
       "      <td>140719.0</td>\n",
       "      <td>148787.0</td>\n",
       "      <td>131619.0</td>\n",
       "      <td>130193.0</td>\n",
       "      <td>121902.0</td>\n",
       "      <td>115739.0</td>\n",
       "      <td>109607</td>\n",
       "      <td>128024</td>\n",
       "      <td>6216683.0</td>\n",
       "    </tr>\n",
       "    <tr>\n",
       "      <th>9151</th>\n",
       "      <td>IND</td>\n",
       "      <td>100</td>\n",
       "      <td>India</td>\n",
       "      <td>2918</td>\n",
       "      <td>Vegetables</td>\n",
       "      <td>5142</td>\n",
       "      <td>Food</td>\n",
       "      <td>1000 tonnes</td>\n",
       "      <td>20.59</td>\n",
       "      <td>78.96</td>\n",
       "      <td>...</td>\n",
       "      <td>65549.0</td>\n",
       "      <td>74760.0</td>\n",
       "      <td>80659.0</td>\n",
       "      <td>83421.0</td>\n",
       "      <td>82568.0</td>\n",
       "      <td>91969.0</td>\n",
       "      <td>98339.0</td>\n",
       "      <td>104773</td>\n",
       "      <td>111082</td>\n",
       "      <td>2572232.0</td>\n",
       "    </tr>\n",
       "    <tr>\n",
       "      <th>4123</th>\n",
       "      <td>CHN</td>\n",
       "      <td>41</td>\n",
       "      <td>China, mainland</td>\n",
       "      <td>2805</td>\n",
       "      <td>Rice (Milled Equivalent)</td>\n",
       "      <td>5142</td>\n",
       "      <td>Food</td>\n",
       "      <td>1000 tonnes</td>\n",
       "      <td>35.86</td>\n",
       "      <td>104.20</td>\n",
       "      <td>...</td>\n",
       "      <td>100676.0</td>\n",
       "      <td>101234.0</td>\n",
       "      <td>101221.0</td>\n",
       "      <td>104423.0</td>\n",
       "      <td>105363.0</td>\n",
       "      <td>106350.0</td>\n",
       "      <td>109404.0</td>\n",
       "      <td>107956</td>\n",
       "      <td>108321</td>\n",
       "      <td>4371725.0</td>\n",
       "    </tr>\n",
       "    <tr>\n",
       "      <th>9125</th>\n",
       "      <td>IND</td>\n",
       "      <td>100</td>\n",
       "      <td>India</td>\n",
       "      <td>2848</td>\n",
       "      <td>Milk - Excluding Butter</td>\n",
       "      <td>5142</td>\n",
       "      <td>Food</td>\n",
       "      <td>1000 tonnes</td>\n",
       "      <td>20.59</td>\n",
       "      <td>78.96</td>\n",
       "      <td>...</td>\n",
       "      <td>73892.0</td>\n",
       "      <td>78328.0</td>\n",
       "      <td>84883.0</td>\n",
       "      <td>88860.0</td>\n",
       "      <td>92673.0</td>\n",
       "      <td>96723.0</td>\n",
       "      <td>102840.0</td>\n",
       "      <td>105471</td>\n",
       "      <td>105807</td>\n",
       "      <td>2509099.0</td>\n",
       "    </tr>\n",
       "    <tr>\n",
       "      <th>9162</th>\n",
       "      <td>IND</td>\n",
       "      <td>100</td>\n",
       "      <td>India</td>\n",
       "      <td>2948</td>\n",
       "      <td>Milk - Excluding Butter</td>\n",
       "      <td>5142</td>\n",
       "      <td>Food</td>\n",
       "      <td>1000 tonnes</td>\n",
       "      <td>20.59</td>\n",
       "      <td>78.96</td>\n",
       "      <td>...</td>\n",
       "      <td>73892.0</td>\n",
       "      <td>78328.0</td>\n",
       "      <td>84883.0</td>\n",
       "      <td>88860.0</td>\n",
       "      <td>92673.0</td>\n",
       "      <td>96723.0</td>\n",
       "      <td>102840.0</td>\n",
       "      <td>105471</td>\n",
       "      <td>105807</td>\n",
       "      <td>2509099.0</td>\n",
       "    </tr>\n",
       "    <tr>\n",
       "      <th>4239</th>\n",
       "      <td>CHN</td>\n",
       "      <td>41</td>\n",
       "      <td>China, mainland</td>\n",
       "      <td>2907</td>\n",
       "      <td>Starchy Roots</td>\n",
       "      <td>5142</td>\n",
       "      <td>Food</td>\n",
       "      <td>1000 tonnes</td>\n",
       "      <td>35.86</td>\n",
       "      <td>104.20</td>\n",
       "      <td>...</td>\n",
       "      <td>105309.0</td>\n",
       "      <td>85157.0</td>\n",
       "      <td>86491.0</td>\n",
       "      <td>92753.0</td>\n",
       "      <td>90151.0</td>\n",
       "      <td>93641.0</td>\n",
       "      <td>94671.0</td>\n",
       "      <td>94969</td>\n",
       "      <td>95208</td>\n",
       "      <td>4723118.0</td>\n",
       "    </tr>\n",
       "    <tr>\n",
       "      <th>4121</th>\n",
       "      <td>CHN</td>\n",
       "      <td>41</td>\n",
       "      <td>China, mainland</td>\n",
       "      <td>2511</td>\n",
       "      <td>Wheat and products</td>\n",
       "      <td>5142</td>\n",
       "      <td>Food</td>\n",
       "      <td>1000 tonnes</td>\n",
       "      <td>35.86</td>\n",
       "      <td>104.20</td>\n",
       "      <td>...</td>\n",
       "      <td>89535.0</td>\n",
       "      <td>89687.0</td>\n",
       "      <td>88622.0</td>\n",
       "      <td>86896.0</td>\n",
       "      <td>84339.0</td>\n",
       "      <td>85382.0</td>\n",
       "      <td>86750.0</td>\n",
       "      <td>87212</td>\n",
       "      <td>87783</td>\n",
       "      <td>3615316.0</td>\n",
       "    </tr>\n",
       "    <tr>\n",
       "      <th>9036</th>\n",
       "      <td>IND</td>\n",
       "      <td>100</td>\n",
       "      <td>India</td>\n",
       "      <td>2805</td>\n",
       "      <td>Rice (Milled Equivalent)</td>\n",
       "      <td>5142</td>\n",
       "      <td>Food</td>\n",
       "      <td>1000 tonnes</td>\n",
       "      <td>20.59</td>\n",
       "      <td>78.96</td>\n",
       "      <td>...</td>\n",
       "      <td>80672.0</td>\n",
       "      <td>80897.0</td>\n",
       "      <td>82527.0</td>\n",
       "      <td>84858.0</td>\n",
       "      <td>85325.0</td>\n",
       "      <td>86928.0</td>\n",
       "      <td>86478.0</td>\n",
       "      <td>86933</td>\n",
       "      <td>87006</td>\n",
       "      <td>3170975.0</td>\n",
       "    </tr>\n",
       "    <tr>\n",
       "      <th>4255</th>\n",
       "      <td>CHN</td>\n",
       "      <td>41</td>\n",
       "      <td>China, mainland</td>\n",
       "      <td>2943</td>\n",
       "      <td>Meat</td>\n",
       "      <td>5142</td>\n",
       "      <td>Food</td>\n",
       "      <td>1000 tonnes</td>\n",
       "      <td>35.86</td>\n",
       "      <td>104.20</td>\n",
       "      <td>...</td>\n",
       "      <td>63859.0</td>\n",
       "      <td>66259.0</td>\n",
       "      <td>68630.0</td>\n",
       "      <td>72129.0</td>\n",
       "      <td>74855.0</td>\n",
       "      <td>77295.0</td>\n",
       "      <td>77792.0</td>\n",
       "      <td>82094</td>\n",
       "      <td>84591</td>\n",
       "      <td>1742239.0</td>\n",
       "    </tr>\n",
       "    <tr>\n",
       "      <th>20493</th>\n",
       "      <td>USA</td>\n",
       "      <td>231</td>\n",
       "      <td>United States of America</td>\n",
       "      <td>2848</td>\n",
       "      <td>Milk - Excluding Butter</td>\n",
       "      <td>5142</td>\n",
       "      <td>Food</td>\n",
       "      <td>1000 tonnes</td>\n",
       "      <td>37.09</td>\n",
       "      <td>-95.71</td>\n",
       "      <td>...</td>\n",
       "      <td>76887.0</td>\n",
       "      <td>76329.0</td>\n",
       "      <td>78349.0</td>\n",
       "      <td>77704.0</td>\n",
       "      <td>79447.0</td>\n",
       "      <td>78596.0</td>\n",
       "      <td>78752.0</td>\n",
       "      <td>81287</td>\n",
       "      <td>81513</td>\n",
       "      <td>3427828.0</td>\n",
       "    </tr>\n",
       "    <tr>\n",
       "      <th>20531</th>\n",
       "      <td>USA</td>\n",
       "      <td>231</td>\n",
       "      <td>United States of America</td>\n",
       "      <td>2948</td>\n",
       "      <td>Milk - Excluding Butter</td>\n",
       "      <td>5142</td>\n",
       "      <td>Food</td>\n",
       "      <td>1000 tonnes</td>\n",
       "      <td>37.09</td>\n",
       "      <td>-95.71</td>\n",
       "      <td>...</td>\n",
       "      <td>76887.0</td>\n",
       "      <td>76329.0</td>\n",
       "      <td>78349.0</td>\n",
       "      <td>77704.0</td>\n",
       "      <td>79447.0</td>\n",
       "      <td>78596.0</td>\n",
       "      <td>78752.0</td>\n",
       "      <td>81287</td>\n",
       "      <td>81513</td>\n",
       "      <td>3427828.0</td>\n",
       "    </tr>\n",
       "    <tr>\n",
       "      <th>4238</th>\n",
       "      <td>CHN</td>\n",
       "      <td>41</td>\n",
       "      <td>China, mainland</td>\n",
       "      <td>2907</td>\n",
       "      <td>Starchy Roots</td>\n",
       "      <td>5521</td>\n",
       "      <td>Feed</td>\n",
       "      <td>1000 tonnes</td>\n",
       "      <td>35.86</td>\n",
       "      <td>104.20</td>\n",
       "      <td>...</td>\n",
       "      <td>64115.0</td>\n",
       "      <td>55263.0</td>\n",
       "      <td>56029.0</td>\n",
       "      <td>49983.0</td>\n",
       "      <td>64000.0</td>\n",
       "      <td>65475.0</td>\n",
       "      <td>69210.0</td>\n",
       "      <td>75446</td>\n",
       "      <td>78401</td>\n",
       "      <td>2604285.0</td>\n",
       "    </tr>\n",
       "    <tr>\n",
       "      <th>9089</th>\n",
       "      <td>IND</td>\n",
       "      <td>100</td>\n",
       "      <td>India</td>\n",
       "      <td>2605</td>\n",
       "      <td>Vegetables, Other</td>\n",
       "      <td>5142</td>\n",
       "      <td>Food</td>\n",
       "      <td>1000 tonnes</td>\n",
       "      <td>20.59</td>\n",
       "      <td>78.96</td>\n",
       "      <td>...</td>\n",
       "      <td>49602.0</td>\n",
       "      <td>57022.0</td>\n",
       "      <td>59530.0</td>\n",
       "      <td>63048.0</td>\n",
       "      <td>62755.0</td>\n",
       "      <td>67829.0</td>\n",
       "      <td>68144.0</td>\n",
       "      <td>73684</td>\n",
       "      <td>78012</td>\n",
       "      <td>2116819.0</td>\n",
       "    </tr>\n",
       "    <tr>\n",
       "      <th>9034</th>\n",
       "      <td>IND</td>\n",
       "      <td>100</td>\n",
       "      <td>India</td>\n",
       "      <td>2511</td>\n",
       "      <td>Wheat and products</td>\n",
       "      <td>5142</td>\n",
       "      <td>Food</td>\n",
       "      <td>1000 tonnes</td>\n",
       "      <td>20.59</td>\n",
       "      <td>78.96</td>\n",
       "      <td>...</td>\n",
       "      <td>62211.0</td>\n",
       "      <td>66293.0</td>\n",
       "      <td>69311.0</td>\n",
       "      <td>71361.0</td>\n",
       "      <td>69900.0</td>\n",
       "      <td>72719.0</td>\n",
       "      <td>71867.0</td>\n",
       "      <td>70589</td>\n",
       "      <td>75833</td>\n",
       "      <td>2358131.0</td>\n",
       "    </tr>\n",
       "    <tr>\n",
       "      <th>9152</th>\n",
       "      <td>IND</td>\n",
       "      <td>100</td>\n",
       "      <td>India</td>\n",
       "      <td>2919</td>\n",
       "      <td>Fruits - Excluding Wine</td>\n",
       "      <td>5142</td>\n",
       "      <td>Food</td>\n",
       "      <td>1000 tonnes</td>\n",
       "      <td>20.59</td>\n",
       "      <td>78.96</td>\n",
       "      <td>...</td>\n",
       "      <td>43948.0</td>\n",
       "      <td>49160.0</td>\n",
       "      <td>53314.0</td>\n",
       "      <td>58183.0</td>\n",
       "      <td>58597.0</td>\n",
       "      <td>63622.0</td>\n",
       "      <td>62893.0</td>\n",
       "      <td>64304</td>\n",
       "      <td>70562</td>\n",
       "      <td>1549199.0</td>\n",
       "    </tr>\n",
       "    <tr>\n",
       "      <th>4253</th>\n",
       "      <td>CHN</td>\n",
       "      <td>41</td>\n",
       "      <td>China, mainland</td>\n",
       "      <td>2924</td>\n",
       "      <td>Alcoholic Beverages</td>\n",
       "      <td>5142</td>\n",
       "      <td>Food</td>\n",
       "      <td>1000 tonnes</td>\n",
       "      <td>35.86</td>\n",
       "      <td>104.20</td>\n",
       "      <td>...</td>\n",
       "      <td>41630.0</td>\n",
       "      <td>46051.0</td>\n",
       "      <td>51077.0</td>\n",
       "      <td>53201.0</td>\n",
       "      <td>53539.0</td>\n",
       "      <td>56364.0</td>\n",
       "      <td>59905.0</td>\n",
       "      <td>59483</td>\n",
       "      <td>62397</td>\n",
       "      <td>1033726.0</td>\n",
       "    </tr>\n",
       "    <tr>\n",
       "      <th>4141</th>\n",
       "      <td>CHN</td>\n",
       "      <td>41</td>\n",
       "      <td>China, mainland</td>\n",
       "      <td>2531</td>\n",
       "      <td>Potatoes and products</td>\n",
       "      <td>5142</td>\n",
       "      <td>Food</td>\n",
       "      <td>1000 tonnes</td>\n",
       "      <td>35.86</td>\n",
       "      <td>104.20</td>\n",
       "      <td>...</td>\n",
       "      <td>51920.0</td>\n",
       "      <td>39419.0</td>\n",
       "      <td>46989.0</td>\n",
       "      <td>51234.0</td>\n",
       "      <td>51659.0</td>\n",
       "      <td>56816.0</td>\n",
       "      <td>57359.0</td>\n",
       "      <td>57226</td>\n",
       "      <td>57384</td>\n",
       "      <td>1265328.0</td>\n",
       "    </tr>\n",
       "    <tr>\n",
       "      <th>4210</th>\n",
       "      <td>CHN</td>\n",
       "      <td>41</td>\n",
       "      <td>China, mainland</td>\n",
       "      <td>2733</td>\n",
       "      <td>Pigmeat</td>\n",
       "      <td>5142</td>\n",
       "      <td>Food</td>\n",
       "      <td>1000 tonnes</td>\n",
       "      <td>35.86</td>\n",
       "      <td>104.20</td>\n",
       "      <td>...</td>\n",
       "      <td>40247.0</td>\n",
       "      <td>41942.0</td>\n",
       "      <td>42602.0</td>\n",
       "      <td>45120.0</td>\n",
       "      <td>46863.0</td>\n",
       "      <td>48563.0</td>\n",
       "      <td>48750.0</td>\n",
       "      <td>51724</td>\n",
       "      <td>53247</td>\n",
       "      <td>1188319.0</td>\n",
       "    </tr>\n",
       "    <tr>\n",
       "      <th>4205</th>\n",
       "      <td>CHN</td>\n",
       "      <td>41</td>\n",
       "      <td>China, mainland</td>\n",
       "      <td>2656</td>\n",
       "      <td>Beer</td>\n",
       "      <td>5142</td>\n",
       "      <td>Food</td>\n",
       "      <td>1000 tonnes</td>\n",
       "      <td>35.86</td>\n",
       "      <td>104.20</td>\n",
       "      <td>...</td>\n",
       "      <td>31135.0</td>\n",
       "      <td>35280.0</td>\n",
       "      <td>39356.0</td>\n",
       "      <td>41356.0</td>\n",
       "      <td>41452.0</td>\n",
       "      <td>44754.0</td>\n",
       "      <td>48188.0</td>\n",
       "      <td>47670</td>\n",
       "      <td>50583</td>\n",
       "      <td>704990.0</td>\n",
       "    </tr>\n",
       "    <tr>\n",
       "      <th>4196</th>\n",
       "      <td>CHN</td>\n",
       "      <td>41</td>\n",
       "      <td>China, mainland</td>\n",
       "      <td>2625</td>\n",
       "      <td>Fruits, Other</td>\n",
       "      <td>5142</td>\n",
       "      <td>Food</td>\n",
       "      <td>1000 tonnes</td>\n",
       "      <td>35.86</td>\n",
       "      <td>104.20</td>\n",
       "      <td>...</td>\n",
       "      <td>34321.0</td>\n",
       "      <td>34586.0</td>\n",
       "      <td>36186.0</td>\n",
       "      <td>38029.0</td>\n",
       "      <td>41177.0</td>\n",
       "      <td>42560.0</td>\n",
       "      <td>44969.0</td>\n",
       "      <td>48018</td>\n",
       "      <td>49597</td>\n",
       "      <td>746945.0</td>\n",
       "    </tr>\n",
       "    <tr>\n",
       "      <th>9268</th>\n",
       "      <td>IDN</td>\n",
       "      <td>101</td>\n",
       "      <td>Indonesia</td>\n",
       "      <td>2905</td>\n",
       "      <td>Cereals - Excluding Beer</td>\n",
       "      <td>5142</td>\n",
       "      <td>Food</td>\n",
       "      <td>1000 tonnes</td>\n",
       "      <td>-0.79</td>\n",
       "      <td>113.92</td>\n",
       "      <td>...</td>\n",
       "      <td>38395.0</td>\n",
       "      <td>39843.0</td>\n",
       "      <td>40570.0</td>\n",
       "      <td>42165.0</td>\n",
       "      <td>43668.0</td>\n",
       "      <td>45175.0</td>\n",
       "      <td>46472.0</td>\n",
       "      <td>48297</td>\n",
       "      <td>48845</td>\n",
       "      <td>1520691.0</td>\n",
       "    </tr>\n",
       "    <tr>\n",
       "      <th>4263</th>\n",
       "      <td>CHN</td>\n",
       "      <td>41</td>\n",
       "      <td>China, mainland</td>\n",
       "      <td>2960</td>\n",
       "      <td>Fish, Seafood</td>\n",
       "      <td>5142</td>\n",
       "      <td>Food</td>\n",
       "      <td>1000 tonnes</td>\n",
       "      <td>35.86</td>\n",
       "      <td>104.20</td>\n",
       "      <td>...</td>\n",
       "      <td>35166.0</td>\n",
       "      <td>36533.0</td>\n",
       "      <td>38177.0</td>\n",
       "      <td>39910.0</td>\n",
       "      <td>42129.0</td>\n",
       "      <td>43725.0</td>\n",
       "      <td>44963.0</td>\n",
       "      <td>47754</td>\n",
       "      <td>47754</td>\n",
       "      <td>922960.0</td>\n",
       "    </tr>\n",
       "    <tr>\n",
       "      <th>4223</th>\n",
       "      <td>CHN</td>\n",
       "      <td>41</td>\n",
       "      <td>China, mainland</td>\n",
       "      <td>2848</td>\n",
       "      <td>Milk - Excluding Butter</td>\n",
       "      <td>5142</td>\n",
       "      <td>Food</td>\n",
       "      <td>1000 tonnes</td>\n",
       "      <td>35.86</td>\n",
       "      <td>104.20</td>\n",
       "      <td>...</td>\n",
       "      <td>29969.0</td>\n",
       "      <td>34319.0</td>\n",
       "      <td>36890.0</td>\n",
       "      <td>37730.0</td>\n",
       "      <td>39443.0</td>\n",
       "      <td>41583.0</td>\n",
       "      <td>42523.0</td>\n",
       "      <td>44706</td>\n",
       "      <td>45252</td>\n",
       "      <td>599407.0</td>\n",
       "    </tr>\n",
       "    <tr>\n",
       "      <th>4261</th>\n",
       "      <td>CHN</td>\n",
       "      <td>41</td>\n",
       "      <td>China, mainland</td>\n",
       "      <td>2948</td>\n",
       "      <td>Milk - Excluding Butter</td>\n",
       "      <td>5142</td>\n",
       "      <td>Food</td>\n",
       "      <td>1000 tonnes</td>\n",
       "      <td>35.86</td>\n",
       "      <td>104.20</td>\n",
       "      <td>...</td>\n",
       "      <td>29969.0</td>\n",
       "      <td>34319.0</td>\n",
       "      <td>36890.0</td>\n",
       "      <td>37730.0</td>\n",
       "      <td>39443.0</td>\n",
       "      <td>41583.0</td>\n",
       "      <td>42523.0</td>\n",
       "      <td>44706</td>\n",
       "      <td>45252</td>\n",
       "      <td>599407.0</td>\n",
       "    </tr>\n",
       "    <tr>\n",
       "      <th>14440</th>\n",
       "      <td>NGA</td>\n",
       "      <td>159</td>\n",
       "      <td>Nigeria</td>\n",
       "      <td>2907</td>\n",
       "      <td>Starchy Roots</td>\n",
       "      <td>5142</td>\n",
       "      <td>Food</td>\n",
       "      <td>1000 tonnes</td>\n",
       "      <td>9.08</td>\n",
       "      <td>8.68</td>\n",
       "      <td>...</td>\n",
       "      <td>30665.0</td>\n",
       "      <td>34001.0</td>\n",
       "      <td>32930.0</td>\n",
       "      <td>34983.0</td>\n",
       "      <td>34655.0</td>\n",
       "      <td>36687.0</td>\n",
       "      <td>41212.0</td>\n",
       "      <td>41558</td>\n",
       "      <td>43640</td>\n",
       "      <td>987716.0</td>\n",
       "    </tr>\n",
       "    <tr>\n",
       "      <th>2640</th>\n",
       "      <td>BRA</td>\n",
       "      <td>21</td>\n",
       "      <td>Brazil</td>\n",
       "      <td>2905</td>\n",
       "      <td>Cereals - Excluding Beer</td>\n",
       "      <td>5521</td>\n",
       "      <td>Feed</td>\n",
       "      <td>1000 tonnes</td>\n",
       "      <td>-14.24</td>\n",
       "      <td>-51.93</td>\n",
       "      <td>...</td>\n",
       "      <td>30220.0</td>\n",
       "      <td>31350.0</td>\n",
       "      <td>33160.0</td>\n",
       "      <td>44363.0</td>\n",
       "      <td>36179.0</td>\n",
       "      <td>35988.0</td>\n",
       "      <td>38367.0</td>\n",
       "      <td>41078</td>\n",
       "      <td>43263</td>\n",
       "      <td>1110767.0</td>\n",
       "    </tr>\n",
       "    <tr>\n",
       "      <th>4183</th>\n",
       "      <td>CHN</td>\n",
       "      <td>41</td>\n",
       "      <td>China, mainland</td>\n",
       "      <td>2601</td>\n",
       "      <td>Tomatoes and products</td>\n",
       "      <td>5142</td>\n",
       "      <td>Food</td>\n",
       "      <td>1000 tonnes</td>\n",
       "      <td>35.86</td>\n",
       "      <td>104.20</td>\n",
       "      <td>...</td>\n",
       "      <td>26886.0</td>\n",
       "      <td>27622.0</td>\n",
       "      <td>30150.0</td>\n",
       "      <td>33780.0</td>\n",
       "      <td>38887.0</td>\n",
       "      <td>39441.0</td>\n",
       "      <td>41299.0</td>\n",
       "      <td>40406</td>\n",
       "      <td>43122</td>\n",
       "      <td>702846.0</td>\n",
       "    </tr>\n",
       "    <tr>\n",
       "      <th>2538</th>\n",
       "      <td>BRA</td>\n",
       "      <td>21</td>\n",
       "      <td>Brazil</td>\n",
       "      <td>2514</td>\n",
       "      <td>Maize and products</td>\n",
       "      <td>5521</td>\n",
       "      <td>Feed</td>\n",
       "      <td>1000 tonnes</td>\n",
       "      <td>-14.24</td>\n",
       "      <td>-51.93</td>\n",
       "      <td>...</td>\n",
       "      <td>28242.0</td>\n",
       "      <td>29258.0</td>\n",
       "      <td>31649.0</td>\n",
       "      <td>41973.0</td>\n",
       "      <td>33646.0</td>\n",
       "      <td>34165.0</td>\n",
       "      <td>35850.0</td>\n",
       "      <td>38871</td>\n",
       "      <td>40487</td>\n",
       "      <td>1068104.0</td>\n",
       "    </tr>\n",
       "    <tr>\n",
       "      <th>9140</th>\n",
       "      <td>IND</td>\n",
       "      <td>100</td>\n",
       "      <td>India</td>\n",
       "      <td>2907</td>\n",
       "      <td>Starchy Roots</td>\n",
       "      <td>5142</td>\n",
       "      <td>Food</td>\n",
       "      <td>1000 tonnes</td>\n",
       "      <td>20.59</td>\n",
       "      <td>78.96</td>\n",
       "      <td>...</td>\n",
       "      <td>29497.0</td>\n",
       "      <td>29808.0</td>\n",
       "      <td>29591.0</td>\n",
       "      <td>35237.0</td>\n",
       "      <td>35719.0</td>\n",
       "      <td>34771.0</td>\n",
       "      <td>37079.0</td>\n",
       "      <td>39168</td>\n",
       "      <td>38553</td>\n",
       "      <td>976248.0</td>\n",
       "    </tr>\n",
       "    <tr>\n",
       "      <th>20524</th>\n",
       "      <td>USA</td>\n",
       "      <td>231</td>\n",
       "      <td>United States of America</td>\n",
       "      <td>2943</td>\n",
       "      <td>Meat</td>\n",
       "      <td>5142</td>\n",
       "      <td>Food</td>\n",
       "      <td>1000 tonnes</td>\n",
       "      <td>37.09</td>\n",
       "      <td>-95.71</td>\n",
       "      <td>...</td>\n",
       "      <td>37361.0</td>\n",
       "      <td>37776.0</td>\n",
       "      <td>38117.0</td>\n",
       "      <td>37598.0</td>\n",
       "      <td>36738.0</td>\n",
       "      <td>37103.0</td>\n",
       "      <td>36621.0</td>\n",
       "      <td>36485</td>\n",
       "      <td>36849</td>\n",
       "      <td>1532294.0</td>\n",
       "    </tr>\n",
       "    <tr>\n",
       "      <th>20518</th>\n",
       "      <td>USA</td>\n",
       "      <td>231</td>\n",
       "      <td>United States of America</td>\n",
       "      <td>2918</td>\n",
       "      <td>Vegetables</td>\n",
       "      <td>5142</td>\n",
       "      <td>Food</td>\n",
       "      <td>1000 tonnes</td>\n",
       "      <td>37.09</td>\n",
       "      <td>-95.71</td>\n",
       "      <td>...</td>\n",
       "      <td>36668.0</td>\n",
       "      <td>37892.0</td>\n",
       "      <td>39116.0</td>\n",
       "      <td>35699.0</td>\n",
       "      <td>37686.0</td>\n",
       "      <td>37496.0</td>\n",
       "      <td>36650.0</td>\n",
       "      <td>37515</td>\n",
       "      <td>36472</td>\n",
       "      <td>1538211.0</td>\n",
       "    </tr>\n",
       "    <tr>\n",
       "      <th>4185</th>\n",
       "      <td>CHN</td>\n",
       "      <td>41</td>\n",
       "      <td>China, mainland</td>\n",
       "      <td>2605</td>\n",
       "      <td>Vegetables, Other</td>\n",
       "      <td>5521</td>\n",
       "      <td>Feed</td>\n",
       "      <td>1000 tonnes</td>\n",
       "      <td>35.86</td>\n",
       "      <td>104.20</td>\n",
       "      <td>...</td>\n",
       "      <td>24824.0</td>\n",
       "      <td>26597.0</td>\n",
       "      <td>30854.0</td>\n",
       "      <td>31765.0</td>\n",
       "      <td>32816.0</td>\n",
       "      <td>35036.0</td>\n",
       "      <td>37799.0</td>\n",
       "      <td>34328</td>\n",
       "      <td>35582</td>\n",
       "      <td>458234.0</td>\n",
       "    </tr>\n",
       "    <tr>\n",
       "      <th>4248</th>\n",
       "      <td>CHN</td>\n",
       "      <td>41</td>\n",
       "      <td>China, mainland</td>\n",
       "      <td>2918</td>\n",
       "      <td>Vegetables</td>\n",
       "      <td>5521</td>\n",
       "      <td>Feed</td>\n",
       "      <td>1000 tonnes</td>\n",
       "      <td>35.86</td>\n",
       "      <td>104.20</td>\n",
       "      <td>...</td>\n",
       "      <td>24824.0</td>\n",
       "      <td>26597.0</td>\n",
       "      <td>30854.0</td>\n",
       "      <td>31765.0</td>\n",
       "      <td>32816.0</td>\n",
       "      <td>35036.0</td>\n",
       "      <td>37799.0</td>\n",
       "      <td>34328</td>\n",
       "      <td>35582</td>\n",
       "      <td>458234.0</td>\n",
       "    </tr>\n",
       "    <tr>\n",
       "      <th>9099</th>\n",
       "      <td>IND</td>\n",
       "      <td>100</td>\n",
       "      <td>India</td>\n",
       "      <td>2625</td>\n",
       "      <td>Fruits, Other</td>\n",
       "      <td>5142</td>\n",
       "      <td>Food</td>\n",
       "      <td>1000 tonnes</td>\n",
       "      <td>20.59</td>\n",
       "      <td>78.96</td>\n",
       "      <td>...</td>\n",
       "      <td>20356.0</td>\n",
       "      <td>22380.0</td>\n",
       "      <td>23416.0</td>\n",
       "      <td>25493.0</td>\n",
       "      <td>24824.0</td>\n",
       "      <td>27494.0</td>\n",
       "      <td>28123.0</td>\n",
       "      <td>30432</td>\n",
       "      <td>33815</td>\n",
       "      <td>832861.0</td>\n",
       "    </tr>\n",
       "    <tr>\n",
       "      <th>20507</th>\n",
       "      <td>USA</td>\n",
       "      <td>231</td>\n",
       "      <td>United States of America</td>\n",
       "      <td>2905</td>\n",
       "      <td>Cereals - Excluding Beer</td>\n",
       "      <td>5142</td>\n",
       "      <td>Food</td>\n",
       "      <td>1000 tonnes</td>\n",
       "      <td>37.09</td>\n",
       "      <td>-95.71</td>\n",
       "      <td>...</td>\n",
       "      <td>32471.0</td>\n",
       "      <td>32991.0</td>\n",
       "      <td>33551.0</td>\n",
       "      <td>33107.0</td>\n",
       "      <td>32753.0</td>\n",
       "      <td>33239.0</td>\n",
       "      <td>33139.0</td>\n",
       "      <td>33806</td>\n",
       "      <td>33809</td>\n",
       "      <td>1356451.0</td>\n",
       "    </tr>\n",
       "    <tr>\n",
       "      <th>9170</th>\n",
       "      <td>IDN</td>\n",
       "      <td>101</td>\n",
       "      <td>Indonesia</td>\n",
       "      <td>2805</td>\n",
       "      <td>Rice (Milled Equivalent)</td>\n",
       "      <td>5142</td>\n",
       "      <td>Food</td>\n",
       "      <td>1000 tonnes</td>\n",
       "      <td>-0.79</td>\n",
       "      <td>113.92</td>\n",
       "      <td>...</td>\n",
       "      <td>28092.0</td>\n",
       "      <td>28484.0</td>\n",
       "      <td>29217.0</td>\n",
       "      <td>29989.0</td>\n",
       "      <td>30858.0</td>\n",
       "      <td>31717.0</td>\n",
       "      <td>32431.0</td>\n",
       "      <td>33175</td>\n",
       "      <td>33637</td>\n",
       "      <td>1141131.0</td>\n",
       "    </tr>\n",
       "    <tr>\n",
       "      <th>4143</th>\n",
       "      <td>CHN</td>\n",
       "      <td>41</td>\n",
       "      <td>China, mainland</td>\n",
       "      <td>2533</td>\n",
       "      <td>Sweet potatoes</td>\n",
       "      <td>5142</td>\n",
       "      <td>Food</td>\n",
       "      <td>1000 tonnes</td>\n",
       "      <td>35.86</td>\n",
       "      <td>104.20</td>\n",
       "      <td>...</td>\n",
       "      <td>50376.0</td>\n",
       "      <td>41957.0</td>\n",
       "      <td>35788.0</td>\n",
       "      <td>37731.0</td>\n",
       "      <td>34582.0</td>\n",
       "      <td>32795.0</td>\n",
       "      <td>33380.0</td>\n",
       "      <td>33621</td>\n",
       "      <td>33623</td>\n",
       "      <td>3321115.0</td>\n",
       "    </tr>\n",
       "    <tr>\n",
       "      <th>20519</th>\n",
       "      <td>USA</td>\n",
       "      <td>231</td>\n",
       "      <td>United States of America</td>\n",
       "      <td>2919</td>\n",
       "      <td>Fruits - Excluding Wine</td>\n",
       "      <td>5142</td>\n",
       "      <td>Food</td>\n",
       "      <td>1000 tonnes</td>\n",
       "      <td>37.09</td>\n",
       "      <td>-95.71</td>\n",
       "      <td>...</td>\n",
       "      <td>32749.0</td>\n",
       "      <td>32658.0</td>\n",
       "      <td>33384.0</td>\n",
       "      <td>35303.0</td>\n",
       "      <td>33813.0</td>\n",
       "      <td>32212.0</td>\n",
       "      <td>30768.0</td>\n",
       "      <td>32820</td>\n",
       "      <td>33454</td>\n",
       "      <td>1432576.0</td>\n",
       "    </tr>\n",
       "    <tr>\n",
       "      <th>14819</th>\n",
       "      <td>PAK</td>\n",
       "      <td>165</td>\n",
       "      <td>Pakistan</td>\n",
       "      <td>2848</td>\n",
       "      <td>Milk - Excluding Butter</td>\n",
       "      <td>5142</td>\n",
       "      <td>Food</td>\n",
       "      <td>1000 tonnes</td>\n",
       "      <td>30.38</td>\n",
       "      <td>69.35</td>\n",
       "      <td>...</td>\n",
       "      <td>25020.0</td>\n",
       "      <td>26657.0</td>\n",
       "      <td>27543.0</td>\n",
       "      <td>28324.0</td>\n",
       "      <td>29311.0</td>\n",
       "      <td>30294.0</td>\n",
       "      <td>31463.0</td>\n",
       "      <td>32447</td>\n",
       "      <td>33356</td>\n",
       "      <td>785188.0</td>\n",
       "    </tr>\n",
       "    <tr>\n",
       "      <th>14857</th>\n",
       "      <td>PAK</td>\n",
       "      <td>165</td>\n",
       "      <td>Pakistan</td>\n",
       "      <td>2948</td>\n",
       "      <td>Milk - Excluding Butter</td>\n",
       "      <td>5142</td>\n",
       "      <td>Food</td>\n",
       "      <td>1000 tonnes</td>\n",
       "      <td>30.38</td>\n",
       "      <td>69.35</td>\n",
       "      <td>...</td>\n",
       "      <td>25020.0</td>\n",
       "      <td>26657.0</td>\n",
       "      <td>27543.0</td>\n",
       "      <td>28324.0</td>\n",
       "      <td>29311.0</td>\n",
       "      <td>30294.0</td>\n",
       "      <td>31463.0</td>\n",
       "      <td>32447</td>\n",
       "      <td>33356</td>\n",
       "      <td>785188.0</td>\n",
       "    </tr>\n",
       "    <tr>\n",
       "      <th>4142</th>\n",
       "      <td>CHN</td>\n",
       "      <td>41</td>\n",
       "      <td>China, mainland</td>\n",
       "      <td>2533</td>\n",
       "      <td>Sweet potatoes</td>\n",
       "      <td>5521</td>\n",
       "      <td>Feed</td>\n",
       "      <td>1000 tonnes</td>\n",
       "      <td>35.86</td>\n",
       "      <td>104.20</td>\n",
       "      <td>...</td>\n",
       "      <td>47000.0</td>\n",
       "      <td>35000.0</td>\n",
       "      <td>36000.0</td>\n",
       "      <td>36500.0</td>\n",
       "      <td>38000.0</td>\n",
       "      <td>37500.0</td>\n",
       "      <td>38000.0</td>\n",
       "      <td>33950</td>\n",
       "      <td>33270</td>\n",
       "      <td>1906531.0</td>\n",
       "    </tr>\n",
       "    <tr>\n",
       "      <th>9049</th>\n",
       "      <td>IND</td>\n",
       "      <td>100</td>\n",
       "      <td>India</td>\n",
       "      <td>2531</td>\n",
       "      <td>Potatoes and products</td>\n",
       "      <td>5142</td>\n",
       "      <td>Food</td>\n",
       "      <td>1000 tonnes</td>\n",
       "      <td>20.59</td>\n",
       "      <td>78.96</td>\n",
       "      <td>...</td>\n",
       "      <td>21296.0</td>\n",
       "      <td>21323.0</td>\n",
       "      <td>20769.0</td>\n",
       "      <td>25622.0</td>\n",
       "      <td>25502.0</td>\n",
       "      <td>26084.0</td>\n",
       "      <td>28419.0</td>\n",
       "      <td>29849</td>\n",
       "      <td>30546</td>\n",
       "      <td>615605.0</td>\n",
       "    </tr>\n",
       "  </tbody>\n",
       "</table>\n",
       "<p>50 rows × 64 columns</p>\n",
       "</div>"
      ],
      "text/plain": [
       "      Area Abbreviation  Area Code                      Area  Item Code  \\\n",
       "4249                CHN         41           China, mainland       2918   \n",
       "4186                CHN         41           China, mainland       2605   \n",
       "4237                CHN         41           China, mainland       2905   \n",
       "4236                CHN         41           China, mainland       2905   \n",
       "9139                IND        100                     India       2905   \n",
       "4126                CHN         41           China, mainland       2514   \n",
       "20506               USA        231  United States of America       2905   \n",
       "4250                CHN         41           China, mainland       2919   \n",
       "20399               USA        231  United States of America       2514   \n",
       "9151                IND        100                     India       2918   \n",
       "4123                CHN         41           China, mainland       2805   \n",
       "9125                IND        100                     India       2848   \n",
       "9162                IND        100                     India       2948   \n",
       "4239                CHN         41           China, mainland       2907   \n",
       "4121                CHN         41           China, mainland       2511   \n",
       "9036                IND        100                     India       2805   \n",
       "4255                CHN         41           China, mainland       2943   \n",
       "20493               USA        231  United States of America       2848   \n",
       "20531               USA        231  United States of America       2948   \n",
       "4238                CHN         41           China, mainland       2907   \n",
       "9089                IND        100                     India       2605   \n",
       "9034                IND        100                     India       2511   \n",
       "9152                IND        100                     India       2919   \n",
       "4253                CHN         41           China, mainland       2924   \n",
       "4141                CHN         41           China, mainland       2531   \n",
       "4210                CHN         41           China, mainland       2733   \n",
       "4205                CHN         41           China, mainland       2656   \n",
       "4196                CHN         41           China, mainland       2625   \n",
       "9268                IDN        101                 Indonesia       2905   \n",
       "4263                CHN         41           China, mainland       2960   \n",
       "4223                CHN         41           China, mainland       2848   \n",
       "4261                CHN         41           China, mainland       2948   \n",
       "14440               NGA        159                   Nigeria       2907   \n",
       "2640                BRA         21                    Brazil       2905   \n",
       "4183                CHN         41           China, mainland       2601   \n",
       "2538                BRA         21                    Brazil       2514   \n",
       "9140                IND        100                     India       2907   \n",
       "20524               USA        231  United States of America       2943   \n",
       "20518               USA        231  United States of America       2918   \n",
       "4185                CHN         41           China, mainland       2605   \n",
       "4248                CHN         41           China, mainland       2918   \n",
       "9099                IND        100                     India       2625   \n",
       "20507               USA        231  United States of America       2905   \n",
       "9170                IDN        101                 Indonesia       2805   \n",
       "4143                CHN         41           China, mainland       2533   \n",
       "20519               USA        231  United States of America       2919   \n",
       "14819               PAK        165                  Pakistan       2848   \n",
       "14857               PAK        165                  Pakistan       2948   \n",
       "4142                CHN         41           China, mainland       2533   \n",
       "9049                IND        100                     India       2531   \n",
       "\n",
       "                           Item  Element Code Element         Unit  latitude  \\\n",
       "4249                 Vegetables          5142    Food  1000 tonnes     35.86   \n",
       "4186          Vegetables, Other          5142    Food  1000 tonnes     35.86   \n",
       "4237   Cereals - Excluding Beer          5142    Food  1000 tonnes     35.86   \n",
       "4236   Cereals - Excluding Beer          5521    Feed  1000 tonnes     35.86   \n",
       "9139   Cereals - Excluding Beer          5142    Food  1000 tonnes     20.59   \n",
       "4126         Maize and products          5521    Feed  1000 tonnes     35.86   \n",
       "20506  Cereals - Excluding Beer          5521    Feed  1000 tonnes     37.09   \n",
       "4250    Fruits - Excluding Wine          5142    Food  1000 tonnes     35.86   \n",
       "20399        Maize and products          5521    Feed  1000 tonnes     37.09   \n",
       "9151                 Vegetables          5142    Food  1000 tonnes     20.59   \n",
       "4123   Rice (Milled Equivalent)          5142    Food  1000 tonnes     35.86   \n",
       "9125    Milk - Excluding Butter          5142    Food  1000 tonnes     20.59   \n",
       "9162    Milk - Excluding Butter          5142    Food  1000 tonnes     20.59   \n",
       "4239              Starchy Roots          5142    Food  1000 tonnes     35.86   \n",
       "4121         Wheat and products          5142    Food  1000 tonnes     35.86   \n",
       "9036   Rice (Milled Equivalent)          5142    Food  1000 tonnes     20.59   \n",
       "4255                       Meat          5142    Food  1000 tonnes     35.86   \n",
       "20493   Milk - Excluding Butter          5142    Food  1000 tonnes     37.09   \n",
       "20531   Milk - Excluding Butter          5142    Food  1000 tonnes     37.09   \n",
       "4238              Starchy Roots          5521    Feed  1000 tonnes     35.86   \n",
       "9089          Vegetables, Other          5142    Food  1000 tonnes     20.59   \n",
       "9034         Wheat and products          5142    Food  1000 tonnes     20.59   \n",
       "9152    Fruits - Excluding Wine          5142    Food  1000 tonnes     20.59   \n",
       "4253        Alcoholic Beverages          5142    Food  1000 tonnes     35.86   \n",
       "4141      Potatoes and products          5142    Food  1000 tonnes     35.86   \n",
       "4210                    Pigmeat          5142    Food  1000 tonnes     35.86   \n",
       "4205                       Beer          5142    Food  1000 tonnes     35.86   \n",
       "4196              Fruits, Other          5142    Food  1000 tonnes     35.86   \n",
       "9268   Cereals - Excluding Beer          5142    Food  1000 tonnes     -0.79   \n",
       "4263              Fish, Seafood          5142    Food  1000 tonnes     35.86   \n",
       "4223    Milk - Excluding Butter          5142    Food  1000 tonnes     35.86   \n",
       "4261    Milk - Excluding Butter          5142    Food  1000 tonnes     35.86   \n",
       "14440             Starchy Roots          5142    Food  1000 tonnes      9.08   \n",
       "2640   Cereals - Excluding Beer          5521    Feed  1000 tonnes    -14.24   \n",
       "4183      Tomatoes and products          5142    Food  1000 tonnes     35.86   \n",
       "2538         Maize and products          5521    Feed  1000 tonnes    -14.24   \n",
       "9140              Starchy Roots          5142    Food  1000 tonnes     20.59   \n",
       "20524                      Meat          5142    Food  1000 tonnes     37.09   \n",
       "20518                Vegetables          5142    Food  1000 tonnes     37.09   \n",
       "4185          Vegetables, Other          5521    Feed  1000 tonnes     35.86   \n",
       "4248                 Vegetables          5521    Feed  1000 tonnes     35.86   \n",
       "9099              Fruits, Other          5142    Food  1000 tonnes     20.59   \n",
       "20507  Cereals - Excluding Beer          5142    Food  1000 tonnes     37.09   \n",
       "9170   Rice (Milled Equivalent)          5142    Food  1000 tonnes     -0.79   \n",
       "4143             Sweet potatoes          5142    Food  1000 tonnes     35.86   \n",
       "20519   Fruits - Excluding Wine          5142    Food  1000 tonnes     37.09   \n",
       "14819   Milk - Excluding Butter          5142    Food  1000 tonnes     30.38   \n",
       "14857   Milk - Excluding Butter          5142    Food  1000 tonnes     30.38   \n",
       "4142             Sweet potatoes          5521    Feed  1000 tonnes     35.86   \n",
       "9049      Potatoes and products          5142    Food  1000 tonnes     20.59   \n",
       "\n",
       "       longitude  ...     Y2005     Y2006     Y2007     Y2008     Y2009  \\\n",
       "4249      104.20  ...  373694.0  388100.0  402975.0  425537.0  434724.0   \n",
       "4186      104.20  ...  330278.0  343450.0  355019.0  373622.0  377460.0   \n",
       "4237      104.20  ...  202337.0  202349.0  200735.0  203218.0  201290.0   \n",
       "4236      104.20  ...  110316.0  111576.0  115518.0  126518.0  131336.0   \n",
       "9139       78.96  ...  167463.0  172010.0  177260.0  181605.0  179175.0   \n",
       "4126      104.20  ...   94500.0   92500.0   95500.0  106000.0  105600.0   \n",
       "20506     -95.71  ...  166631.0  150006.0  156304.0  146098.0  141625.0   \n",
       "4250      104.20  ...   76285.0   81520.0   86208.0   91401.0   98779.0   \n",
       "20399     -95.71  ...  155323.0  140719.0  148787.0  131619.0  130193.0   \n",
       "9151       78.96  ...   65549.0   74760.0   80659.0   83421.0   82568.0   \n",
       "4123      104.20  ...  100676.0  101234.0  101221.0  104423.0  105363.0   \n",
       "9125       78.96  ...   73892.0   78328.0   84883.0   88860.0   92673.0   \n",
       "9162       78.96  ...   73892.0   78328.0   84883.0   88860.0   92673.0   \n",
       "4239      104.20  ...  105309.0   85157.0   86491.0   92753.0   90151.0   \n",
       "4121      104.20  ...   89535.0   89687.0   88622.0   86896.0   84339.0   \n",
       "9036       78.96  ...   80672.0   80897.0   82527.0   84858.0   85325.0   \n",
       "4255      104.20  ...   63859.0   66259.0   68630.0   72129.0   74855.0   \n",
       "20493     -95.71  ...   76887.0   76329.0   78349.0   77704.0   79447.0   \n",
       "20531     -95.71  ...   76887.0   76329.0   78349.0   77704.0   79447.0   \n",
       "4238      104.20  ...   64115.0   55263.0   56029.0   49983.0   64000.0   \n",
       "9089       78.96  ...   49602.0   57022.0   59530.0   63048.0   62755.0   \n",
       "9034       78.96  ...   62211.0   66293.0   69311.0   71361.0   69900.0   \n",
       "9152       78.96  ...   43948.0   49160.0   53314.0   58183.0   58597.0   \n",
       "4253      104.20  ...   41630.0   46051.0   51077.0   53201.0   53539.0   \n",
       "4141      104.20  ...   51920.0   39419.0   46989.0   51234.0   51659.0   \n",
       "4210      104.20  ...   40247.0   41942.0   42602.0   45120.0   46863.0   \n",
       "4205      104.20  ...   31135.0   35280.0   39356.0   41356.0   41452.0   \n",
       "4196      104.20  ...   34321.0   34586.0   36186.0   38029.0   41177.0   \n",
       "9268      113.92  ...   38395.0   39843.0   40570.0   42165.0   43668.0   \n",
       "4263      104.20  ...   35166.0   36533.0   38177.0   39910.0   42129.0   \n",
       "4223      104.20  ...   29969.0   34319.0   36890.0   37730.0   39443.0   \n",
       "4261      104.20  ...   29969.0   34319.0   36890.0   37730.0   39443.0   \n",
       "14440       8.68  ...   30665.0   34001.0   32930.0   34983.0   34655.0   \n",
       "2640      -51.93  ...   30220.0   31350.0   33160.0   44363.0   36179.0   \n",
       "4183      104.20  ...   26886.0   27622.0   30150.0   33780.0   38887.0   \n",
       "2538      -51.93  ...   28242.0   29258.0   31649.0   41973.0   33646.0   \n",
       "9140       78.96  ...   29497.0   29808.0   29591.0   35237.0   35719.0   \n",
       "20524     -95.71  ...   37361.0   37776.0   38117.0   37598.0   36738.0   \n",
       "20518     -95.71  ...   36668.0   37892.0   39116.0   35699.0   37686.0   \n",
       "4185      104.20  ...   24824.0   26597.0   30854.0   31765.0   32816.0   \n",
       "4248      104.20  ...   24824.0   26597.0   30854.0   31765.0   32816.0   \n",
       "9099       78.96  ...   20356.0   22380.0   23416.0   25493.0   24824.0   \n",
       "20507     -95.71  ...   32471.0   32991.0   33551.0   33107.0   32753.0   \n",
       "9170      113.92  ...   28092.0   28484.0   29217.0   29989.0   30858.0   \n",
       "4143      104.20  ...   50376.0   41957.0   35788.0   37731.0   34582.0   \n",
       "20519     -95.71  ...   32749.0   32658.0   33384.0   35303.0   33813.0   \n",
       "14819      69.35  ...   25020.0   26657.0   27543.0   28324.0   29311.0   \n",
       "14857      69.35  ...   25020.0   26657.0   27543.0   28324.0   29311.0   \n",
       "4142      104.20  ...   47000.0   35000.0   36000.0   36500.0   38000.0   \n",
       "9049       78.96  ...   21296.0   21323.0   20769.0   25622.0   25502.0   \n",
       "\n",
       "          Y2010     Y2011   Y2012   Y2013      total  \n",
       "4249   451838.0  462696.0  479028  489299  9373964.0  \n",
       "4186   393516.0  402338.0  419262  426850  8255503.0  \n",
       "4237   204167.0  208701.0  207802  209038  8885265.0  \n",
       "4236   143443.0  166554.0  181259  193043  4196823.0  \n",
       "9139   184552.0  184648.0  181267  185884  6841173.0  \n",
       "4126   114500.0  125000.0  140000  150000  3303608.0  \n",
       "20506  131633.0  124808.0  125012  140096  7572790.0  \n",
       "4250   104835.0  114968.0  126174  130129  1790911.0  \n",
       "20399  121902.0  115739.0  109607  128024  6216683.0  \n",
       "9151    91969.0   98339.0  104773  111082  2572232.0  \n",
       "4123   106350.0  109404.0  107956  108321  4371725.0  \n",
       "9125    96723.0  102840.0  105471  105807  2509099.0  \n",
       "9162    96723.0  102840.0  105471  105807  2509099.0  \n",
       "4239    93641.0   94671.0   94969   95208  4723118.0  \n",
       "4121    85382.0   86750.0   87212   87783  3615316.0  \n",
       "9036    86928.0   86478.0   86933   87006  3170975.0  \n",
       "4255    77295.0   77792.0   82094   84591  1742239.0  \n",
       "20493   78596.0   78752.0   81287   81513  3427828.0  \n",
       "20531   78596.0   78752.0   81287   81513  3427828.0  \n",
       "4238    65475.0   69210.0   75446   78401  2604285.0  \n",
       "9089    67829.0   68144.0   73684   78012  2116819.0  \n",
       "9034    72719.0   71867.0   70589   75833  2358131.0  \n",
       "9152    63622.0   62893.0   64304   70562  1549199.0  \n",
       "4253    56364.0   59905.0   59483   62397  1033726.0  \n",
       "4141    56816.0   57359.0   57226   57384  1265328.0  \n",
       "4210    48563.0   48750.0   51724   53247  1188319.0  \n",
       "4205    44754.0   48188.0   47670   50583   704990.0  \n",
       "4196    42560.0   44969.0   48018   49597   746945.0  \n",
       "9268    45175.0   46472.0   48297   48845  1520691.0  \n",
       "4263    43725.0   44963.0   47754   47754   922960.0  \n",
       "4223    41583.0   42523.0   44706   45252   599407.0  \n",
       "4261    41583.0   42523.0   44706   45252   599407.0  \n",
       "14440   36687.0   41212.0   41558   43640   987716.0  \n",
       "2640    35988.0   38367.0   41078   43263  1110767.0  \n",
       "4183    39441.0   41299.0   40406   43122   702846.0  \n",
       "2538    34165.0   35850.0   38871   40487  1068104.0  \n",
       "9140    34771.0   37079.0   39168   38553   976248.0  \n",
       "20524   37103.0   36621.0   36485   36849  1532294.0  \n",
       "20518   37496.0   36650.0   37515   36472  1538211.0  \n",
       "4185    35036.0   37799.0   34328   35582   458234.0  \n",
       "4248    35036.0   37799.0   34328   35582   458234.0  \n",
       "9099    27494.0   28123.0   30432   33815   832861.0  \n",
       "20507   33239.0   33139.0   33806   33809  1356451.0  \n",
       "9170    31717.0   32431.0   33175   33637  1141131.0  \n",
       "4143    32795.0   33380.0   33621   33623  3321115.0  \n",
       "20519   32212.0   30768.0   32820   33454  1432576.0  \n",
       "14819   30294.0   31463.0   32447   33356   785188.0  \n",
       "14857   30294.0   31463.0   32447   33356   785188.0  \n",
       "4142    37500.0   38000.0   33950   33270  1906531.0  \n",
       "9049    26084.0   28419.0   29849   30546   615605.0  \n",
       "\n",
       "[50 rows x 64 columns]"
      ]
     },
     "execution_count": 15,
     "metadata": {},
     "output_type": "execute_result"
    }
   ],
   "source": [
    "# WE HAVE USED THE FUNCTIONS TO GET THE VALUES RATHER THAN PLOTTING TO COVER ALL THE FUNCTIONALITIES\n",
    "\n",
    "# To get the top 20 food/feed production for Y2013\n",
    "top = data.nlargest(50, 'Y2013')\n",
    "top"
   ]
  },
  {
   "cell_type": "code",
   "execution_count": 16,
   "metadata": {},
   "outputs": [
    {
     "data": {
      "text/html": [
       "<div>\n",
       "<style scoped>\n",
       "    .dataframe tbody tr th:only-of-type {\n",
       "        vertical-align: middle;\n",
       "    }\n",
       "\n",
       "    .dataframe tbody tr th {\n",
       "        vertical-align: top;\n",
       "    }\n",
       "\n",
       "    .dataframe thead th {\n",
       "        text-align: right;\n",
       "    }\n",
       "</style>\n",
       "<table border=\"1\" class=\"dataframe\">\n",
       "  <thead>\n",
       "    <tr style=\"text-align: right;\">\n",
       "      <th></th>\n",
       "      <th>Area Abbreviation</th>\n",
       "      <th>Area Code</th>\n",
       "      <th>Area</th>\n",
       "      <th>Item Code</th>\n",
       "      <th>Item</th>\n",
       "      <th>Element Code</th>\n",
       "      <th>Element</th>\n",
       "      <th>Unit</th>\n",
       "      <th>latitude</th>\n",
       "      <th>longitude</th>\n",
       "      <th>...</th>\n",
       "      <th>Y2005</th>\n",
       "      <th>Y2006</th>\n",
       "      <th>Y2007</th>\n",
       "      <th>Y2008</th>\n",
       "      <th>Y2009</th>\n",
       "      <th>Y2010</th>\n",
       "      <th>Y2011</th>\n",
       "      <th>Y2012</th>\n",
       "      <th>Y2013</th>\n",
       "      <th>total</th>\n",
       "    </tr>\n",
       "  </thead>\n",
       "  <tbody>\n",
       "    <tr>\n",
       "      <th>10082</th>\n",
       "      <td>JPN</td>\n",
       "      <td>110</td>\n",
       "      <td>Japan</td>\n",
       "      <td>2516</td>\n",
       "      <td>Oats</td>\n",
       "      <td>5142</td>\n",
       "      <td>Food</td>\n",
       "      <td>1000 tonnes</td>\n",
       "      <td>36.20</td>\n",
       "      <td>138.25</td>\n",
       "      <td>...</td>\n",
       "      <td>44.0</td>\n",
       "      <td>42.0</td>\n",
       "      <td>47.0</td>\n",
       "      <td>46.0</td>\n",
       "      <td>47.0</td>\n",
       "      <td>47.0</td>\n",
       "      <td>51.0</td>\n",
       "      <td>-169</td>\n",
       "      <td>-246</td>\n",
       "      <td>613.0</td>\n",
       "    </tr>\n",
       "    <tr>\n",
       "      <th>7</th>\n",
       "      <td>AFG</td>\n",
       "      <td>2</td>\n",
       "      <td>Afghanistan</td>\n",
       "      <td>2520</td>\n",
       "      <td>Cereals, Other</td>\n",
       "      <td>5142</td>\n",
       "      <td>Food</td>\n",
       "      <td>1000 tonnes</td>\n",
       "      <td>33.94</td>\n",
       "      <td>67.71</td>\n",
       "      <td>...</td>\n",
       "      <td>1.0</td>\n",
       "      <td>1.0</td>\n",
       "      <td>0.0</td>\n",
       "      <td>0.0</td>\n",
       "      <td>0.0</td>\n",
       "      <td>0.0</td>\n",
       "      <td>0.0</td>\n",
       "      <td>0</td>\n",
       "      <td>0</td>\n",
       "      <td>5.0</td>\n",
       "    </tr>\n",
       "    <tr>\n",
       "      <th>10</th>\n",
       "      <td>AFG</td>\n",
       "      <td>2</td>\n",
       "      <td>Afghanistan</td>\n",
       "      <td>2537</td>\n",
       "      <td>Sugar beet</td>\n",
       "      <td>5521</td>\n",
       "      <td>Feed</td>\n",
       "      <td>1000 tonnes</td>\n",
       "      <td>33.94</td>\n",
       "      <td>67.71</td>\n",
       "      <td>...</td>\n",
       "      <td>0.0</td>\n",
       "      <td>0.0</td>\n",
       "      <td>0.0</td>\n",
       "      <td>0.0</td>\n",
       "      <td>0.0</td>\n",
       "      <td>0.0</td>\n",
       "      <td>0.0</td>\n",
       "      <td>0</td>\n",
       "      <td>0</td>\n",
       "      <td>199.0</td>\n",
       "    </tr>\n",
       "    <tr>\n",
       "      <th>17</th>\n",
       "      <td>AFG</td>\n",
       "      <td>2</td>\n",
       "      <td>Afghanistan</td>\n",
       "      <td>2560</td>\n",
       "      <td>Coconuts - Incl Copra</td>\n",
       "      <td>5142</td>\n",
       "      <td>Food</td>\n",
       "      <td>1000 tonnes</td>\n",
       "      <td>33.94</td>\n",
       "      <td>67.71</td>\n",
       "      <td>...</td>\n",
       "      <td>0.0</td>\n",
       "      <td>0.0</td>\n",
       "      <td>0.0</td>\n",
       "      <td>0.0</td>\n",
       "      <td>0.0</td>\n",
       "      <td>0.0</td>\n",
       "      <td>0.0</td>\n",
       "      <td>0</td>\n",
       "      <td>0</td>\n",
       "      <td>2.0</td>\n",
       "    </tr>\n",
       "    <tr>\n",
       "      <th>21</th>\n",
       "      <td>AFG</td>\n",
       "      <td>2</td>\n",
       "      <td>Afghanistan</td>\n",
       "      <td>2572</td>\n",
       "      <td>Groundnut Oil</td>\n",
       "      <td>5142</td>\n",
       "      <td>Food</td>\n",
       "      <td>1000 tonnes</td>\n",
       "      <td>33.94</td>\n",
       "      <td>67.71</td>\n",
       "      <td>...</td>\n",
       "      <td>0.0</td>\n",
       "      <td>0.0</td>\n",
       "      <td>0.0</td>\n",
       "      <td>0.0</td>\n",
       "      <td>0.0</td>\n",
       "      <td>0.0</td>\n",
       "      <td>0.0</td>\n",
       "      <td>0</td>\n",
       "      <td>0</td>\n",
       "      <td>0.0</td>\n",
       "    </tr>\n",
       "    <tr>\n",
       "      <th>29</th>\n",
       "      <td>AFG</td>\n",
       "      <td>2</td>\n",
       "      <td>Afghanistan</td>\n",
       "      <td>2601</td>\n",
       "      <td>Tomatoes and products</td>\n",
       "      <td>5142</td>\n",
       "      <td>Food</td>\n",
       "      <td>1000 tonnes</td>\n",
       "      <td>33.94</td>\n",
       "      <td>67.71</td>\n",
       "      <td>...</td>\n",
       "      <td>2.0</td>\n",
       "      <td>8.0</td>\n",
       "      <td>1.0</td>\n",
       "      <td>0.0</td>\n",
       "      <td>0.0</td>\n",
       "      <td>0.0</td>\n",
       "      <td>0.0</td>\n",
       "      <td>0</td>\n",
       "      <td>0</td>\n",
       "      <td>17.0</td>\n",
       "    </tr>\n",
       "    <tr>\n",
       "      <th>35</th>\n",
       "      <td>AFG</td>\n",
       "      <td>2</td>\n",
       "      <td>Afghanistan</td>\n",
       "      <td>2618</td>\n",
       "      <td>Pineapples and products</td>\n",
       "      <td>5142</td>\n",
       "      <td>Food</td>\n",
       "      <td>1000 tonnes</td>\n",
       "      <td>33.94</td>\n",
       "      <td>67.71</td>\n",
       "      <td>...</td>\n",
       "      <td>0.0</td>\n",
       "      <td>0.0</td>\n",
       "      <td>0.0</td>\n",
       "      <td>0.0</td>\n",
       "      <td>0.0</td>\n",
       "      <td>0.0</td>\n",
       "      <td>0.0</td>\n",
       "      <td>0</td>\n",
       "      <td>0</td>\n",
       "      <td>2.0</td>\n",
       "    </tr>\n",
       "    <tr>\n",
       "      <th>39</th>\n",
       "      <td>AFG</td>\n",
       "      <td>2</td>\n",
       "      <td>Afghanistan</td>\n",
       "      <td>2630</td>\n",
       "      <td>Coffee and products</td>\n",
       "      <td>5142</td>\n",
       "      <td>Food</td>\n",
       "      <td>1000 tonnes</td>\n",
       "      <td>33.94</td>\n",
       "      <td>67.71</td>\n",
       "      <td>...</td>\n",
       "      <td>0.0</td>\n",
       "      <td>0.0</td>\n",
       "      <td>0.0</td>\n",
       "      <td>1.0</td>\n",
       "      <td>0.0</td>\n",
       "      <td>0.0</td>\n",
       "      <td>0.0</td>\n",
       "      <td>0</td>\n",
       "      <td>0</td>\n",
       "      <td>1.0</td>\n",
       "    </tr>\n",
       "    <tr>\n",
       "      <th>42</th>\n",
       "      <td>AFG</td>\n",
       "      <td>2</td>\n",
       "      <td>Afghanistan</td>\n",
       "      <td>2640</td>\n",
       "      <td>Pepper</td>\n",
       "      <td>5142</td>\n",
       "      <td>Food</td>\n",
       "      <td>1000 tonnes</td>\n",
       "      <td>33.94</td>\n",
       "      <td>67.71</td>\n",
       "      <td>...</td>\n",
       "      <td>0.0</td>\n",
       "      <td>0.0</td>\n",
       "      <td>0.0</td>\n",
       "      <td>0.0</td>\n",
       "      <td>0.0</td>\n",
       "      <td>0.0</td>\n",
       "      <td>0.0</td>\n",
       "      <td>0</td>\n",
       "      <td>0</td>\n",
       "      <td>0.0</td>\n",
       "    </tr>\n",
       "    <tr>\n",
       "      <th>44</th>\n",
       "      <td>AFG</td>\n",
       "      <td>2</td>\n",
       "      <td>Afghanistan</td>\n",
       "      <td>2655</td>\n",
       "      <td>Wine</td>\n",
       "      <td>5142</td>\n",
       "      <td>Food</td>\n",
       "      <td>1000 tonnes</td>\n",
       "      <td>33.94</td>\n",
       "      <td>67.71</td>\n",
       "      <td>...</td>\n",
       "      <td>0.0</td>\n",
       "      <td>1.0</td>\n",
       "      <td>1.0</td>\n",
       "      <td>0.0</td>\n",
       "      <td>0.0</td>\n",
       "      <td>0.0</td>\n",
       "      <td>0.0</td>\n",
       "      <td>0</td>\n",
       "      <td>0</td>\n",
       "      <td>2.0</td>\n",
       "    </tr>\n",
       "    <tr>\n",
       "      <th>46</th>\n",
       "      <td>AFG</td>\n",
       "      <td>2</td>\n",
       "      <td>Afghanistan</td>\n",
       "      <td>2658</td>\n",
       "      <td>Beverages, Alcoholic</td>\n",
       "      <td>5142</td>\n",
       "      <td>Food</td>\n",
       "      <td>1000 tonnes</td>\n",
       "      <td>33.94</td>\n",
       "      <td>67.71</td>\n",
       "      <td>...</td>\n",
       "      <td>0.0</td>\n",
       "      <td>0.0</td>\n",
       "      <td>0.0</td>\n",
       "      <td>1.0</td>\n",
       "      <td>0.0</td>\n",
       "      <td>0.0</td>\n",
       "      <td>0.0</td>\n",
       "      <td>0</td>\n",
       "      <td>0</td>\n",
       "      <td>1.0</td>\n",
       "    </tr>\n",
       "    <tr>\n",
       "      <th>85</th>\n",
       "      <td>ALB</td>\n",
       "      <td>3</td>\n",
       "      <td>Albania</td>\n",
       "      <td>2805</td>\n",
       "      <td>Rice (Milled Equivalent)</td>\n",
       "      <td>5521</td>\n",
       "      <td>Feed</td>\n",
       "      <td>1000 tonnes</td>\n",
       "      <td>41.15</td>\n",
       "      <td>20.17</td>\n",
       "      <td>...</td>\n",
       "      <td>0.0</td>\n",
       "      <td>0.0</td>\n",
       "      <td>0.0</td>\n",
       "      <td>0.0</td>\n",
       "      <td>0.0</td>\n",
       "      <td>0.0</td>\n",
       "      <td>0.0</td>\n",
       "      <td>0</td>\n",
       "      <td>0</td>\n",
       "      <td>1.0</td>\n",
       "    </tr>\n",
       "    <tr>\n",
       "      <th>93</th>\n",
       "      <td>ALB</td>\n",
       "      <td>3</td>\n",
       "      <td>Albania</td>\n",
       "      <td>2516</td>\n",
       "      <td>Oats</td>\n",
       "      <td>5142</td>\n",
       "      <td>Food</td>\n",
       "      <td>1000 tonnes</td>\n",
       "      <td>41.15</td>\n",
       "      <td>20.17</td>\n",
       "      <td>...</td>\n",
       "      <td>0.0</td>\n",
       "      <td>0.0</td>\n",
       "      <td>0.0</td>\n",
       "      <td>0.0</td>\n",
       "      <td>0.0</td>\n",
       "      <td>0.0</td>\n",
       "      <td>0.0</td>\n",
       "      <td>0</td>\n",
       "      <td>0</td>\n",
       "      <td>0.0</td>\n",
       "    </tr>\n",
       "    <tr>\n",
       "      <th>94</th>\n",
       "      <td>ALB</td>\n",
       "      <td>3</td>\n",
       "      <td>Albania</td>\n",
       "      <td>2517</td>\n",
       "      <td>Millet and products</td>\n",
       "      <td>5521</td>\n",
       "      <td>Feed</td>\n",
       "      <td>1000 tonnes</td>\n",
       "      <td>41.15</td>\n",
       "      <td>20.17</td>\n",
       "      <td>...</td>\n",
       "      <td>0.0</td>\n",
       "      <td>0.0</td>\n",
       "      <td>0.0</td>\n",
       "      <td>0.0</td>\n",
       "      <td>0.0</td>\n",
       "      <td>0.0</td>\n",
       "      <td>0.0</td>\n",
       "      <td>0</td>\n",
       "      <td>0</td>\n",
       "      <td>0.0</td>\n",
       "    </tr>\n",
       "    <tr>\n",
       "      <th>95</th>\n",
       "      <td>ALB</td>\n",
       "      <td>3</td>\n",
       "      <td>Albania</td>\n",
       "      <td>2518</td>\n",
       "      <td>Sorghum and products</td>\n",
       "      <td>5521</td>\n",
       "      <td>Feed</td>\n",
       "      <td>1000 tonnes</td>\n",
       "      <td>41.15</td>\n",
       "      <td>20.17</td>\n",
       "      <td>...</td>\n",
       "      <td>0.0</td>\n",
       "      <td>0.0</td>\n",
       "      <td>0.0</td>\n",
       "      <td>0.0</td>\n",
       "      <td>0.0</td>\n",
       "      <td>0.0</td>\n",
       "      <td>0.0</td>\n",
       "      <td>0</td>\n",
       "      <td>0</td>\n",
       "      <td>693.0</td>\n",
       "    </tr>\n",
       "    <tr>\n",
       "      <th>96</th>\n",
       "      <td>ALB</td>\n",
       "      <td>3</td>\n",
       "      <td>Albania</td>\n",
       "      <td>2520</td>\n",
       "      <td>Cereals, Other</td>\n",
       "      <td>5521</td>\n",
       "      <td>Feed</td>\n",
       "      <td>1000 tonnes</td>\n",
       "      <td>41.15</td>\n",
       "      <td>20.17</td>\n",
       "      <td>...</td>\n",
       "      <td>0.0</td>\n",
       "      <td>0.0</td>\n",
       "      <td>0.0</td>\n",
       "      <td>0.0</td>\n",
       "      <td>0.0</td>\n",
       "      <td>0.0</td>\n",
       "      <td>0.0</td>\n",
       "      <td>0</td>\n",
       "      <td>0</td>\n",
       "      <td>14.0</td>\n",
       "    </tr>\n",
       "    <tr>\n",
       "      <th>97</th>\n",
       "      <td>ALB</td>\n",
       "      <td>3</td>\n",
       "      <td>Albania</td>\n",
       "      <td>2520</td>\n",
       "      <td>Cereals, Other</td>\n",
       "      <td>5142</td>\n",
       "      <td>Food</td>\n",
       "      <td>1000 tonnes</td>\n",
       "      <td>41.15</td>\n",
       "      <td>20.17</td>\n",
       "      <td>...</td>\n",
       "      <td>0.0</td>\n",
       "      <td>0.0</td>\n",
       "      <td>0.0</td>\n",
       "      <td>0.0</td>\n",
       "      <td>1.0</td>\n",
       "      <td>0.0</td>\n",
       "      <td>0.0</td>\n",
       "      <td>0</td>\n",
       "      <td>0</td>\n",
       "      <td>3.0</td>\n",
       "    </tr>\n",
       "    <tr>\n",
       "      <th>98</th>\n",
       "      <td>ALB</td>\n",
       "      <td>3</td>\n",
       "      <td>Albania</td>\n",
       "      <td>2532</td>\n",
       "      <td>Cassava and products</td>\n",
       "      <td>5142</td>\n",
       "      <td>Food</td>\n",
       "      <td>1000 tonnes</td>\n",
       "      <td>41.15</td>\n",
       "      <td>20.17</td>\n",
       "      <td>...</td>\n",
       "      <td>0.0</td>\n",
       "      <td>0.0</td>\n",
       "      <td>0.0</td>\n",
       "      <td>0.0</td>\n",
       "      <td>0.0</td>\n",
       "      <td>0.0</td>\n",
       "      <td>0.0</td>\n",
       "      <td>0</td>\n",
       "      <td>0</td>\n",
       "      <td>0.0</td>\n",
       "    </tr>\n",
       "    <tr>\n",
       "      <th>102</th>\n",
       "      <td>ALB</td>\n",
       "      <td>3</td>\n",
       "      <td>Albania</td>\n",
       "      <td>2534</td>\n",
       "      <td>Roots, Other</td>\n",
       "      <td>5142</td>\n",
       "      <td>Food</td>\n",
       "      <td>1000 tonnes</td>\n",
       "      <td>41.15</td>\n",
       "      <td>20.17</td>\n",
       "      <td>...</td>\n",
       "      <td>0.0</td>\n",
       "      <td>0.0</td>\n",
       "      <td>0.0</td>\n",
       "      <td>0.0</td>\n",
       "      <td>0.0</td>\n",
       "      <td>0.0</td>\n",
       "      <td>0.0</td>\n",
       "      <td>0</td>\n",
       "      <td>0</td>\n",
       "      <td>0.0</td>\n",
       "    </tr>\n",
       "    <tr>\n",
       "      <th>109</th>\n",
       "      <td>ALB</td>\n",
       "      <td>3</td>\n",
       "      <td>Albania</td>\n",
       "      <td>2547</td>\n",
       "      <td>Peas</td>\n",
       "      <td>5142</td>\n",
       "      <td>Food</td>\n",
       "      <td>1000 tonnes</td>\n",
       "      <td>41.15</td>\n",
       "      <td>20.17</td>\n",
       "      <td>...</td>\n",
       "      <td>0.0</td>\n",
       "      <td>0.0</td>\n",
       "      <td>0.0</td>\n",
       "      <td>0.0</td>\n",
       "      <td>0.0</td>\n",
       "      <td>0.0</td>\n",
       "      <td>0.0</td>\n",
       "      <td>0</td>\n",
       "      <td>0</td>\n",
       "      <td>0.0</td>\n",
       "    </tr>\n",
       "    <tr>\n",
       "      <th>113</th>\n",
       "      <td>ALB</td>\n",
       "      <td>3</td>\n",
       "      <td>Albania</td>\n",
       "      <td>2555</td>\n",
       "      <td>Soyabeans</td>\n",
       "      <td>5142</td>\n",
       "      <td>Food</td>\n",
       "      <td>1000 tonnes</td>\n",
       "      <td>41.15</td>\n",
       "      <td>20.17</td>\n",
       "      <td>...</td>\n",
       "      <td>0.0</td>\n",
       "      <td>0.0</td>\n",
       "      <td>0.0</td>\n",
       "      <td>0.0</td>\n",
       "      <td>0.0</td>\n",
       "      <td>0.0</td>\n",
       "      <td>0.0</td>\n",
       "      <td>0</td>\n",
       "      <td>0</td>\n",
       "      <td>0.0</td>\n",
       "    </tr>\n",
       "    <tr>\n",
       "      <th>114</th>\n",
       "      <td>ALB</td>\n",
       "      <td>3</td>\n",
       "      <td>Albania</td>\n",
       "      <td>2556</td>\n",
       "      <td>Groundnuts (Shelled Eq)</td>\n",
       "      <td>5142</td>\n",
       "      <td>Food</td>\n",
       "      <td>1000 tonnes</td>\n",
       "      <td>41.15</td>\n",
       "      <td>20.17</td>\n",
       "      <td>...</td>\n",
       "      <td>1.0</td>\n",
       "      <td>1.0</td>\n",
       "      <td>1.0</td>\n",
       "      <td>1.0</td>\n",
       "      <td>1.0</td>\n",
       "      <td>1.0</td>\n",
       "      <td>0.0</td>\n",
       "      <td>0</td>\n",
       "      <td>0</td>\n",
       "      <td>12.0</td>\n",
       "    </tr>\n",
       "    <tr>\n",
       "      <th>115</th>\n",
       "      <td>ALB</td>\n",
       "      <td>3</td>\n",
       "      <td>Albania</td>\n",
       "      <td>2558</td>\n",
       "      <td>Rape and Mustardseed</td>\n",
       "      <td>5142</td>\n",
       "      <td>Food</td>\n",
       "      <td>1000 tonnes</td>\n",
       "      <td>41.15</td>\n",
       "      <td>20.17</td>\n",
       "      <td>...</td>\n",
       "      <td>0.0</td>\n",
       "      <td>0.0</td>\n",
       "      <td>0.0</td>\n",
       "      <td>0.0</td>\n",
       "      <td>0.0</td>\n",
       "      <td>0.0</td>\n",
       "      <td>0.0</td>\n",
       "      <td>0</td>\n",
       "      <td>0</td>\n",
       "      <td>0.0</td>\n",
       "    </tr>\n",
       "    <tr>\n",
       "      <th>116</th>\n",
       "      <td>ALB</td>\n",
       "      <td>3</td>\n",
       "      <td>Albania</td>\n",
       "      <td>2560</td>\n",
       "      <td>Coconuts - Incl Copra</td>\n",
       "      <td>5142</td>\n",
       "      <td>Food</td>\n",
       "      <td>1000 tonnes</td>\n",
       "      <td>41.15</td>\n",
       "      <td>20.17</td>\n",
       "      <td>...</td>\n",
       "      <td>0.0</td>\n",
       "      <td>2.0</td>\n",
       "      <td>0.0</td>\n",
       "      <td>0.0</td>\n",
       "      <td>0.0</td>\n",
       "      <td>0.0</td>\n",
       "      <td>0.0</td>\n",
       "      <td>0</td>\n",
       "      <td>0</td>\n",
       "      <td>2.0</td>\n",
       "    </tr>\n",
       "    <tr>\n",
       "      <th>117</th>\n",
       "      <td>ALB</td>\n",
       "      <td>3</td>\n",
       "      <td>Albania</td>\n",
       "      <td>2563</td>\n",
       "      <td>Olives (including preserved)</td>\n",
       "      <td>5521</td>\n",
       "      <td>Feed</td>\n",
       "      <td>1000 tonnes</td>\n",
       "      <td>41.15</td>\n",
       "      <td>20.17</td>\n",
       "      <td>...</td>\n",
       "      <td>0.0</td>\n",
       "      <td>0.0</td>\n",
       "      <td>0.0</td>\n",
       "      <td>0.0</td>\n",
       "      <td>0.0</td>\n",
       "      <td>0.0</td>\n",
       "      <td>0.0</td>\n",
       "      <td>0</td>\n",
       "      <td>0</td>\n",
       "      <td>0.0</td>\n",
       "    </tr>\n",
       "    <tr>\n",
       "      <th>119</th>\n",
       "      <td>ALB</td>\n",
       "      <td>3</td>\n",
       "      <td>Albania</td>\n",
       "      <td>2570</td>\n",
       "      <td>Oilcrops, Other</td>\n",
       "      <td>5521</td>\n",
       "      <td>Feed</td>\n",
       "      <td>1000 tonnes</td>\n",
       "      <td>41.15</td>\n",
       "      <td>20.17</td>\n",
       "      <td>...</td>\n",
       "      <td>2.0</td>\n",
       "      <td>1.0</td>\n",
       "      <td>0.0</td>\n",
       "      <td>0.0</td>\n",
       "      <td>0.0</td>\n",
       "      <td>0.0</td>\n",
       "      <td>0.0</td>\n",
       "      <td>0</td>\n",
       "      <td>0</td>\n",
       "      <td>16.0</td>\n",
       "    </tr>\n",
       "    <tr>\n",
       "      <th>120</th>\n",
       "      <td>ALB</td>\n",
       "      <td>3</td>\n",
       "      <td>Albania</td>\n",
       "      <td>2571</td>\n",
       "      <td>Soyabean Oil</td>\n",
       "      <td>5142</td>\n",
       "      <td>Food</td>\n",
       "      <td>1000 tonnes</td>\n",
       "      <td>41.15</td>\n",
       "      <td>20.17</td>\n",
       "      <td>...</td>\n",
       "      <td>0.0</td>\n",
       "      <td>0.0</td>\n",
       "      <td>0.0</td>\n",
       "      <td>0.0</td>\n",
       "      <td>0.0</td>\n",
       "      <td>0.0</td>\n",
       "      <td>0.0</td>\n",
       "      <td>0</td>\n",
       "      <td>0</td>\n",
       "      <td>33.0</td>\n",
       "    </tr>\n",
       "    <tr>\n",
       "      <th>121</th>\n",
       "      <td>ALB</td>\n",
       "      <td>3</td>\n",
       "      <td>Albania</td>\n",
       "      <td>2572</td>\n",
       "      <td>Groundnut Oil</td>\n",
       "      <td>5142</td>\n",
       "      <td>Food</td>\n",
       "      <td>1000 tonnes</td>\n",
       "      <td>41.15</td>\n",
       "      <td>20.17</td>\n",
       "      <td>...</td>\n",
       "      <td>0.0</td>\n",
       "      <td>0.0</td>\n",
       "      <td>0.0</td>\n",
       "      <td>0.0</td>\n",
       "      <td>0.0</td>\n",
       "      <td>0.0</td>\n",
       "      <td>0.0</td>\n",
       "      <td>0</td>\n",
       "      <td>0</td>\n",
       "      <td>4.0</td>\n",
       "    </tr>\n",
       "    <tr>\n",
       "      <th>123</th>\n",
       "      <td>ALB</td>\n",
       "      <td>3</td>\n",
       "      <td>Albania</td>\n",
       "      <td>2574</td>\n",
       "      <td>Rape and Mustard Oil</td>\n",
       "      <td>5142</td>\n",
       "      <td>Food</td>\n",
       "      <td>1000 tonnes</td>\n",
       "      <td>41.15</td>\n",
       "      <td>20.17</td>\n",
       "      <td>...</td>\n",
       "      <td>0.0</td>\n",
       "      <td>0.0</td>\n",
       "      <td>0.0</td>\n",
       "      <td>0.0</td>\n",
       "      <td>0.0</td>\n",
       "      <td>0.0</td>\n",
       "      <td>0.0</td>\n",
       "      <td>0</td>\n",
       "      <td>0</td>\n",
       "      <td>4.0</td>\n",
       "    </tr>\n",
       "    <tr>\n",
       "      <th>124</th>\n",
       "      <td>ALB</td>\n",
       "      <td>3</td>\n",
       "      <td>Albania</td>\n",
       "      <td>2577</td>\n",
       "      <td>Palm Oil</td>\n",
       "      <td>5142</td>\n",
       "      <td>Food</td>\n",
       "      <td>1000 tonnes</td>\n",
       "      <td>41.15</td>\n",
       "      <td>20.17</td>\n",
       "      <td>...</td>\n",
       "      <td>0.0</td>\n",
       "      <td>0.0</td>\n",
       "      <td>3.0</td>\n",
       "      <td>3.0</td>\n",
       "      <td>0.0</td>\n",
       "      <td>0.0</td>\n",
       "      <td>0.0</td>\n",
       "      <td>0</td>\n",
       "      <td>0</td>\n",
       "      <td>6.0</td>\n",
       "    </tr>\n",
       "  </tbody>\n",
       "</table>\n",
       "<p>30 rows × 64 columns</p>\n",
       "</div>"
      ],
      "text/plain": [
       "      Area Abbreviation  Area Code         Area  Item Code  \\\n",
       "10082               JPN        110        Japan       2516   \n",
       "7                   AFG          2  Afghanistan       2520   \n",
       "10                  AFG          2  Afghanistan       2537   \n",
       "17                  AFG          2  Afghanistan       2560   \n",
       "21                  AFG          2  Afghanistan       2572   \n",
       "29                  AFG          2  Afghanistan       2601   \n",
       "35                  AFG          2  Afghanistan       2618   \n",
       "39                  AFG          2  Afghanistan       2630   \n",
       "42                  AFG          2  Afghanistan       2640   \n",
       "44                  AFG          2  Afghanistan       2655   \n",
       "46                  AFG          2  Afghanistan       2658   \n",
       "85                  ALB          3      Albania       2805   \n",
       "93                  ALB          3      Albania       2516   \n",
       "94                  ALB          3      Albania       2517   \n",
       "95                  ALB          3      Albania       2518   \n",
       "96                  ALB          3      Albania       2520   \n",
       "97                  ALB          3      Albania       2520   \n",
       "98                  ALB          3      Albania       2532   \n",
       "102                 ALB          3      Albania       2534   \n",
       "109                 ALB          3      Albania       2547   \n",
       "113                 ALB          3      Albania       2555   \n",
       "114                 ALB          3      Albania       2556   \n",
       "115                 ALB          3      Albania       2558   \n",
       "116                 ALB          3      Albania       2560   \n",
       "117                 ALB          3      Albania       2563   \n",
       "119                 ALB          3      Albania       2570   \n",
       "120                 ALB          3      Albania       2571   \n",
       "121                 ALB          3      Albania       2572   \n",
       "123                 ALB          3      Albania       2574   \n",
       "124                 ALB          3      Albania       2577   \n",
       "\n",
       "                               Item  Element Code Element         Unit  \\\n",
       "10082                          Oats          5142    Food  1000 tonnes   \n",
       "7                    Cereals, Other          5142    Food  1000 tonnes   \n",
       "10                       Sugar beet          5521    Feed  1000 tonnes   \n",
       "17            Coconuts - Incl Copra          5142    Food  1000 tonnes   \n",
       "21                    Groundnut Oil          5142    Food  1000 tonnes   \n",
       "29            Tomatoes and products          5142    Food  1000 tonnes   \n",
       "35          Pineapples and products          5142    Food  1000 tonnes   \n",
       "39              Coffee and products          5142    Food  1000 tonnes   \n",
       "42                           Pepper          5142    Food  1000 tonnes   \n",
       "44                             Wine          5142    Food  1000 tonnes   \n",
       "46             Beverages, Alcoholic          5142    Food  1000 tonnes   \n",
       "85         Rice (Milled Equivalent)          5521    Feed  1000 tonnes   \n",
       "93                             Oats          5142    Food  1000 tonnes   \n",
       "94              Millet and products          5521    Feed  1000 tonnes   \n",
       "95             Sorghum and products          5521    Feed  1000 tonnes   \n",
       "96                   Cereals, Other          5521    Feed  1000 tonnes   \n",
       "97                   Cereals, Other          5142    Food  1000 tonnes   \n",
       "98             Cassava and products          5142    Food  1000 tonnes   \n",
       "102                    Roots, Other          5142    Food  1000 tonnes   \n",
       "109                            Peas          5142    Food  1000 tonnes   \n",
       "113                       Soyabeans          5142    Food  1000 tonnes   \n",
       "114         Groundnuts (Shelled Eq)          5142    Food  1000 tonnes   \n",
       "115            Rape and Mustardseed          5142    Food  1000 tonnes   \n",
       "116           Coconuts - Incl Copra          5142    Food  1000 tonnes   \n",
       "117    Olives (including preserved)          5521    Feed  1000 tonnes   \n",
       "119                 Oilcrops, Other          5521    Feed  1000 tonnes   \n",
       "120                    Soyabean Oil          5142    Food  1000 tonnes   \n",
       "121                   Groundnut Oil          5142    Food  1000 tonnes   \n",
       "123            Rape and Mustard Oil          5142    Food  1000 tonnes   \n",
       "124                        Palm Oil          5142    Food  1000 tonnes   \n",
       "\n",
       "       latitude  longitude  ...  Y2005  Y2006  Y2007  Y2008  Y2009  Y2010  \\\n",
       "10082     36.20     138.25  ...   44.0   42.0   47.0   46.0   47.0   47.0   \n",
       "7         33.94      67.71  ...    1.0    1.0    0.0    0.0    0.0    0.0   \n",
       "10        33.94      67.71  ...    0.0    0.0    0.0    0.0    0.0    0.0   \n",
       "17        33.94      67.71  ...    0.0    0.0    0.0    0.0    0.0    0.0   \n",
       "21        33.94      67.71  ...    0.0    0.0    0.0    0.0    0.0    0.0   \n",
       "29        33.94      67.71  ...    2.0    8.0    1.0    0.0    0.0    0.0   \n",
       "35        33.94      67.71  ...    0.0    0.0    0.0    0.0    0.0    0.0   \n",
       "39        33.94      67.71  ...    0.0    0.0    0.0    1.0    0.0    0.0   \n",
       "42        33.94      67.71  ...    0.0    0.0    0.0    0.0    0.0    0.0   \n",
       "44        33.94      67.71  ...    0.0    1.0    1.0    0.0    0.0    0.0   \n",
       "46        33.94      67.71  ...    0.0    0.0    0.0    1.0    0.0    0.0   \n",
       "85        41.15      20.17  ...    0.0    0.0    0.0    0.0    0.0    0.0   \n",
       "93        41.15      20.17  ...    0.0    0.0    0.0    0.0    0.0    0.0   \n",
       "94        41.15      20.17  ...    0.0    0.0    0.0    0.0    0.0    0.0   \n",
       "95        41.15      20.17  ...    0.0    0.0    0.0    0.0    0.0    0.0   \n",
       "96        41.15      20.17  ...    0.0    0.0    0.0    0.0    0.0    0.0   \n",
       "97        41.15      20.17  ...    0.0    0.0    0.0    0.0    1.0    0.0   \n",
       "98        41.15      20.17  ...    0.0    0.0    0.0    0.0    0.0    0.0   \n",
       "102       41.15      20.17  ...    0.0    0.0    0.0    0.0    0.0    0.0   \n",
       "109       41.15      20.17  ...    0.0    0.0    0.0    0.0    0.0    0.0   \n",
       "113       41.15      20.17  ...    0.0    0.0    0.0    0.0    0.0    0.0   \n",
       "114       41.15      20.17  ...    1.0    1.0    1.0    1.0    1.0    1.0   \n",
       "115       41.15      20.17  ...    0.0    0.0    0.0    0.0    0.0    0.0   \n",
       "116       41.15      20.17  ...    0.0    2.0    0.0    0.0    0.0    0.0   \n",
       "117       41.15      20.17  ...    0.0    0.0    0.0    0.0    0.0    0.0   \n",
       "119       41.15      20.17  ...    2.0    1.0    0.0    0.0    0.0    0.0   \n",
       "120       41.15      20.17  ...    0.0    0.0    0.0    0.0    0.0    0.0   \n",
       "121       41.15      20.17  ...    0.0    0.0    0.0    0.0    0.0    0.0   \n",
       "123       41.15      20.17  ...    0.0    0.0    0.0    0.0    0.0    0.0   \n",
       "124       41.15      20.17  ...    0.0    0.0    3.0    3.0    0.0    0.0   \n",
       "\n",
       "       Y2011  Y2012  Y2013  total  \n",
       "10082   51.0   -169   -246  613.0  \n",
       "7        0.0      0      0    5.0  \n",
       "10       0.0      0      0  199.0  \n",
       "17       0.0      0      0    2.0  \n",
       "21       0.0      0      0    0.0  \n",
       "29       0.0      0      0   17.0  \n",
       "35       0.0      0      0    2.0  \n",
       "39       0.0      0      0    1.0  \n",
       "42       0.0      0      0    0.0  \n",
       "44       0.0      0      0    2.0  \n",
       "46       0.0      0      0    1.0  \n",
       "85       0.0      0      0    1.0  \n",
       "93       0.0      0      0    0.0  \n",
       "94       0.0      0      0    0.0  \n",
       "95       0.0      0      0  693.0  \n",
       "96       0.0      0      0   14.0  \n",
       "97       0.0      0      0    3.0  \n",
       "98       0.0      0      0    0.0  \n",
       "102      0.0      0      0    0.0  \n",
       "109      0.0      0      0    0.0  \n",
       "113      0.0      0      0    0.0  \n",
       "114      0.0      0      0   12.0  \n",
       "115      0.0      0      0    0.0  \n",
       "116      0.0      0      0    2.0  \n",
       "117      0.0      0      0    0.0  \n",
       "119      0.0      0      0   16.0  \n",
       "120      0.0      0      0   33.0  \n",
       "121      0.0      0      0    4.0  \n",
       "123      0.0      0      0    4.0  \n",
       "124      0.0      0      0    6.0  \n",
       "\n",
       "[30 rows x 64 columns]"
      ]
     },
     "execution_count": 16,
     "metadata": {},
     "output_type": "execute_result"
    }
   ],
   "source": [
    "low = data.nsmallest(30, 'Y2013')\n",
    "low"
   ]
  },
  {
   "cell_type": "code",
   "execution_count": null,
   "metadata": {},
   "outputs": [],
   "source": []
  },
  {
   "cell_type": "markdown",
   "metadata": {},
   "source": [
    "## COUNTRIES STANDING AS TOP PRODUCERS"
   ]
  },
  {
   "cell_type": "code",
   "execution_count": 18,
   "metadata": {},
   "outputs": [
    {
     "data": {
      "image/png": "[encoded data removed]",
      "text/plain": [
       "<Figure size 648x432 with 1 Axes>"
      ]
     },
     "metadata": {
      "needs_background": "light"
     },
     "output_type": "display_data"
    }
   ],
   "source": [
    "sns.catplot(x= 'Area',data = top, kind ='count', height = 6, aspect = 1.5);"
   ]
  },
  {
   "cell_type": "markdown",
   "metadata": {},
   "source": [
    "## PLOTTING THE IMPORVEMENT  OF TOP 4 COUNTRIES (India, China, USA, Brazil)"
   ]
  },
  {
   "cell_type": "code",
   "execution_count": 19,
   "metadata": {},
   "outputs": [
    {
     "data": {
      "text/plain": [
       "Text(0.5, 1.0, \"Brazil's Growth\")"
      ]
     },
     "execution_count": 19,
     "metadata": {},
     "output_type": "execute_result"
    },
    {
     "data": {
      "image/png": "[encoded data removed]",
      "text/plain": [
       "<Figure size 2160x2160 with 4 Axes>"
      ]
     },
     "metadata": {
      "needs_background": "light"
     },
     "output_type": "display_data"
    }
   ],
   "source": [
    "plt.rcParams['figure.figsize'] = (30, 30)\n",
    "# looking at India's Growth\n",
    "india_production = pd.DataFrame(data[data['Area'] == 'India'].loc[:, \"Y2000\": \"Y2013\"].agg(\"sum\", axis = 0))\n",
    "\n",
    "india_production.columns = ['Production']\n",
    "plt.subplot(231)\n",
    "sns.barplot(x = india_production.index, y = india_production.Production, data = india_production, palette = 'Greens')\n",
    "plt.gca().set_title(\"India's Growth\")\n",
    "\n",
    "# looking at china's growth\n",
    "china_production = pd.DataFrame(data[data['Area'] == 'China, mainland'].loc[:, \"Y2000\":\"Y2013\"].agg(\"sum\", axis = 0))\n",
    "\n",
    "china_production.columns = ['Production']\n",
    "plt.subplot(232)\n",
    "sns.barplot(x = china_production.index, y = india_production.Production, data = china_production, palette = 'Blues')\n",
    "plt.gca().set_title(\"China's Growth\")\n",
    "\n",
    "#looking at usa's growth\n",
    "usa_production = pd.DataFrame(data[data['Area'] == 'United States of America'].loc[:,\"Y2000\":\"Y2013\"].agg(\"sum\", axis = 0))\n",
    "\n",
    "usa_production.columns = ['Production']\n",
    "plt.subplot(233)\n",
    "sns.barplot(x = usa_production.index, y = usa_production.Production, data = usa_production, palette = 'RdPu')\n",
    "plt.gca().set_title(\"USA's Growth\")\n",
    "\n",
    "#looking at brazil's growth\n",
    "brazil_production = pd.DataFrame(data[data['Area'] == 'Brazil'].loc[:,\"Y2000\":\"Y2013\"].agg(\"sum\", axis = 0))\n",
    "\n",
    "brazil_production.columns = ['Production']\n",
    "plt.subplot(234)\n",
    "sns.barplot(x = brazil_production.index, y = brazil_production.Production, data = brazil_production, palette = 'Greys')\n",
    "plt.gca().set_title(\"Brazil's Growth\")\n"
   ]
  },
  {
   "cell_type": "markdown",
   "metadata": {},
   "source": [
    "## Countries with LEAST PRODUCTION"
   ]
  },
  {
   "cell_type": "code",
   "execution_count": 20,
   "metadata": {},
   "outputs": [
    {
     "data": {
      "image/png": "[encoded data removed]",
      "text/plain": [
       "<Figure size 648x432 with 1 Axes>"
      ]
     },
     "metadata": {
      "needs_background": "light"
     },
     "output_type": "display_data"
    }
   ],
   "source": [
    "sns.catplot(x= 'Area', data = low, kind ='count', height = 6, aspect = 1.5);"
   ]
  },
  {
   "cell_type": "markdown",
   "metadata": {},
   "source": [
    "# GROWTH OF COUNTRIES --> LESS DIVERSITY IN PRODUCTION"
   ]
  },
  {
   "cell_type": "code",
   "execution_count": 21,
   "metadata": {},
   "outputs": [
    {
     "data": {
      "text/plain": [
       "Text(0.5, 1.0, \"Albania's Growth\")"
      ]
     },
     "execution_count": 21,
     "metadata": {},
     "output_type": "execute_result"
    },
    {
     "data": {
      "image/png": "[encoded data removed]",
      "text/plain": [
       "<Figure size 2160x2160 with 3 Axes>"
      ]
     },
     "metadata": {
      "needs_background": "light"
     },
     "output_type": "display_data"
    }
   ],
   "source": [
    "plt.rcParams['figure.figsize'] = (30, 30)\n",
    "# looking at Japan's Growth\n",
    "japan_production = pd.DataFrame(data[data['Area'] == 'Japan'].loc[:, \"Y2000\": \"Y2013\"].agg(\"sum\", axis = 0))\n",
    "\n",
    "japan_production.columns = ['Production']\n",
    "plt.subplot(231)\n",
    "sns.barplot(x = japan_production.index, y = japan_production.Production, data = japan_production, palette = 'Greens')\n",
    "plt.gca().set_title(\"Japan's Growth\")\n",
    "\n",
    "# looking at Afghanistan's growth\n",
    "afg_production = pd.DataFrame(data[data['Area'] == 'Afghanistan'].loc[:, \"Y2000\":\"Y2013\"].agg(\"sum\", axis = 0))\n",
    "\n",
    "afg_production.columns = ['Production']\n",
    "plt.subplot(232)\n",
    "sns.barplot(x = afg_production.index, y = afg_production.Production, data = afg_production, palette = 'Blues')\n",
    "plt.gca().set_title(\"Afghanistan's Growth\")\n",
    "\n",
    "#looking at albania's growth\n",
    "albania_production = pd.DataFrame(data[data['Area'] == 'Albania'].loc[:,\"Y2000\":\"Y2013\"].agg(\"sum\", axis = 0))\n",
    "\n",
    "albania_production.columns = ['Production']\n",
    "plt.subplot(233)\n",
    "sns.barplot(x = albania_production.index, y = albania_production.Production, data = albania_production, palette = 'RdPu')\n",
    "plt.gca().set_title(\"Albania's Growth\")\n"
   ]
  },
  {
   "cell_type": "markdown",
   "metadata": {},
   "source": [
    "# MOST PRODUCED ITEMS"
   ]
  },
  {
   "cell_type": "code",
   "execution_count": 22,
   "metadata": {},
   "outputs": [
    {
     "data": {
      "text/html": [
       "<div>\n",
       "<style scoped>\n",
       "    .dataframe tbody tr th:only-of-type {\n",
       "        vertical-align: middle;\n",
       "    }\n",
       "\n",
       "    .dataframe tbody tr th {\n",
       "        vertical-align: top;\n",
       "    }\n",
       "\n",
       "    .dataframe thead th {\n",
       "        text-align: right;\n",
       "    }\n",
       "</style>\n",
       "<table border=\"1\" class=\"dataframe\">\n",
       "  <thead>\n",
       "    <tr style=\"text-align: right;\">\n",
       "      <th></th>\n",
       "      <th>Element</th>\n",
       "    </tr>\n",
       "    <tr>\n",
       "      <th>Item</th>\n",
       "      <th></th>\n",
       "    </tr>\n",
       "  </thead>\n",
       "  <tbody>\n",
       "    <tr>\n",
       "      <th>Milk - Excluding Butter</th>\n",
       "      <td>450</td>\n",
       "    </tr>\n",
       "    <tr>\n",
       "      <th>Eggs</th>\n",
       "      <td>298</td>\n",
       "    </tr>\n",
       "    <tr>\n",
       "      <th>Cereals - Excluding Beer</th>\n",
       "      <td>291</td>\n",
       "    </tr>\n",
       "    <tr>\n",
       "      <th>Fish, Seafood</th>\n",
       "      <td>283</td>\n",
       "    </tr>\n",
       "    <tr>\n",
       "      <th>Maize and products</th>\n",
       "      <td>278</td>\n",
       "    </tr>\n",
       "    <tr>\n",
       "      <th>Pelagic Fish</th>\n",
       "      <td>275</td>\n",
       "    </tr>\n",
       "    <tr>\n",
       "      <th>Oilcrops</th>\n",
       "      <td>259</td>\n",
       "    </tr>\n",
       "    <tr>\n",
       "      <th>Starchy Roots</th>\n",
       "      <td>255</td>\n",
       "    </tr>\n",
       "    <tr>\n",
       "      <th>Cereals, Other</th>\n",
       "      <td>255</td>\n",
       "    </tr>\n",
       "    <tr>\n",
       "      <th>Animal fats</th>\n",
       "      <td>241</td>\n",
       "    </tr>\n",
       "    <tr>\n",
       "      <th>Oats</th>\n",
       "      <td>227</td>\n",
       "    </tr>\n",
       "    <tr>\n",
       "      <th>Fish, Body Oil</th>\n",
       "      <td>225</td>\n",
       "    </tr>\n",
       "    <tr>\n",
       "      <th>Barley and products</th>\n",
       "      <td>223</td>\n",
       "    </tr>\n",
       "    <tr>\n",
       "      <th>Wheat and products</th>\n",
       "      <td>218</td>\n",
       "    </tr>\n",
       "    <tr>\n",
       "      <th>Rice (Milled Equivalent)</th>\n",
       "      <td>212</td>\n",
       "    </tr>\n",
       "    <tr>\n",
       "      <th>Pulses</th>\n",
       "      <td>210</td>\n",
       "    </tr>\n",
       "    <tr>\n",
       "      <th>Oilcrops, Other</th>\n",
       "      <td>209</td>\n",
       "    </tr>\n",
       "    <tr>\n",
       "      <th>Vegetables, Other</th>\n",
       "      <td>206</td>\n",
       "    </tr>\n",
       "    <tr>\n",
       "      <th>Pulses, Other and products</th>\n",
       "      <td>206</td>\n",
       "    </tr>\n",
       "    <tr>\n",
       "      <th>Cassava and products</th>\n",
       "      <td>206</td>\n",
       "    </tr>\n",
       "  </tbody>\n",
       "</table>\n",
       "</div>"
      ],
      "text/plain": [
       "                            Element\n",
       "Item                               \n",
       "Milk - Excluding Butter         450\n",
       "Eggs                            298\n",
       "Cereals - Excluding Beer        291\n",
       "Fish, Seafood                   283\n",
       "Maize and products              278\n",
       "Pelagic Fish                    275\n",
       "Oilcrops                        259\n",
       "Starchy Roots                   255\n",
       "Cereals, Other                  255\n",
       "Animal fats                     241\n",
       "Oats                            227\n",
       "Fish, Body Oil                  225\n",
       "Barley and products             223\n",
       "Wheat and products              218\n",
       "Rice (Milled Equivalent)        212\n",
       "Pulses                          210\n",
       "Oilcrops, Other                 209\n",
       "Vegetables, Other               206\n",
       "Pulses, Other and products      206\n",
       "Cassava and products            206"
      ]
     },
     "execution_count": 22,
     "metadata": {},
     "output_type": "execute_result"
    }
   ],
   "source": [
    "items = pd.DataFrame(data.groupby(\"Item\")[\"Element\"].agg(\"count\").sort_values(ascending=False))[:20]\n",
    "items"
   ]
  },
  {
   "cell_type": "markdown",
   "metadata": {},
   "source": [
    "# LEAST PRODUCED ITEMS"
   ]
  },
  {
   "cell_type": "code",
   "execution_count": 23,
   "metadata": {},
   "outputs": [
    {
     "data": {
      "text/html": [
       "<div>\n",
       "<style scoped>\n",
       "    .dataframe tbody tr th:only-of-type {\n",
       "        vertical-align: middle;\n",
       "    }\n",
       "\n",
       "    .dataframe tbody tr th {\n",
       "        vertical-align: top;\n",
       "    }\n",
       "\n",
       "    .dataframe thead th {\n",
       "        text-align: right;\n",
       "    }\n",
       "</style>\n",
       "<table border=\"1\" class=\"dataframe\">\n",
       "  <thead>\n",
       "    <tr style=\"text-align: right;\">\n",
       "      <th></th>\n",
       "      <th>Element</th>\n",
       "    </tr>\n",
       "    <tr>\n",
       "      <th>Item</th>\n",
       "      <th></th>\n",
       "    </tr>\n",
       "  </thead>\n",
       "  <tbody>\n",
       "    <tr>\n",
       "      <th>Meat, Aquatic Mammals</th>\n",
       "      <td>3</td>\n",
       "    </tr>\n",
       "    <tr>\n",
       "      <th>Cottonseed</th>\n",
       "      <td>14</td>\n",
       "    </tr>\n",
       "    <tr>\n",
       "      <th>Ricebran Oil</th>\n",
       "      <td>17</td>\n",
       "    </tr>\n",
       "    <tr>\n",
       "      <th>Palm kernels</th>\n",
       "      <td>20</td>\n",
       "    </tr>\n",
       "    <tr>\n",
       "      <th>Sugar non-centrifugal</th>\n",
       "      <td>32</td>\n",
       "    </tr>\n",
       "    <tr>\n",
       "      <th>Sugar beet</th>\n",
       "      <td>46</td>\n",
       "    </tr>\n",
       "    <tr>\n",
       "      <th>Sunflower seed</th>\n",
       "      <td>81</td>\n",
       "    </tr>\n",
       "    <tr>\n",
       "      <th>Yams</th>\n",
       "      <td>84</td>\n",
       "    </tr>\n",
       "    <tr>\n",
       "      <th>Sugar cane</th>\n",
       "      <td>84</td>\n",
       "    </tr>\n",
       "    <tr>\n",
       "      <th>Palmkernel Oil</th>\n",
       "      <td>86</td>\n",
       "    </tr>\n",
       "    <tr>\n",
       "      <th>Cottonseed Oil</th>\n",
       "      <td>97</td>\n",
       "    </tr>\n",
       "    <tr>\n",
       "      <th>Rape and Mustard Oil</th>\n",
       "      <td>99</td>\n",
       "    </tr>\n",
       "    <tr>\n",
       "      <th>Sesame seed</th>\n",
       "      <td>103</td>\n",
       "    </tr>\n",
       "    <tr>\n",
       "      <th>Sesameseed Oil</th>\n",
       "      <td>111</td>\n",
       "    </tr>\n",
       "    <tr>\n",
       "      <th>Aquatic Animals, Others</th>\n",
       "      <td>112</td>\n",
       "    </tr>\n",
       "    <tr>\n",
       "      <th>Palm Oil</th>\n",
       "      <td>114</td>\n",
       "    </tr>\n",
       "    <tr>\n",
       "      <th>Cloves</th>\n",
       "      <td>114</td>\n",
       "    </tr>\n",
       "    <tr>\n",
       "      <th>Plantains</th>\n",
       "      <td>116</td>\n",
       "    </tr>\n",
       "    <tr>\n",
       "      <th>Sugar Crops</th>\n",
       "      <td>119</td>\n",
       "    </tr>\n",
       "    <tr>\n",
       "      <th>Coconut Oil</th>\n",
       "      <td>122</td>\n",
       "    </tr>\n",
       "  </tbody>\n",
       "</table>\n",
       "</div>"
      ],
      "text/plain": [
       "                         Element\n",
       "Item                            \n",
       "Meat, Aquatic Mammals          3\n",
       "Cottonseed                    14\n",
       "Ricebran Oil                  17\n",
       "Palm kernels                  20\n",
       "Sugar non-centrifugal         32\n",
       "Sugar beet                    46\n",
       "Sunflower seed                81\n",
       "Yams                          84\n",
       "Sugar cane                    84\n",
       "Palmkernel Oil                86\n",
       "Cottonseed Oil                97\n",
       "Rape and Mustard Oil          99\n",
       "Sesame seed                  103\n",
       "Sesameseed Oil               111\n",
       "Aquatic Animals, Others      112\n",
       "Palm Oil                     114\n",
       "Cloves                       114\n",
       "Plantains                    116\n",
       "Sugar Crops                  119\n",
       "Coconut Oil                  122"
      ]
     },
     "execution_count": 23,
     "metadata": {},
     "output_type": "execute_result"
    }
   ],
   "source": [
    "items = pd.DataFrame(data.groupby(\"Item\")[\"Element\"].agg(\"count\").sort_values(ascending=True))[:20]\n",
    "items"
   ]
  },
  {
   "cell_type": "markdown",
   "metadata": {},
   "source": [
    "# ANALYSIS OF ITEM PRODUCTION (LARGEST PRODUCER OF THE ITEM) "
   ]
  },
  {
   "cell_type": "markdown",
   "metadata": {},
   "source": [
    "### ANALYSIS OF RICE PRODUCTION"
   ]
  },
  {
   "cell_type": "code",
   "execution_count": 24,
   "metadata": {
    "scrolled": true
   },
   "outputs": [
    {
     "data": {
      "text/plain": [
       "Area\n",
       "China, mainland                          114032.0\n",
       "India                                     77388.0\n",
       "Indonesia                                 28707.0\n",
       "Bangladesh                                22455.0\n",
       "Viet Nam                                  14469.0\n",
       "Myanmar                                   10150.0\n",
       "Philippines                                8468.0\n",
       "Thailand                                   8342.0\n",
       "Japan                                      7640.0\n",
       "Brazil                                     6672.0\n",
       "Republic of Korea                          4043.0\n",
       "Egypt                                      2804.0\n",
       "Nigeria                                    2699.0\n",
       "Nepal                                      2275.0\n",
       "Iran (Islamic Republic of)                 2181.0\n",
       "Cambodia                                   2101.0\n",
       "Malaysia                                   2015.0\n",
       "United States of America                   2007.0\n",
       "Pakistan                                   1998.0\n",
       "Democratic People's Republic of Korea      1844.0\n",
       "Name: Y2000, dtype: float64"
      ]
     },
     "execution_count": 24,
     "metadata": {},
     "output_type": "execute_result"
    }
   ],
   "source": [
    "data_rice = data[data.Item == 'Rice (Milled Equivalent)']\n",
    "rice_area = data_rice.groupby(['Area'])['Y2000'].sum()\n",
    "rice_area.sort_values(ascending=False)[:20]"
   ]
  },
  {
   "cell_type": "code",
   "execution_count": 25,
   "metadata": {},
   "outputs": [
    {
     "data": {
      "text/plain": [
       "Text(0.5, 1.0, 'TOP 10 PRODUCERS OF RICE')"
      ]
     },
     "execution_count": 25,
     "metadata": {},
     "output_type": "execute_result"
    },
    {
     "data": {
      "image/png": "[encoded data removed]",
      "text/plain": [
       "<Figure size 1080x720 with 1 Axes>"
      ]
     },
     "metadata": {
      "needs_background": "light"
     },
     "output_type": "display_data"
    }
   ],
   "source": [
    "df = data_rice.groupby(by='Area')['total'].sum().reset_index().sort_values(by='total', ascending=False).head(10)\n",
    "fig, ax = plt.subplots(figsize=(15,10))\n",
    "sns.barplot(df.Area, df.total,errwidth=1)\n",
    "plt.yscale('log')\n",
    "plt.title(\"TOP 10 PRODUCERS OF RICE\")"
   ]
  },
  {
   "cell_type": "markdown",
   "metadata": {},
   "source": [
    "##### LEAST 10 PRODUCERS OF RICE"
   ]
  },
  {
   "cell_type": "code",
   "execution_count": 26,
   "metadata": {},
   "outputs": [
    {
     "data": {
      "text/plain": [
       "Area\n",
       "Saint Lucia                         1.0\n",
       "Saint Kitts and Nevis               1.0\n",
       "Antigua and Barbuda                 1.0\n",
       "Iceland                             1.0\n",
       "Dominica                            1.0\n",
       "Malta                               2.0\n",
       "Saint Vincent and the Grenadines    3.0\n",
       "Cyprus                              4.0\n",
       "Kiribati                            4.0\n",
       "Sao Tome and Principe               4.0\n",
       "Samoa                               4.0\n",
       "Barbados                            4.0\n",
       "New Caledonia                       5.0\n",
       "Namibia                             6.0\n",
       "Belize                              7.0\n",
       "Bahamas                             7.0\n",
       "French Polynesia                    8.0\n",
       "Rwanda                              9.0\n",
       "Name: Y2000, dtype: float64"
      ]
     },
     "execution_count": 26,
     "metadata": {},
     "output_type": "execute_result"
    }
   ],
   "source": [
    "rice_area = data_rice.groupby(['Area'])['Y2000'].sum()\n",
    "rice_area.sort_values(ascending=True)[2:20]"
   ]
  },
  {
   "cell_type": "markdown",
   "metadata": {},
   "source": [
    "#### Comparing Rice production in India and Brazil because Brazil consumes lot of rice and India produces it helping exports of he country...any other crop analysis can be don"
   ]
  },
  {
   "cell_type": "markdown",
   "metadata": {},
   "source": [
    "### INDIA'S PRODUCTION OF RICE"
   ]
  },
  {
   "cell_type": "code",
   "execution_count": 27,
   "metadata": {},
   "outputs": [
    {
     "data": {
      "text/html": [
       "<div>\n",
       "<style scoped>\n",
       "    .dataframe tbody tr th:only-of-type {\n",
       "        vertical-align: middle;\n",
       "    }\n",
       "\n",
       "    .dataframe tbody tr th {\n",
       "        vertical-align: top;\n",
       "    }\n",
       "\n",
       "    .dataframe thead th {\n",
       "        text-align: right;\n",
       "    }\n",
       "</style>\n",
       "<table border=\"1\" class=\"dataframe\">\n",
       "  <thead>\n",
       "    <tr style=\"text-align: right;\">\n",
       "      <th></th>\n",
       "      <th>Area Abbreviation</th>\n",
       "      <th>Area Code</th>\n",
       "      <th>Area</th>\n",
       "      <th>Item Code</th>\n",
       "      <th>Item</th>\n",
       "      <th>Element Code</th>\n",
       "      <th>Element</th>\n",
       "      <th>Unit</th>\n",
       "      <th>latitude</th>\n",
       "      <th>longitude</th>\n",
       "      <th>...</th>\n",
       "      <th>Y2005</th>\n",
       "      <th>Y2006</th>\n",
       "      <th>Y2007</th>\n",
       "      <th>Y2008</th>\n",
       "      <th>Y2009</th>\n",
       "      <th>Y2010</th>\n",
       "      <th>Y2011</th>\n",
       "      <th>Y2012</th>\n",
       "      <th>Y2013</th>\n",
       "      <th>total</th>\n",
       "    </tr>\n",
       "  </thead>\n",
       "  <tbody>\n",
       "    <tr>\n",
       "      <th>9035</th>\n",
       "      <td>IND</td>\n",
       "      <td>100</td>\n",
       "      <td>India</td>\n",
       "      <td>2805</td>\n",
       "      <td>Rice (Milled Equivalent)</td>\n",
       "      <td>5521</td>\n",
       "      <td>Feed</td>\n",
       "      <td>1000 tonnes</td>\n",
       "      <td>20.59</td>\n",
       "      <td>78.96</td>\n",
       "      <td>...</td>\n",
       "      <td>1837.0</td>\n",
       "      <td>1856.0</td>\n",
       "      <td>1929.0</td>\n",
       "      <td>1975.0</td>\n",
       "      <td>1810.0</td>\n",
       "      <td>1920.0</td>\n",
       "      <td>2106.0</td>\n",
       "      <td>2105</td>\n",
       "      <td>2124</td>\n",
       "      <td>49479.0</td>\n",
       "    </tr>\n",
       "    <tr>\n",
       "      <th>9036</th>\n",
       "      <td>IND</td>\n",
       "      <td>100</td>\n",
       "      <td>India</td>\n",
       "      <td>2805</td>\n",
       "      <td>Rice (Milled Equivalent)</td>\n",
       "      <td>5142</td>\n",
       "      <td>Food</td>\n",
       "      <td>1000 tonnes</td>\n",
       "      <td>20.59</td>\n",
       "      <td>78.96</td>\n",
       "      <td>...</td>\n",
       "      <td>80672.0</td>\n",
       "      <td>80897.0</td>\n",
       "      <td>82527.0</td>\n",
       "      <td>84858.0</td>\n",
       "      <td>85325.0</td>\n",
       "      <td>86928.0</td>\n",
       "      <td>86478.0</td>\n",
       "      <td>86933</td>\n",
       "      <td>87006</td>\n",
       "      <td>3170975.0</td>\n",
       "    </tr>\n",
       "  </tbody>\n",
       "</table>\n",
       "<p>2 rows × 64 columns</p>\n",
       "</div>"
      ],
      "text/plain": [
       "     Area Abbreviation  Area Code   Area  Item Code                      Item  \\\n",
       "9035               IND        100  India       2805  Rice (Milled Equivalent)   \n",
       "9036               IND        100  India       2805  Rice (Milled Equivalent)   \n",
       "\n",
       "      Element Code Element         Unit  latitude  longitude  ...    Y2005  \\\n",
       "9035          5521    Feed  1000 tonnes     20.59      78.96  ...   1837.0   \n",
       "9036          5142    Food  1000 tonnes     20.59      78.96  ...  80672.0   \n",
       "\n",
       "        Y2006    Y2007    Y2008    Y2009    Y2010    Y2011  Y2012  Y2013  \\\n",
       "9035   1856.0   1929.0   1975.0   1810.0   1920.0   2106.0   2105   2124   \n",
       "9036  80897.0  82527.0  84858.0  85325.0  86928.0  86478.0  86933  87006   \n",
       "\n",
       "          total  \n",
       "9035    49479.0  \n",
       "9036  3170975.0  \n",
       "\n",
       "[2 rows x 64 columns]"
      ]
     },
     "execution_count": 27,
     "metadata": {},
     "output_type": "execute_result"
    }
   ],
   "source": [
    "india_rice= data[(data.Item == 'Rice (Milled Equivalent)') & (data.Area == 'India') ]\n",
    "india_rice"
   ]
  },
  {
   "cell_type": "markdown",
   "metadata": {},
   "source": [
    "### BRAZIL'S PRODUCTION OF RICE"
   ]
  },
  {
   "cell_type": "code",
   "execution_count": 28,
   "metadata": {},
   "outputs": [
    {
     "data": {
      "text/html": [
       "<div>\n",
       "<style scoped>\n",
       "    .dataframe tbody tr th:only-of-type {\n",
       "        vertical-align: middle;\n",
       "    }\n",
       "\n",
       "    .dataframe tbody tr th {\n",
       "        vertical-align: top;\n",
       "    }\n",
       "\n",
       "    .dataframe thead th {\n",
       "        text-align: right;\n",
       "    }\n",
       "</style>\n",
       "<table border=\"1\" class=\"dataframe\">\n",
       "  <thead>\n",
       "    <tr style=\"text-align: right;\">\n",
       "      <th></th>\n",
       "      <th>Area Abbreviation</th>\n",
       "      <th>Area Code</th>\n",
       "      <th>Area</th>\n",
       "      <th>Item Code</th>\n",
       "      <th>Item</th>\n",
       "      <th>Element Code</th>\n",
       "      <th>Element</th>\n",
       "      <th>Unit</th>\n",
       "      <th>latitude</th>\n",
       "      <th>longitude</th>\n",
       "      <th>...</th>\n",
       "      <th>Y2005</th>\n",
       "      <th>Y2006</th>\n",
       "      <th>Y2007</th>\n",
       "      <th>Y2008</th>\n",
       "      <th>Y2009</th>\n",
       "      <th>Y2010</th>\n",
       "      <th>Y2011</th>\n",
       "      <th>Y2012</th>\n",
       "      <th>Y2013</th>\n",
       "      <th>total</th>\n",
       "    </tr>\n",
       "  </thead>\n",
       "  <tbody>\n",
       "    <tr>\n",
       "      <th>2535</th>\n",
       "      <td>BRA</td>\n",
       "      <td>21</td>\n",
       "      <td>Brazil</td>\n",
       "      <td>2805</td>\n",
       "      <td>Rice (Milled Equivalent)</td>\n",
       "      <td>5142</td>\n",
       "      <td>Food</td>\n",
       "      <td>1000 tonnes</td>\n",
       "      <td>-14.24</td>\n",
       "      <td>-51.93</td>\n",
       "      <td>...</td>\n",
       "      <td>7305.0</td>\n",
       "      <td>6519.0</td>\n",
       "      <td>6319.0</td>\n",
       "      <td>6379.0</td>\n",
       "      <td>6688.0</td>\n",
       "      <td>6546.0</td>\n",
       "      <td>6727.0</td>\n",
       "      <td>6309</td>\n",
       "      <td>6437</td>\n",
       "      <td>285676.0</td>\n",
       "    </tr>\n",
       "  </tbody>\n",
       "</table>\n",
       "<p>1 rows × 64 columns</p>\n",
       "</div>"
      ],
      "text/plain": [
       "     Area Abbreviation  Area Code    Area  Item Code  \\\n",
       "2535               BRA         21  Brazil       2805   \n",
       "\n",
       "                          Item  Element Code Element         Unit  latitude  \\\n",
       "2535  Rice (Milled Equivalent)          5142    Food  1000 tonnes    -14.24   \n",
       "\n",
       "      longitude  ...   Y2005   Y2006   Y2007   Y2008   Y2009   Y2010   Y2011  \\\n",
       "2535     -51.93  ...  7305.0  6519.0  6319.0  6379.0  6688.0  6546.0  6727.0   \n",
       "\n",
       "      Y2012  Y2013     total  \n",
       "2535   6309   6437  285676.0  \n",
       "\n",
       "[1 rows x 64 columns]"
      ]
     },
     "execution_count": 28,
     "metadata": {},
     "output_type": "execute_result"
    }
   ],
   "source": [
    "brazil_rice= data[(data.Item == 'Rice (Milled Equivalent)') & (data.Area == 'Brazil') ]\n",
    "brazil_rice"
   ]
  },
  {
   "cell_type": "code",
   "execution_count": null,
   "metadata": {},
   "outputs": [],
   "source": []
  },
  {
   "cell_type": "markdown",
   "metadata": {},
   "source": [
    "###  ANALYSIS OF EGGS PRODUCTION"
   ]
  },
  {
   "cell_type": "code",
   "execution_count": 29,
   "metadata": {},
   "outputs": [
    {
     "data": {
      "text/plain": [
       "Area\n",
       "China, mainland               1106654.0\n",
       "United States of America       408124.0\n",
       "Japan                          221044.0\n",
       "Germany                        122062.0\n",
       "India                          120392.0\n",
       "Mexico                         103214.0\n",
       "Brazil                          98662.0\n",
       "France                          84134.0\n",
       "United Kingdom                  75284.0\n",
       "Italy                           69910.0\n",
       "Spain                           57308.0\n",
       "Thailand                        50940.0\n",
       "Indonesia                       47068.0\n",
       "Poland                          41450.0\n",
       "Turkey                          37246.0\n",
       "Canada                          35048.0\n",
       "Republic of Korea               33570.0\n",
       "Iran (Islamic Republic of)      31556.0\n",
       "Nigeria                         30252.0\n",
       "Argentina                       26952.0\n",
       "Name: total, dtype: float64"
      ]
     },
     "execution_count": 29,
     "metadata": {},
     "output_type": "execute_result"
    }
   ],
   "source": [
    "data_eggs = data[data.Item == 'Eggs']\n",
    "eggs_area = data_eggs.groupby(['Area'])['total'].sum()\n",
    "eggs_area.sort_values(ascending=False)[:20]"
   ]
  },
  {
   "cell_type": "code",
   "execution_count": 30,
   "metadata": {},
   "outputs": [
    {
     "data": {
      "text/plain": [
       "Text(0.5, 1.0, 'TOP 10 PRODUCERS OF EGGS')"
      ]
     },
     "execution_count": 30,
     "metadata": {},
     "output_type": "execute_result"
    },
    {
     "data": {
      "image/png": "[encoded data removed]",
      "text/plain": [
       "<Figure size 1080x720 with 1 Axes>"
      ]
     },
     "metadata": {
      "needs_background": "light"
     },
     "output_type": "display_data"
    }
   ],
   "source": [
    "df = data_eggs.groupby(by='Area')['total'].sum().reset_index().sort_values(by='total', ascending=False).head(10)\n",
    "fig, ax = plt.subplots(figsize=(15,10))\n",
    "sns.barplot(df.Area, df.total,errwidth=2)\n",
    "plt.yscale('linear')\n",
    "plt.title(\"TOP 10 PRODUCERS OF EGGS\")"
   ]
  },
  {
   "cell_type": "markdown",
   "metadata": {},
   "source": [
    "### ANALYSIS OF WHEAT PRODUCTION "
   ]
  },
  {
   "cell_type": "code",
   "execution_count": 31,
   "metadata": {},
   "outputs": [
    {
     "data": {
      "text/plain": [
       "Area\n",
       "China, mainland               3789747.0\n",
       "India                         2395350.0\n",
       "United States of America      1337203.0\n",
       "Pakistan                       682977.0\n",
       "Germany                        666284.0\n",
       "France                         651621.0\n",
       "Turkey                         618851.0\n",
       "United Kingdom                 537952.0\n",
       "Italy                          530104.0\n",
       "Iran (Islamic Republic of)     464865.0\n",
       "Egypt                          449029.0\n",
       "Poland                         373984.0\n",
       "Brazil                         359295.0\n",
       "Spain                          316034.0\n",
       "Japan                          299967.0\n",
       "Canada                         266662.0\n",
       "Algeria                        230227.0\n",
       "Romania                        223294.0\n",
       "Morocco                        215189.0\n",
       "Argentina                      191616.0\n",
       "Name: total, dtype: float64"
      ]
     },
     "execution_count": 31,
     "metadata": {},
     "output_type": "execute_result"
    }
   ],
   "source": [
    "data_wheat = data[data.Item == 'Wheat and products']\n",
    "wheat_area = data_wheat.groupby(['Area'])['total'].sum()\n",
    "wheat_area.sort_values(ascending=False)[:20]"
   ]
  },
  {
   "cell_type": "code",
   "execution_count": 32,
   "metadata": {},
   "outputs": [
    {
     "data": {
      "text/plain": [
       "Text(0.5, 1.0, 'TOP 10 PRODUCERS OF WHEAT')"
      ]
     },
     "execution_count": 32,
     "metadata": {},
     "output_type": "execute_result"
    },
    {
     "data": {
      "image/png": "[encoded data removed]",
      "text/plain": [
       "<Figure size 1080x720 with 1 Axes>"
      ]
     },
     "metadata": {
      "needs_background": "light"
     },
     "output_type": "display_data"
    }
   ],
   "source": [
    "df = data_wheat.groupby(by='Area')['total'].sum().reset_index().sort_values(by='total', ascending=False).head(10)\n",
    "fig, ax = plt.subplots(figsize=(15,10))\n",
    "sns.barplot(df.Area, df.total,errwidth=2)\n",
    "plt.yscale('linear')\n",
    "plt.title(\"TOP 10 PRODUCERS OF WHEAT\")"
   ]
  },
  {
   "cell_type": "markdown",
   "metadata": {},
   "source": [
    "### ALCOHOL PRODUCTION"
   ]
  },
  {
   "cell_type": "code",
   "execution_count": 33,
   "metadata": {},
   "outputs": [
    {
     "data": {
      "text/plain": [
       "Text(0.5, 1.0, 'TOP 10 PRODUCERS OF ALCOHOL')"
      ]
     },
     "execution_count": 33,
     "metadata": {},
     "output_type": "execute_result"
    },
    {
     "data": {
      "image/png": "[encoded data removed]",
      "text/plain": [
       "<Figure size 1080x720 with 1 Axes>"
      ]
     },
     "metadata": {
      "needs_background": "light"
     },
     "output_type": "display_data"
    }
   ],
   "source": [
    "data_alc = data[data.Item == 'Alcoholic Beverages'] \n",
    "df = data_alc.groupby(by='Area')['total'].sum().reset_index().sort_values(by='total', ascending=False).head(10)\n",
    "fig, ax = plt.subplots(figsize=(15,10))\n",
    "sns.barplot(df.Area, df.total,errwidth=2)\n",
    "plt.yscale('linear')\n",
    "plt.title(\"TOP 10 PRODUCERS OF ALCOHOL\")"
   ]
  },
  {
   "cell_type": "markdown",
   "metadata": {},
   "source": [
    "#  COUNTRY WISE PRODUCTION ANALYSIS"
   ]
  },
  {
   "cell_type": "markdown",
   "metadata": {},
   "source": [
    "## PRODUCTION IN INDIA"
   ]
  },
  {
   "cell_type": "code",
   "execution_count": 34,
   "metadata": {},
   "outputs": [
    {
     "data": {
      "text/plain": [
       "Item\n",
       "Cereals - Excluding Beer      7054151.0\n",
       "Milk - Excluding Butter       5913552.0\n",
       "Rice (Milled Equivalent)      3220454.0\n",
       "Vegetables                    2572232.0\n",
       "Wheat and products            2395350.0\n",
       "Vegetables, Other             2116819.0\n",
       "Fruits - Excluding Wine       1549199.0\n",
       "Starchy Roots                  976248.0\n",
       "Sugar & Sweeteners             963271.0\n",
       "Fruits, Other                  832861.0\n",
       "Pulses                         661514.0\n",
       "Sugar Crops                    642680.0\n",
       "Sugar cane                     642680.0\n",
       "Potatoes and products          615605.0\n",
       "Sugar (Raw Equivalent)         612956.0\n",
       "Millet and products            479813.0\n",
       "Pulses, Other and products     466690.0\n",
       "Sorghum and products           450934.0\n",
       "Bananas                        431363.0\n",
       "Maize and products             416909.0\n",
       "Name: total, dtype: float64"
      ]
     },
     "execution_count": 34,
     "metadata": {},
     "output_type": "execute_result"
    }
   ],
   "source": [
    "data_ind = data[data.Area == 'India']\n",
    "ind_data = data_ind.groupby(['Item'])['total'].sum()\n",
    "ind_data.sort_values(ascending=False)[:20]"
   ]
  },
  {
   "cell_type": "code",
   "execution_count": 35,
   "metadata": {},
   "outputs": [
    {
     "data": {
      "text/plain": [
       "Text(0.5, 1.0, \"INDIA'S OVERALL PRODUCTION\")"
      ]
     },
     "execution_count": 35,
     "metadata": {},
     "output_type": "execute_result"
    },
    {
     "data": {
      "image/png": "[encoded data removed]",
      "text/plain": [
       "<Figure size 2160x1080 with 1 Axes>"
      ]
     },
     "metadata": {
      "needs_background": "light"
     },
     "output_type": "display_data"
    }
   ],
   "source": [
    "df = data_ind.groupby(by='Item')['total'].sum().reset_index().sort_values(by='total', ascending=False).head(15)\n",
    "fig, ax = plt.subplots(figsize=(30,15))\n",
    "sns.barplot(df.Item, df.total,errwidth=2)\n",
    "plt.yscale('linear')\n",
    "plt.title(\"INDIA'S OVERALL PRODUCTION\")"
   ]
  },
  {
   "cell_type": "markdown",
   "metadata": {},
   "source": [
    "## PRODUCTION IN NAMIBIA"
   ]
  },
  {
   "cell_type": "code",
   "execution_count": 36,
   "metadata": {},
   "outputs": [
    {
     "data": {
      "text/plain": [
       "Item\n",
       "Milk - Excluding Butter     10366.0\n",
       "Starchy Roots               10109.0\n",
       "Roots, Other                 9634.0\n",
       "Cereals - Excluding Beer     9189.0\n",
       "Maize and products           4011.0\n",
       "Fish, Seafood                2744.0\n",
       "Meat                         2341.0\n",
       "Fruits - Excluding Wine      2247.0\n",
       "Alcoholic Beverages          2197.0\n",
       "Wheat and products           2168.0\n",
       "Pelagic Fish                 2111.0\n",
       "Millet and products          2019.0\n",
       "Sugar & Sweeteners           2008.0\n",
       "Sugar (Raw Equivalent)       1972.0\n",
       "Beer                         1839.0\n",
       "Vegetables                   1742.0\n",
       "Fruits, Other                1586.0\n",
       "Vegetables, Other            1343.0\n",
       "Bovine Meat                   783.0\n",
       "Mutton & Goat Meat            692.0\n",
       "Name: total, dtype: float64"
      ]
     },
     "execution_count": 36,
     "metadata": {},
     "output_type": "execute_result"
    }
   ],
   "source": [
    "data_nmb = data[data.Area == 'Namibia']\n",
    "nmb_data = data_nmb.groupby(['Item'])['total'].sum()\n",
    "nmb_data.sort_values(ascending=False)[:20]"
   ]
  },
  {
   "cell_type": "code",
   "execution_count": 37,
   "metadata": {},
   "outputs": [
    {
     "data": {
      "text/plain": [
       "Text(0.5, 1.0, \"NAMIBIA'S OVERALL PRODUCTION\")"
      ]
     },
     "execution_count": 37,
     "metadata": {},
     "output_type": "execute_result"
    },
    {
     "data": {
      "image/png": "[encoded data removed]",
      "text/plain": [
       "<Figure size 2160x1080 with 1 Axes>"
      ]
     },
     "metadata": {
      "needs_background": "light"
     },
     "output_type": "display_data"
    }
   ],
   "source": [
    "df = data_nmb.groupby(by='Item')['total'].sum().reset_index().sort_values(by='total', ascending=False).head(15)\n",
    "fig, ax = plt.subplots(figsize=(30,15))\n",
    "sns.barplot(df.Item, df.total,errwidth=2)\n",
    "plt.yscale('linear')\n",
    "plt.title(\"NAMIBIA'S OVERALL PRODUCTION\")"
   ]
  },
  {
   "cell_type": "markdown",
   "metadata": {},
   "source": [
    "#  YEAR WISE PRODUCTION ANALYSIS"
   ]
  },
  {
   "cell_type": "markdown",
   "metadata": {},
   "source": [
    "### PRODUCTION IN 1961"
   ]
  },
  {
   "cell_type": "code",
   "execution_count": 38,
   "metadata": {},
   "outputs": [
    {
     "data": {
      "text/plain": [
       "Item\n",
       "Cereals - Excluding Beer    588894.0\n",
       "Milk - Excluding Butter     500986.0\n",
       "Starchy Roots               282832.0\n",
       "Vegetables                  179658.0\n",
       "Maize and products          168039.0\n",
       "Vegetables, Other           147094.0\n",
       "Wheat and products          138829.0\n",
       "Potatoes and products       129648.0\n",
       "Rice (Milled Equivalent)    122700.0\n",
       "Fruits - Excluding Wine     109963.0\n",
       "Sweet potatoes               90049.0\n",
       "Alcoholic Beverages          69924.0\n",
       "Meat                         59002.0\n",
       "Cassava and products         53409.0\n",
       "Sugar & Sweeteners           52390.0\n",
       "Barley and products          46180.0\n",
       "Fruits, Other                40040.0\n",
       "Sugar (Raw Equivalent)       39977.0\n",
       "Beer                         37589.0\n",
       "Oats                         35770.0\n",
       "Name: Y1961, dtype: float64"
      ]
     },
     "execution_count": 38,
     "metadata": {},
     "output_type": "execute_result"
    }
   ],
   "source": [
    "data_yr = data[['Area','Item','Y1961']]\n",
    "y1961_data = data_yr.groupby(['Item'])['Y1961'].sum()\n",
    "y1961_data.sort_values(ascending=False)[:20]"
   ]
  },
  {
   "cell_type": "code",
   "execution_count": 39,
   "metadata": {},
   "outputs": [
    {
     "data": {
      "text/plain": [
       "Text(0.5, 1.0, \"1961'S OVERALL PRODUCTION\")"
      ]
     },
     "execution_count": 39,
     "metadata": {},
     "output_type": "execute_result"
    },
    {
     "data": {
      "image/png": "[encoded data removed]",
      "text/plain": [
       "<Figure size 2160x1080 with 1 Axes>"
      ]
     },
     "metadata": {
      "needs_background": "light"
     },
     "output_type": "display_data"
    }
   ],
   "source": [
    "df = data_yr.groupby(by='Item')['Y1961'].sum().reset_index().sort_values(by='Y1961', ascending=False).head(15)\n",
    "fig, ax = plt.subplots(figsize=(30,15))\n",
    "sns.barplot(df.Item, df.Y1961,errwidth=2)\n",
    "plt.yscale('linear')\n",
    "plt.title(\"1961'S OVERALL PRODUCTION\")"
   ]
  },
  {
   "cell_type": "markdown",
   "metadata": {},
   "source": [
    "### PRODUCTION IN 1998"
   ]
  },
  {
   "cell_type": "code",
   "execution_count": 40,
   "metadata": {},
   "outputs": [
    {
     "data": {
      "text/plain": [
       "Item\n",
       "Cereals - Excluding Beer    1432323.0\n",
       "Milk - Excluding Butter      885046.0\n",
       "Vegetables                   551900.0\n",
       "Maize and products           462343.0\n",
       "Starchy Roots                453604.0\n",
       "Wheat and products           439071.0\n",
       "Vegetables, Other            437695.0\n",
       "Rice (Milled Equivalent)     335789.0\n",
       "Fruits - Excluding Wine      328184.0\n",
       "Meat                         196616.0\n",
       "Potatoes and products        181593.0\n",
       "Alcoholic Beverages          175652.0\n",
       "Sugar & Sweeteners           133041.0\n",
       "Sweet potatoes               124999.0\n",
       "Cassava and products         117687.0\n",
       "Beer                         117655.0\n",
       "Fish, Seafood                106247.0\n",
       "Sugar (Raw Equivalent)       105562.0\n",
       "Fruits, Other                 98980.0\n",
       "Eggs                          84188.0\n",
       "Name: Y1998, dtype: float64"
      ]
     },
     "execution_count": 40,
     "metadata": {},
     "output_type": "execute_result"
    }
   ],
   "source": [
    "data_yr = data[['Area','Item','Y1998']]\n",
    "yr1998_data = data_yr.groupby(['Item'])['Y1998'].sum()\n",
    "yr1998_data.sort_values(ascending=False)[:20]"
   ]
  },
  {
   "cell_type": "code",
   "execution_count": 41,
   "metadata": {},
   "outputs": [
    {
     "data": {
      "text/plain": [
       "Text(0.5, 1.0, \"1998'S OVERALL PRODUCTION\")"
      ]
     },
     "execution_count": 41,
     "metadata": {},
     "output_type": "execute_result"
    },
    {
     "data": {
      "image/png": "[encoded data removed]",
      "text/plain": [
       "<Figure size 2160x1080 with 1 Axes>"
      ]
     },
     "metadata": {
      "needs_background": "light"
     },
     "output_type": "display_data"
    }
   ],
   "source": [
    "df = data_yr.groupby(by='Item')['Y1998'].sum().reset_index().sort_values(by='Y1998', ascending=False).head(15)\n",
    "fig, ax = plt.subplots(figsize=(30,15))\n",
    "sns.barplot(df.Item, df.Y1998,errwidth=2)\n",
    "plt.yscale('linear')\n",
    "plt.title(\"1998'S OVERALL PRODUCTION\")"
   ]
  },
  {
   "cell_type": "markdown",
   "metadata": {},
   "source": [
    "### PRODUCTION IN 2013"
   ]
  },
  {
   "cell_type": "code",
   "execution_count": 42,
   "metadata": {},
   "outputs": [
    {
     "data": {
      "text/plain": [
       "Item\n",
       "Cereals - Excluding Beer    1745653\n",
       "Milk - Excluding Butter     1238802\n",
       "Vegetables                   971615\n",
       "Vegetables, Other            768458\n",
       "Maize and products           632847\n",
       "Starchy Roots                557021\n",
       "Fruits - Excluding Wine      517523\n",
       "Wheat and products           515473\n",
       "Rice (Milled Equivalent)     408832\n",
       "Meat                         279446\n",
       "Alcoholic Beverages          235274\n",
       "Potatoes and products        232169\n",
       "Cassava and products         187657\n",
       "Fruits, Other                175170\n",
       "Beer                         168181\n",
       "Sugar & Sweeteners           157930\n",
       "Fish, Seafood                149030\n",
       "Tomatoes and products        133468\n",
       "Sugar (Raw Equivalent)       129958\n",
       "Eggs                         119808\n",
       "Name: Y2013, dtype: int64"
      ]
     },
     "execution_count": 42,
     "metadata": {},
     "output_type": "execute_result"
    }
   ],
   "source": [
    "data_yr = data[['Area','Item','Y2013']]\n",
    "yr1998_data = data_yr.groupby(['Item'])['Y2013'].sum()\n",
    "yr1998_data.sort_values(ascending=False)[:20]"
   ]
  },
  {
   "cell_type": "code",
   "execution_count": 43,
   "metadata": {},
   "outputs": [
    {
     "data": {
      "text/plain": [
       "Text(0.5, 1.0, \"2013'S OVERALL PRODUCTION\")"
      ]
     },
     "execution_count": 43,
     "metadata": {},
     "output_type": "execute_result"
    },
    {
     "data": {
      "image/png": "[encoded data removed]",
      "text/plain": [
       "<Figure size 2160x1080 with 1 Axes>"
      ]
     },
     "metadata": {
      "needs_background": "light"
     },
     "output_type": "display_data"
    }
   ],
   "source": [
    "df = data_yr.groupby(by='Item')['Y2013'].sum().reset_index().sort_values(by='Y2013', ascending=False).head(15)\n",
    "fig, ax = plt.subplots(figsize=(30,15))\n",
    "sns.barplot(df.Item, df.Y2013,errwidth=2)\n",
    "plt.yscale('linear')\n",
    "plt.title(\"2013'S OVERALL PRODUCTION\")"
   ]
  },
  {
   "cell_type": "code",
   "execution_count": null,
   "metadata": {},
   "outputs": [],
   "source": []
  }
 ],
 "metadata": {
  "kernelspec": {
   "display_name": "Python 3",
   "language": "python",
   "name": "python3"
  },
  "language_info": {
   "codemirror_mode": {
    "name": "ipython",
    "version": 3
   },
   "file_extension": ".py",
   "mimetype": "text/x-python",
   "name": "python",
   "nbconvert_exporter": "python",
   "pygments_lexer": "ipython3",
   "version": "3.7.0"
  }
 },
 "nbformat": 4,
 "nbformat_minor": 2
}
